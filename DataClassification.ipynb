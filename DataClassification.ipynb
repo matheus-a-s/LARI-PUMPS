{
 "cells": [
  {
   "cell_type": "code",
   "execution_count": 27,
   "metadata": {},
   "outputs": [],
   "source": [
    "import numpy as np\n",
    "import pandas as pd\n",
    "import matplotlib.pyplot as plt\n",
    "from os import path\n",
    "\n",
    "# Classifiers\n",
    "from sklearn.naive_bayes import GaussianNB # Gaussiana de Naive-Bayes\n",
    "from sklearn.neural_network import MLPClassifier # Multi-layer Perceptron\n",
    "from sklearn.neighbors import KNeighborsClassifier # K-Nearest Neighbors\n",
    "from sklearn.tree import DecisionTreeClassifier # Decision Tree\n",
    "from sklearn.ensemble import RandomForestClassifier # Random Forest\n",
    "from sklearn.ensemble import AdaBoostClassifier # AdaBoost\n",
    "from sklearn.svm import SVC # Support Vector Machine (Linear, Polynomial, RBF)\n",
    "\n",
    "# Metrics\n",
    "from sklearn.metrics import accuracy_score\n",
    "from sklearn.metrics import precision_score\n",
    "from imblearn.metrics import sensitivity_score\n",
    "from imblearn.metrics import specificity_score\n",
    "from sklearn.metrics import f1_score"
   ]
  },
  {
   "cell_type": "code",
   "execution_count": 28,
   "metadata": {},
   "outputs": [],
   "source": [
    "datasets_name_list = ['Raw', 'Normalized', 'Fourier', 'HOS', 'SCM']\n",
    "\n",
    "classifiers_name_list = ['Naive_Bayes','MLP','Nearest_Neighbors','Random_Forest','SVM_Linear','SVM_Polynomial','SVM_RBF']\n",
    "\n",
    "metrics_name_list = ['accuracy', 'precision', 'sensitivity', 'specificity', 'f1_score']"
   ]
  },
  {
   "cell_type": "code",
   "execution_count": 29,
   "metadata": {},
   "outputs": [],
   "source": [
    "# Load datasets\n",
    "RawDs = pd.read_csv(path.join(\"..\",\"results\",\"extraction\",\"32FINAL.csv\"))\n",
    "NormDs = pd.read_csv(path.join(\"..\",\"results\",\"extraction\",\"32FINAL_NORM.csv\"))\n",
    "FourierDs = pd.read_csv(path.join(\"..\",\"results\",\"extraction\",\"32FINAL_Fourier.csv\"))\n",
    "HOSDs = pd.read_csv(path.join(\"..\",\"results\",\"extraction\",\"32FINAL_HOS.csv\"))\n",
    "SCMDs = pd.read_csv(path.join(\"..\",\"results\",\"extraction\",\"32FINAL_SCM.csv\"))\n",
    "\n",
    "# Exclude Tmp columns\n",
    "RawDs = RawDs.drop(columns=['Tmp'+str(i) for i in range(100)])\n",
    "NormDs = NormDs.drop(columns=['Tmp'+str(i) for i in range(100)])\n",
    "\n",
    "# Put it into a list\n",
    "datasets_list = [RawDs, NormDs, FourierDs, HOSDs, SCMDs]"
   ]
  },
  {
   "cell_type": "code",
   "execution_count": 53,
   "metadata": {},
   "outputs": [],
   "source": [
    "from scipy.stats import randint\n",
    "\n",
    "# Load classifiers\n",
    "classifiers_list = [GaussianNB(),        \n",
    "                    MLPClassifier(max_iter=1000, solver='adam', learning_rate_init=5e-04),      \n",
    "                    KNeighborsClassifier(),   \n",
    "                    RandomForestClassifier(),\n",
    "                    SVC(kernel='linear', probability=True, max_iter=3000, tol=1e-3),\n",
    "                    SVC(kernel='poly', probability=True, max_iter=3000, tol=1e-3),\n",
    "                    SVC(kernel='rbf', probability=True, max_iter=3000, tol=1e-3)\n",
    "                   ]\n",
    "\n",
    "param_dist_dict = {'Naive_Bayes': [], \n",
    "                   'MLP': {\"hidden_layer_sizes\": list(np.arange(2,1001))},\n",
    "                   'Nearest_Neighbors': {\"n_neighbors\": [1,3,5,7,9,11]}, \n",
    "                   'Random_Forest': {\"n_estimators\": [3000],\n",
    "                                     \"max_depth\": [6, None],\n",
    "                                     \"max_features\": randint(1, 11),\n",
    "                                     \"min_samples_split\": randint(2, 11),\n",
    "                                     \"min_samples_leaf\": randint(1, 11),\n",
    "                                     \"bootstrap\": [True, False],\n",
    "                                     \"criterion\": [\"gini\", \"entropy\"]},\n",
    "                    'SVM_Linear': {'kernel': ['linear'], 'C': [2**i for i in range(-5,15)]},\n",
    "                    'SVM_Polynomial': {'kernel': ['poly'], 'degree': [3, 5, 7 ,9], 'C': [2**i for i in range(-5,15)]},                    \n",
    "                    'SVM_RBF': {'kernel': ['rbf'], 'gamma': [2**i for i in range(-15,3)],\n",
    "                                'C': [2**i for i in range(-5,15)]}\n",
    "                  }"
   ]
  },
  {
   "cell_type": "code",
   "execution_count": 54,
   "metadata": {},
   "outputs": [
    {
     "name": "stdout",
     "output_type": "stream",
     "text": [
      "{'SVM_Polynomial': [], 'MLP': [], 'SVM_Linear': [], 'Naive_Bayes': [], 'SVM_RBF': [], 'Nearest_Neighbors': [], 'Random_Forest': []}\n",
      "Naive_Bayes\n",
      "MLP\n",
      "Fitting 3 folds for each of 5 candidates, totalling 15 fits\n",
      "[CV] hidden_layer_sizes=344 ..........................................\n"
     ]
    },
    {
     "name": "stderr",
     "output_type": "stream",
     "text": [
      "[Parallel(n_jobs=1)]: Using backend SequentialBackend with 1 concurrent workers.\n"
     ]
    },
    {
     "name": "stdout",
     "output_type": "stream",
     "text": [
      "[CV] .............. hidden_layer_sizes=344, score=0.651, total=   1.6s\n",
      "[CV] hidden_layer_sizes=344 ..........................................\n"
     ]
    },
    {
     "name": "stderr",
     "output_type": "stream",
     "text": [
      "[Parallel(n_jobs=1)]: Done   1 out of   1 | elapsed:    1.6s remaining:    0.0s\n"
     ]
    },
    {
     "name": "stdout",
     "output_type": "stream",
     "text": [
      "[CV] .............. hidden_layer_sizes=344, score=0.597, total=   1.5s\n",
      "[CV] hidden_layer_sizes=344 ..........................................\n"
     ]
    },
    {
     "name": "stderr",
     "output_type": "stream",
     "text": [
      "[Parallel(n_jobs=1)]: Done   2 out of   2 | elapsed:    3.1s remaining:    0.0s\n"
     ]
    },
    {
     "name": "stdout",
     "output_type": "stream",
     "text": [
      "[CV] .............. hidden_layer_sizes=344, score=0.577, total=   1.9s\n",
      "[CV] hidden_layer_sizes=106 ..........................................\n"
     ]
    },
    {
     "name": "stderr",
     "output_type": "stream",
     "text": [
      "[Parallel(n_jobs=1)]: Done   3 out of   3 | elapsed:    5.0s remaining:    0.0s\n"
     ]
    },
    {
     "name": "stdout",
     "output_type": "stream",
     "text": [
      "[CV] .............. hidden_layer_sizes=106, score=0.540, total=   1.0s\n",
      "[CV] hidden_layer_sizes=106 ..........................................\n"
     ]
    },
    {
     "name": "stderr",
     "output_type": "stream",
     "text": [
      "[Parallel(n_jobs=1)]: Done   4 out of   4 | elapsed:    6.0s remaining:    0.0s\n"
     ]
    },
    {
     "name": "stdout",
     "output_type": "stream",
     "text": [
      "[CV] .............. hidden_layer_sizes=106, score=0.480, total=   1.0s\n",
      "[CV] hidden_layer_sizes=106 ..........................................\n",
      "[CV] .............. hidden_layer_sizes=106, score=0.497, total=   1.0s\n",
      "[CV] hidden_layer_sizes=463 ..........................................\n",
      "[CV] .............. hidden_layer_sizes=463, score=0.599, total=   1.9s\n",
      "[CV] hidden_layer_sizes=463 ..........................................\n",
      "[CV] .............. hidden_layer_sizes=463, score=0.597, total=   1.8s\n",
      "[CV] hidden_layer_sizes=463 ..........................................\n",
      "[CV] .............. hidden_layer_sizes=463, score=0.626, total=   1.8s\n",
      "[CV] hidden_layer_sizes=62 ...........................................\n",
      "[CV] ............... hidden_layer_sizes=62, score=0.480, total=   0.9s\n",
      "[CV] hidden_layer_sizes=62 ...........................................\n",
      "[CV] ............... hidden_layer_sizes=62, score=0.501, total=   1.0s\n",
      "[CV] hidden_layer_sizes=62 ...........................................\n",
      "[CV] ............... hidden_layer_sizes=62, score=0.475, total=   1.4s\n",
      "[CV] hidden_layer_sizes=243 ..........................................\n",
      "[CV] .............. hidden_layer_sizes=243, score=0.569, total=   1.4s\n",
      "[CV] hidden_layer_sizes=243 ..........................................\n",
      "[CV] .............. hidden_layer_sizes=243, score=0.550, total=   1.2s\n",
      "[CV] hidden_layer_sizes=243 ..........................................\n",
      "[CV] .............. hidden_layer_sizes=243, score=0.563, total=   1.2s\n"
     ]
    },
    {
     "name": "stderr",
     "output_type": "stream",
     "text": [
      "[Parallel(n_jobs=1)]: Done  15 out of  15 | elapsed:   20.7s finished\n"
     ]
    },
    {
     "name": "stdout",
     "output_type": "stream",
     "text": [
      "Nearest_Neighbors\n",
      "Fitting 3 folds for each of 5 candidates, totalling 15 fits\n",
      "[CV] n_neighbors=7 ...................................................\n"
     ]
    },
    {
     "name": "stderr",
     "output_type": "stream",
     "text": [
      "[Parallel(n_jobs=1)]: Using backend SequentialBackend with 1 concurrent workers.\n"
     ]
    },
    {
     "name": "stdout",
     "output_type": "stream",
     "text": [
      "[CV] ....................... n_neighbors=7, score=0.376, total=   0.4s\n",
      "[CV] n_neighbors=7 ...................................................\n"
     ]
    },
    {
     "name": "stderr",
     "output_type": "stream",
     "text": [
      "[Parallel(n_jobs=1)]: Done   1 out of   1 | elapsed:    0.5s remaining:    0.0s\n"
     ]
    },
    {
     "name": "stdout",
     "output_type": "stream",
     "text": [
      "[CV] ....................... n_neighbors=7, score=0.455, total=   0.4s\n",
      "[CV] n_neighbors=7 ...................................................\n"
     ]
    },
    {
     "name": "stderr",
     "output_type": "stream",
     "text": [
      "[Parallel(n_jobs=1)]: Done   2 out of   2 | elapsed:    0.9s remaining:    0.0s\n"
     ]
    },
    {
     "name": "stdout",
     "output_type": "stream",
     "text": [
      "[CV] ....................... n_neighbors=7, score=0.404, total=   0.4s\n",
      "[CV] n_neighbors=11 ..................................................\n"
     ]
    },
    {
     "name": "stderr",
     "output_type": "stream",
     "text": [
      "[Parallel(n_jobs=1)]: Done   3 out of   3 | elapsed:    1.3s remaining:    0.0s\n"
     ]
    },
    {
     "name": "stdout",
     "output_type": "stream",
     "text": [
      "[CV] ...................... n_neighbors=11, score=0.332, total=   0.4s\n",
      "[CV] n_neighbors=11 ..................................................\n"
     ]
    },
    {
     "name": "stderr",
     "output_type": "stream",
     "text": [
      "[Parallel(n_jobs=1)]: Done   4 out of   4 | elapsed:    1.7s remaining:    0.0s\n"
     ]
    },
    {
     "name": "stdout",
     "output_type": "stream",
     "text": [
      "[CV] ...................... n_neighbors=11, score=0.384, total=   0.4s\n",
      "[CV] n_neighbors=11 ..................................................\n",
      "[CV] ...................... n_neighbors=11, score=0.328, total=   0.4s\n",
      "[CV] n_neighbors=3 ...................................................\n",
      "[CV] ....................... n_neighbors=3, score=0.507, total=   0.4s\n",
      "[CV] n_neighbors=3 ...................................................\n",
      "[CV] ....................... n_neighbors=3, score=0.501, total=   0.4s\n",
      "[CV] n_neighbors=3 ...................................................\n",
      "[CV] ....................... n_neighbors=3, score=0.530, total=   0.4s\n",
      "[CV] n_neighbors=1 ...................................................\n",
      "[CV] ....................... n_neighbors=1, score=0.638, total=   0.4s\n",
      "[CV] n_neighbors=1 ...................................................\n",
      "[CV] ....................... n_neighbors=1, score=0.670, total=   0.4s\n",
      "[CV] n_neighbors=1 ...................................................\n",
      "[CV] ....................... n_neighbors=1, score=0.667, total=   0.4s\n",
      "[CV] n_neighbors=9 ...................................................\n",
      "[CV] ....................... n_neighbors=9, score=0.338, total=   0.4s\n",
      "[CV] n_neighbors=9 ...................................................\n",
      "[CV] ....................... n_neighbors=9, score=0.414, total=   0.4s\n",
      "[CV] n_neighbors=9 ...................................................\n",
      "[CV] ....................... n_neighbors=9, score=0.355, total=   0.4s\n",
      "Random_Forest\n",
      "Fitting 3 folds for each of 5 candidates, totalling 15 fits\n",
      "[CV] n_estimators=3000, bootstrap=True, min_samples_leaf=2, max_depth=None, min_samples_split=7, max_features=8, criterion=entropy \n"
     ]
    },
    {
     "name": "stderr",
     "output_type": "stream",
     "text": [
      "[Parallel(n_jobs=1)]: Done  15 out of  15 | elapsed:    6.2s finished\n",
      "[Parallel(n_jobs=1)]: Using backend SequentialBackend with 1 concurrent workers.\n"
     ]
    },
    {
     "name": "stdout",
     "output_type": "stream",
     "text": [
      "[CV]  n_estimators=3000, bootstrap=True, min_samples_leaf=2, max_depth=None, min_samples_split=7, max_features=8, criterion=entropy, score=0.913, total=  52.8s\n",
      "[CV] n_estimators=3000, bootstrap=True, min_samples_leaf=2, max_depth=None, min_samples_split=7, max_features=8, criterion=entropy \n"
     ]
    },
    {
     "name": "stderr",
     "output_type": "stream",
     "text": [
      "[Parallel(n_jobs=1)]: Done   1 out of   1 | elapsed:   52.8s remaining:    0.0s\n"
     ]
    },
    {
     "name": "stdout",
     "output_type": "stream",
     "text": [
      "[CV]  n_estimators=3000, bootstrap=True, min_samples_leaf=2, max_depth=None, min_samples_split=7, max_features=8, criterion=entropy, score=0.913, total=  53.0s\n",
      "[CV] n_estimators=3000, bootstrap=True, min_samples_leaf=2, max_depth=None, min_samples_split=7, max_features=8, criterion=entropy \n"
     ]
    },
    {
     "name": "stderr",
     "output_type": "stream",
     "text": [
      "[Parallel(n_jobs=1)]: Done   2 out of   2 | elapsed:  1.8min remaining:    0.0s\n"
     ]
    },
    {
     "name": "stdout",
     "output_type": "stream",
     "text": [
      "[CV]  n_estimators=3000, bootstrap=True, min_samples_leaf=2, max_depth=None, min_samples_split=7, max_features=8, criterion=entropy, score=0.910, total=  53.3s\n",
      "[CV] n_estimators=3000, bootstrap=False, min_samples_leaf=5, max_depth=6, min_samples_split=8, max_features=8, criterion=entropy \n"
     ]
    },
    {
     "name": "stderr",
     "output_type": "stream",
     "text": [
      "[Parallel(n_jobs=1)]: Done   3 out of   3 | elapsed:  2.7min remaining:    0.0s\n"
     ]
    },
    {
     "name": "stdout",
     "output_type": "stream",
     "text": [
      "[CV]  n_estimators=3000, bootstrap=False, min_samples_leaf=5, max_depth=6, min_samples_split=8, max_features=8, criterion=entropy, score=0.907, total=  44.7s\n",
      "[CV] n_estimators=3000, bootstrap=False, min_samples_leaf=5, max_depth=6, min_samples_split=8, max_features=8, criterion=entropy \n"
     ]
    },
    {
     "name": "stderr",
     "output_type": "stream",
     "text": [
      "[Parallel(n_jobs=1)]: Done   4 out of   4 | elapsed:  3.4min remaining:    0.0s\n"
     ]
    },
    {
     "name": "stdout",
     "output_type": "stream",
     "text": [
      "[CV]  n_estimators=3000, bootstrap=False, min_samples_leaf=5, max_depth=6, min_samples_split=8, max_features=8, criterion=entropy, score=0.910, total=  44.7s\n",
      "[CV] n_estimators=3000, bootstrap=False, min_samples_leaf=5, max_depth=6, min_samples_split=8, max_features=8, criterion=entropy \n",
      "[CV]  n_estimators=3000, bootstrap=False, min_samples_leaf=5, max_depth=6, min_samples_split=8, max_features=8, criterion=entropy, score=0.910, total=  44.9s\n",
      "[CV] n_estimators=3000, bootstrap=True, min_samples_leaf=3, max_depth=None, min_samples_split=2, max_features=9, criterion=gini \n",
      "[CV]  n_estimators=3000, bootstrap=True, min_samples_leaf=3, max_depth=None, min_samples_split=2, max_features=9, criterion=gini, score=0.913, total=  20.6s\n",
      "[CV] n_estimators=3000, bootstrap=True, min_samples_leaf=3, max_depth=None, min_samples_split=2, max_features=9, criterion=gini \n",
      "[CV]  n_estimators=3000, bootstrap=True, min_samples_leaf=3, max_depth=None, min_samples_split=2, max_features=9, criterion=gini, score=0.913, total=  20.6s\n",
      "[CV] n_estimators=3000, bootstrap=True, min_samples_leaf=3, max_depth=None, min_samples_split=2, max_features=9, criterion=gini \n",
      "[CV]  n_estimators=3000, bootstrap=True, min_samples_leaf=3, max_depth=None, min_samples_split=2, max_features=9, criterion=gini, score=0.910, total=  20.6s\n",
      "[CV] n_estimators=3000, bootstrap=False, min_samples_leaf=5, max_depth=6, min_samples_split=10, max_features=5, criterion=gini \n",
      "[CV]  n_estimators=3000, bootstrap=False, min_samples_leaf=5, max_depth=6, min_samples_split=10, max_features=5, criterion=gini, score=0.907, total=  10.9s\n",
      "[CV] n_estimators=3000, bootstrap=False, min_samples_leaf=5, max_depth=6, min_samples_split=10, max_features=5, criterion=gini \n",
      "[CV]  n_estimators=3000, bootstrap=False, min_samples_leaf=5, max_depth=6, min_samples_split=10, max_features=5, criterion=gini, score=0.910, total=  10.9s\n",
      "[CV] n_estimators=3000, bootstrap=False, min_samples_leaf=5, max_depth=6, min_samples_split=10, max_features=5, criterion=gini \n",
      "[CV]  n_estimators=3000, bootstrap=False, min_samples_leaf=5, max_depth=6, min_samples_split=10, max_features=5, criterion=gini, score=0.910, total=  11.0s\n",
      "[CV] n_estimators=3000, bootstrap=False, min_samples_leaf=7, max_depth=None, min_samples_split=4, max_features=6, criterion=gini \n",
      "[CV]  n_estimators=3000, bootstrap=False, min_samples_leaf=7, max_depth=None, min_samples_split=4, max_features=6, criterion=gini, score=0.910, total=  21.6s\n",
      "[CV] n_estimators=3000, bootstrap=False, min_samples_leaf=7, max_depth=None, min_samples_split=4, max_features=6, criterion=gini \n",
      "[CV]  n_estimators=3000, bootstrap=False, min_samples_leaf=7, max_depth=None, min_samples_split=4, max_features=6, criterion=gini, score=0.913, total=  21.8s\n",
      "[CV] n_estimators=3000, bootstrap=False, min_samples_leaf=7, max_depth=None, min_samples_split=4, max_features=6, criterion=gini \n",
      "[CV]  n_estimators=3000, bootstrap=False, min_samples_leaf=7, max_depth=None, min_samples_split=4, max_features=6, criterion=gini, score=0.910, total=  21.7s\n"
     ]
    },
    {
     "name": "stderr",
     "output_type": "stream",
     "text": [
      "[Parallel(n_jobs=1)]: Done  15 out of  15 | elapsed:  7.6min finished\n"
     ]
    },
    {
     "name": "stdout",
     "output_type": "stream",
     "text": [
      "SVM_Linear\n",
      "Fitting 3 folds for each of 5 candidates, totalling 15 fits\n",
      "[CV] kernel=linear, C=4 ..............................................\n"
     ]
    },
    {
     "name": "stderr",
     "output_type": "stream",
     "text": [
      "[Parallel(n_jobs=1)]: Using backend SequentialBackend with 1 concurrent workers.\n",
      "/home/matheus-a-s/.virtualenvs/.PumpsEnv/lib/python3.5/site-packages/sklearn/svm/_base.py:231: ConvergenceWarning: Solver terminated early (max_iter=3000).  Consider pre-processing your data with StandardScaler or MinMaxScaler.\n",
      "  % self.max_iter, ConvergenceWarning)\n"
     ]
    },
    {
     "name": "stdout",
     "output_type": "stream",
     "text": [
      "[CV] .................. kernel=linear, C=4, score=0.330, total=   4.1s\n",
      "[CV] kernel=linear, C=4 ..............................................\n"
     ]
    },
    {
     "name": "stderr",
     "output_type": "stream",
     "text": [
      "[Parallel(n_jobs=1)]: Done   1 out of   1 | elapsed:    4.1s remaining:    0.0s\n",
      "/home/matheus-a-s/.virtualenvs/.PumpsEnv/lib/python3.5/site-packages/sklearn/svm/_base.py:231: ConvergenceWarning: Solver terminated early (max_iter=3000).  Consider pre-processing your data with StandardScaler or MinMaxScaler.\n",
      "  % self.max_iter, ConvergenceWarning)\n"
     ]
    },
    {
     "name": "stdout",
     "output_type": "stream",
     "text": [
      "[CV] .................. kernel=linear, C=4, score=0.381, total=   4.2s\n",
      "[CV] kernel=linear, C=4 ..............................................\n"
     ]
    },
    {
     "name": "stderr",
     "output_type": "stream",
     "text": [
      "[Parallel(n_jobs=1)]: Done   2 out of   2 | elapsed:    8.3s remaining:    0.0s\n",
      "/home/matheus-a-s/.virtualenvs/.PumpsEnv/lib/python3.5/site-packages/sklearn/svm/_base.py:231: ConvergenceWarning: Solver terminated early (max_iter=3000).  Consider pre-processing your data with StandardScaler or MinMaxScaler.\n",
      "  % self.max_iter, ConvergenceWarning)\n"
     ]
    },
    {
     "name": "stdout",
     "output_type": "stream",
     "text": [
      "[CV] .................. kernel=linear, C=4, score=0.361, total=   4.2s\n",
      "[CV] kernel=linear, C=16 .............................................\n"
     ]
    },
    {
     "name": "stderr",
     "output_type": "stream",
     "text": [
      "[Parallel(n_jobs=1)]: Done   3 out of   3 | elapsed:   12.5s remaining:    0.0s\n",
      "/home/matheus-a-s/.virtualenvs/.PumpsEnv/lib/python3.5/site-packages/sklearn/svm/_base.py:231: ConvergenceWarning: Solver terminated early (max_iter=3000).  Consider pre-processing your data with StandardScaler or MinMaxScaler.\n",
      "  % self.max_iter, ConvergenceWarning)\n"
     ]
    },
    {
     "name": "stdout",
     "output_type": "stream",
     "text": [
      "[CV] ................. kernel=linear, C=16, score=0.330, total=   4.1s\n",
      "[CV] kernel=linear, C=16 .............................................\n"
     ]
    },
    {
     "name": "stderr",
     "output_type": "stream",
     "text": [
      "[Parallel(n_jobs=1)]: Done   4 out of   4 | elapsed:   16.7s remaining:    0.0s\n",
      "/home/matheus-a-s/.virtualenvs/.PumpsEnv/lib/python3.5/site-packages/sklearn/svm/_base.py:231: ConvergenceWarning: Solver terminated early (max_iter=3000).  Consider pre-processing your data with StandardScaler or MinMaxScaler.\n",
      "  % self.max_iter, ConvergenceWarning)\n"
     ]
    },
    {
     "name": "stdout",
     "output_type": "stream",
     "text": [
      "[CV] ................. kernel=linear, C=16, score=0.381, total=   4.2s\n",
      "[CV] kernel=linear, C=16 .............................................\n"
     ]
    },
    {
     "name": "stderr",
     "output_type": "stream",
     "text": [
      "/home/matheus-a-s/.virtualenvs/.PumpsEnv/lib/python3.5/site-packages/sklearn/svm/_base.py:231: ConvergenceWarning: Solver terminated early (max_iter=3000).  Consider pre-processing your data with StandardScaler or MinMaxScaler.\n",
      "  % self.max_iter, ConvergenceWarning)\n"
     ]
    },
    {
     "name": "stdout",
     "output_type": "stream",
     "text": [
      "[CV] ................. kernel=linear, C=16, score=0.361, total=   4.2s\n",
      "[CV] kernel=linear, C=0.03125 ........................................\n"
     ]
    },
    {
     "name": "stderr",
     "output_type": "stream",
     "text": [
      "/home/matheus-a-s/.virtualenvs/.PumpsEnv/lib/python3.5/site-packages/sklearn/svm/_base.py:231: ConvergenceWarning: Solver terminated early (max_iter=3000).  Consider pre-processing your data with StandardScaler or MinMaxScaler.\n",
      "  % self.max_iter, ConvergenceWarning)\n"
     ]
    },
    {
     "name": "stdout",
     "output_type": "stream",
     "text": [
      "[CV] ............ kernel=linear, C=0.03125, score=0.330, total=   4.1s\n",
      "[CV] kernel=linear, C=0.03125 ........................................\n"
     ]
    },
    {
     "name": "stderr",
     "output_type": "stream",
     "text": [
      "/home/matheus-a-s/.virtualenvs/.PumpsEnv/lib/python3.5/site-packages/sklearn/svm/_base.py:231: ConvergenceWarning: Solver terminated early (max_iter=3000).  Consider pre-processing your data with StandardScaler or MinMaxScaler.\n",
      "  % self.max_iter, ConvergenceWarning)\n"
     ]
    },
    {
     "name": "stdout",
     "output_type": "stream",
     "text": [
      "[CV] ............ kernel=linear, C=0.03125, score=0.381, total=   4.2s\n",
      "[CV] kernel=linear, C=0.03125 ........................................\n"
     ]
    },
    {
     "name": "stderr",
     "output_type": "stream",
     "text": [
      "/home/matheus-a-s/.virtualenvs/.PumpsEnv/lib/python3.5/site-packages/sklearn/svm/_base.py:231: ConvergenceWarning: Solver terminated early (max_iter=3000).  Consider pre-processing your data with StandardScaler or MinMaxScaler.\n",
      "  % self.max_iter, ConvergenceWarning)\n"
     ]
    },
    {
     "name": "stdout",
     "output_type": "stream",
     "text": [
      "[CV] ............ kernel=linear, C=0.03125, score=0.361, total=   4.2s\n",
      "[CV] kernel=linear, C=4096 ...........................................\n"
     ]
    },
    {
     "name": "stderr",
     "output_type": "stream",
     "text": [
      "/home/matheus-a-s/.virtualenvs/.PumpsEnv/lib/python3.5/site-packages/sklearn/svm/_base.py:231: ConvergenceWarning: Solver terminated early (max_iter=3000).  Consider pre-processing your data with StandardScaler or MinMaxScaler.\n",
      "  % self.max_iter, ConvergenceWarning)\n"
     ]
    },
    {
     "name": "stdout",
     "output_type": "stream",
     "text": [
      "[CV] ............... kernel=linear, C=4096, score=0.330, total=   4.1s\n",
      "[CV] kernel=linear, C=4096 ...........................................\n"
     ]
    },
    {
     "name": "stderr",
     "output_type": "stream",
     "text": [
      "/home/matheus-a-s/.virtualenvs/.PumpsEnv/lib/python3.5/site-packages/sklearn/svm/_base.py:231: ConvergenceWarning: Solver terminated early (max_iter=3000).  Consider pre-processing your data with StandardScaler or MinMaxScaler.\n",
      "  % self.max_iter, ConvergenceWarning)\n"
     ]
    },
    {
     "name": "stdout",
     "output_type": "stream",
     "text": [
      "[CV] ............... kernel=linear, C=4096, score=0.381, total=   4.2s\n",
      "[CV] kernel=linear, C=4096 ...........................................\n"
     ]
    },
    {
     "name": "stderr",
     "output_type": "stream",
     "text": [
      "/home/matheus-a-s/.virtualenvs/.PumpsEnv/lib/python3.5/site-packages/sklearn/svm/_base.py:231: ConvergenceWarning: Solver terminated early (max_iter=3000).  Consider pre-processing your data with StandardScaler or MinMaxScaler.\n",
      "  % self.max_iter, ConvergenceWarning)\n"
     ]
    },
    {
     "name": "stdout",
     "output_type": "stream",
     "text": [
      "[CV] ............... kernel=linear, C=4096, score=0.361, total=   4.2s\n",
      "[CV] kernel=linear, C=512 ............................................\n"
     ]
    },
    {
     "name": "stderr",
     "output_type": "stream",
     "text": [
      "/home/matheus-a-s/.virtualenvs/.PumpsEnv/lib/python3.5/site-packages/sklearn/svm/_base.py:231: ConvergenceWarning: Solver terminated early (max_iter=3000).  Consider pre-processing your data with StandardScaler or MinMaxScaler.\n",
      "  % self.max_iter, ConvergenceWarning)\n"
     ]
    },
    {
     "name": "stdout",
     "output_type": "stream",
     "text": [
      "[CV] ................ kernel=linear, C=512, score=0.330, total=   4.1s\n",
      "[CV] kernel=linear, C=512 ............................................\n"
     ]
    },
    {
     "name": "stderr",
     "output_type": "stream",
     "text": [
      "/home/matheus-a-s/.virtualenvs/.PumpsEnv/lib/python3.5/site-packages/sklearn/svm/_base.py:231: ConvergenceWarning: Solver terminated early (max_iter=3000).  Consider pre-processing your data with StandardScaler or MinMaxScaler.\n",
      "  % self.max_iter, ConvergenceWarning)\n"
     ]
    },
    {
     "name": "stdout",
     "output_type": "stream",
     "text": [
      "[CV] ................ kernel=linear, C=512, score=0.381, total=   4.2s\n",
      "[CV] kernel=linear, C=512 ............................................\n"
     ]
    },
    {
     "name": "stderr",
     "output_type": "stream",
     "text": [
      "/home/matheus-a-s/.virtualenvs/.PumpsEnv/lib/python3.5/site-packages/sklearn/svm/_base.py:231: ConvergenceWarning: Solver terminated early (max_iter=3000).  Consider pre-processing your data with StandardScaler or MinMaxScaler.\n",
      "  % self.max_iter, ConvergenceWarning)\n"
     ]
    },
    {
     "name": "stdout",
     "output_type": "stream",
     "text": [
      "[CV] ................ kernel=linear, C=512, score=0.361, total=   4.2s\n"
     ]
    },
    {
     "name": "stderr",
     "output_type": "stream",
     "text": [
      "[Parallel(n_jobs=1)]: Done  15 out of  15 | elapsed:  1.0min finished\n",
      "/home/matheus-a-s/.virtualenvs/.PumpsEnv/lib/python3.5/site-packages/sklearn/svm/_base.py:231: ConvergenceWarning: Solver terminated early (max_iter=3000).  Consider pre-processing your data with StandardScaler or MinMaxScaler.\n",
      "  % self.max_iter, ConvergenceWarning)\n",
      "[Parallel(n_jobs=1)]: Using backend SequentialBackend with 1 concurrent workers.\n"
     ]
    },
    {
     "name": "stdout",
     "output_type": "stream",
     "text": [
      "SVM_Polynomial\n",
      "Fitting 3 folds for each of 5 candidates, totalling 15 fits\n",
      "[CV] degree=3, kernel=poly, C=512 ....................................\n",
      "[CV] ........ degree=3, kernel=poly, C=512, score=0.749, total=   5.0s\n",
      "[CV] degree=3, kernel=poly, C=512 ....................................\n"
     ]
    },
    {
     "name": "stderr",
     "output_type": "stream",
     "text": [
      "[Parallel(n_jobs=1)]: Done   1 out of   1 | elapsed:    5.0s remaining:    0.0s\n"
     ]
    },
    {
     "name": "stdout",
     "output_type": "stream",
     "text": [
      "[CV] ........ degree=3, kernel=poly, C=512, score=0.719, total=   5.0s\n",
      "[CV] degree=3, kernel=poly, C=512 ....................................\n"
     ]
    },
    {
     "name": "stderr",
     "output_type": "stream",
     "text": [
      "[Parallel(n_jobs=1)]: Done   2 out of   2 | elapsed:    9.9s remaining:    0.0s\n"
     ]
    },
    {
     "name": "stdout",
     "output_type": "stream",
     "text": [
      "[CV] ........ degree=3, kernel=poly, C=512, score=0.719, total=   5.0s\n",
      "[CV] degree=3, kernel=poly, C=1024 ...................................\n"
     ]
    },
    {
     "name": "stderr",
     "output_type": "stream",
     "text": [
      "[Parallel(n_jobs=1)]: Done   3 out of   3 | elapsed:   14.9s remaining:    0.0s\n"
     ]
    },
    {
     "name": "stdout",
     "output_type": "stream",
     "text": [
      "[CV] ....... degree=3, kernel=poly, C=1024, score=0.749, total=   4.9s\n",
      "[CV] degree=3, kernel=poly, C=1024 ...................................\n"
     ]
    },
    {
     "name": "stderr",
     "output_type": "stream",
     "text": [
      "[Parallel(n_jobs=1)]: Done   4 out of   4 | elapsed:   19.8s remaining:    0.0s\n"
     ]
    },
    {
     "name": "stdout",
     "output_type": "stream",
     "text": [
      "[CV] ....... degree=3, kernel=poly, C=1024, score=0.719, total=   4.9s\n",
      "[CV] degree=3, kernel=poly, C=1024 ...................................\n",
      "[CV] ....... degree=3, kernel=poly, C=1024, score=0.719, total=   5.0s\n",
      "[CV] degree=3, kernel=poly, C=0.25 ...................................\n",
      "[CV] ....... degree=3, kernel=poly, C=0.25, score=0.401, total=   4.8s\n",
      "[CV] degree=3, kernel=poly, C=0.25 ...................................\n",
      "[CV] ....... degree=3, kernel=poly, C=0.25, score=0.365, total=   4.8s\n",
      "[CV] degree=3, kernel=poly, C=0.25 ...................................\n",
      "[CV] ....... degree=3, kernel=poly, C=0.25, score=0.396, total=   4.8s\n",
      "[CV] degree=7, kernel=poly, C=256 ....................................\n",
      "[CV] ........ degree=7, kernel=poly, C=256, score=0.346, total=   5.1s\n",
      "[CV] degree=7, kernel=poly, C=256 ....................................\n",
      "[CV] ........ degree=7, kernel=poly, C=256, score=0.308, total=   5.1s\n",
      "[CV] degree=7, kernel=poly, C=256 ....................................\n",
      "[CV] ........ degree=7, kernel=poly, C=256, score=0.254, total=   5.1s\n",
      "[CV] degree=3, kernel=poly, C=8192 ...................................\n",
      "[CV] ....... degree=3, kernel=poly, C=8192, score=0.749, total=   4.9s\n",
      "[CV] degree=3, kernel=poly, C=8192 ...................................\n",
      "[CV] ....... degree=3, kernel=poly, C=8192, score=0.719, total=   4.9s\n",
      "[CV] degree=3, kernel=poly, C=8192 ...................................\n",
      "[CV] ....... degree=3, kernel=poly, C=8192, score=0.719, total=   4.9s\n"
     ]
    },
    {
     "name": "stderr",
     "output_type": "stream",
     "text": [
      "[Parallel(n_jobs=1)]: Done  15 out of  15 | elapsed:  1.2min finished\n"
     ]
    },
    {
     "name": "stdout",
     "output_type": "stream",
     "text": [
      "SVM_RBF\n",
      "Fitting 3 folds for each of 5 candidates, totalling 15 fits\n",
      "[CV] gamma=0.5, kernel=rbf, C=1 ......................................\n"
     ]
    },
    {
     "name": "stderr",
     "output_type": "stream",
     "text": [
      "[Parallel(n_jobs=1)]: Using backend SequentialBackend with 1 concurrent workers.\n"
     ]
    },
    {
     "name": "stdout",
     "output_type": "stream",
     "text": [
      "[CV] .......... gamma=0.5, kernel=rbf, C=1, score=0.226, total=   5.2s\n",
      "[CV] gamma=0.5, kernel=rbf, C=1 ......................................\n"
     ]
    },
    {
     "name": "stderr",
     "output_type": "stream",
     "text": [
      "[Parallel(n_jobs=1)]: Done   1 out of   1 | elapsed:    5.2s remaining:    0.0s\n"
     ]
    },
    {
     "name": "stdout",
     "output_type": "stream",
     "text": [
      "[CV] .......... gamma=0.5, kernel=rbf, C=1, score=0.226, total=   5.2s\n",
      "[CV] gamma=0.5, kernel=rbf, C=1 ......................................\n"
     ]
    },
    {
     "name": "stderr",
     "output_type": "stream",
     "text": [
      "[Parallel(n_jobs=1)]: Done   2 out of   2 | elapsed:   10.4s remaining:    0.0s\n"
     ]
    },
    {
     "name": "stdout",
     "output_type": "stream",
     "text": [
      "[CV] .......... gamma=0.5, kernel=rbf, C=1, score=0.227, total=   5.2s\n",
      "[CV] gamma=0.0001220703125, kernel=rbf, C=0.125 ......................\n"
     ]
    },
    {
     "name": "stderr",
     "output_type": "stream",
     "text": [
      "[Parallel(n_jobs=1)]: Done   3 out of   3 | elapsed:   15.7s remaining:    0.0s\n"
     ]
    },
    {
     "name": "stdout",
     "output_type": "stream",
     "text": [
      "[CV]  gamma=0.0001220703125, kernel=rbf, C=0.125, score=0.226, total=   5.2s\n",
      "[CV] gamma=0.0001220703125, kernel=rbf, C=0.125 ......................\n"
     ]
    },
    {
     "name": "stderr",
     "output_type": "stream",
     "text": [
      "[Parallel(n_jobs=1)]: Done   4 out of   4 | elapsed:   20.9s remaining:    0.0s\n"
     ]
    },
    {
     "name": "stdout",
     "output_type": "stream",
     "text": [
      "[CV]  gamma=0.0001220703125, kernel=rbf, C=0.125, score=0.226, total=   5.2s\n",
      "[CV] gamma=0.0001220703125, kernel=rbf, C=0.125 ......................\n",
      "[CV]  gamma=0.0001220703125, kernel=rbf, C=0.125, score=0.227, total=   5.2s\n",
      "[CV] gamma=0.001953125, kernel=rbf, C=128 ............................\n",
      "[CV]  gamma=0.001953125, kernel=rbf, C=128, score=0.226, total=   5.2s\n",
      "[CV] gamma=0.001953125, kernel=rbf, C=128 ............................\n",
      "[CV]  gamma=0.001953125, kernel=rbf, C=128, score=0.226, total=   5.2s\n",
      "[CV] gamma=0.001953125, kernel=rbf, C=128 ............................\n",
      "[CV]  gamma=0.001953125, kernel=rbf, C=128, score=0.227, total=   5.2s\n",
      "[CV] gamma=4, kernel=rbf, C=8192 .....................................\n",
      "[CV] ......... gamma=4, kernel=rbf, C=8192, score=0.226, total=   5.2s\n",
      "[CV] gamma=4, kernel=rbf, C=8192 .....................................\n",
      "[CV] ......... gamma=4, kernel=rbf, C=8192, score=0.226, total=   5.2s\n",
      "[CV] gamma=4, kernel=rbf, C=8192 .....................................\n",
      "[CV] ......... gamma=4, kernel=rbf, C=8192, score=0.227, total=   5.2s\n",
      "[CV] gamma=0.000244140625, kernel=rbf, C=1024 ........................\n",
      "[CV]  gamma=0.000244140625, kernel=rbf, C=1024, score=0.226, total=   5.2s\n",
      "[CV] gamma=0.000244140625, kernel=rbf, C=1024 ........................\n",
      "[CV]  gamma=0.000244140625, kernel=rbf, C=1024, score=0.226, total=   5.2s\n",
      "[CV] gamma=0.000244140625, kernel=rbf, C=1024 ........................\n",
      "[CV]  gamma=0.000244140625, kernel=rbf, C=1024, score=0.227, total=   5.2s\n"
     ]
    },
    {
     "name": "stderr",
     "output_type": "stream",
     "text": [
      "[Parallel(n_jobs=1)]: Done  15 out of  15 | elapsed:  1.3min finished\n"
     ]
    },
    {
     "name": "stdout",
     "output_type": "stream",
     "text": [
      "random search: {'SVM_Polynomial': RandomizedSearchCV(cv=3, error_score=nan,\n",
      "                   estimator=SVC(C=1.0, break_ties=False, cache_size=200,\n",
      "                                 class_weight=None, coef0=0.0,\n",
      "                                 decision_function_shape='ovr', degree=3,\n",
      "                                 gamma='scale', kernel='poly', max_iter=3000,\n",
      "                                 probability=True, random_state=None,\n",
      "                                 shrinking=True, tol=0.001, verbose=False),\n",
      "                   iid='deprecated', n_iter=5, n_jobs=None,\n",
      "                   param_distributions={'C': [0.03125, 0.0625, 0.125, 0.25, 0.5,\n",
      "                                              1, 2, 4, 8, 16, 32, 64, 128, 256,\n",
      "                                              512, 1024, 2048, 4096, 8192,\n",
      "                                              16384],\n",
      "                                        'degree': [3, 5, 7, 9],\n",
      "                                        'kernel': ['poly']},\n",
      "                   pre_dispatch='2*n_jobs', random_state=None, refit=True,\n",
      "                   return_train_score=False, scoring='accuracy', verbose=5), 'MLP': RandomizedSearchCV(cv=3, error_score=nan,\n",
      "                   estimator=MLPClassifier(activation='relu', alpha=0.0001,\n",
      "                                           batch_size='auto', beta_1=0.9,\n",
      "                                           beta_2=0.999, early_stopping=False,\n",
      "                                           epsilon=1e-08,\n",
      "                                           hidden_layer_sizes=(100,),\n",
      "                                           learning_rate='constant',\n",
      "                                           learning_rate_init=0.0005,\n",
      "                                           max_fun=15000, max_iter=1000,\n",
      "                                           momentum=0.9, n_iter_no_change=10,\n",
      "                                           nesterovs_momentum=True, power_t=0.5,\n",
      "                                           rand...\n",
      "                                           solver='adam', tol=0.0001,\n",
      "                                           validation_fraction=0.1,\n",
      "                                           verbose=False, warm_start=False),\n",
      "                   iid='deprecated', n_iter=5, n_jobs=None,\n",
      "                   param_distributions={'hidden_layer_sizes': [2, 3, 4, 5, 6, 7,\n",
      "                                                               8, 9, 10, 11, 12,\n",
      "                                                               13, 14, 15, 16,\n",
      "                                                               17, 18, 19, 20,\n",
      "                                                               21, 22, 23, 24,\n",
      "                                                               25, 26, 27, 28,\n",
      "                                                               29, 30, 31, ...]},\n",
      "                   pre_dispatch='2*n_jobs', random_state=None, refit=True,\n",
      "                   return_train_score=False, scoring='accuracy', verbose=5), 'SVM_Linear': RandomizedSearchCV(cv=3, error_score=nan,\n",
      "                   estimator=SVC(C=1.0, break_ties=False, cache_size=200,\n",
      "                                 class_weight=None, coef0=0.0,\n",
      "                                 decision_function_shape='ovr', degree=3,\n",
      "                                 gamma='scale', kernel='linear', max_iter=3000,\n",
      "                                 probability=True, random_state=None,\n",
      "                                 shrinking=True, tol=0.001, verbose=False),\n",
      "                   iid='deprecated', n_iter=5, n_jobs=None,\n",
      "                   param_distributions={'C': [0.03125, 0.0625, 0.125, 0.25, 0.5,\n",
      "                                              1, 2, 4, 8, 16, 32, 64, 128, 256,\n",
      "                                              512, 1024, 2048, 4096, 8192,\n",
      "                                              16384],\n",
      "                                        'kernel': ['linear']},\n",
      "                   pre_dispatch='2*n_jobs', random_state=None, refit=True,\n",
      "                   return_train_score=False, scoring='accuracy', verbose=5), 'Naive_Bayes': [], 'SVM_RBF': RandomizedSearchCV(cv=3, error_score=nan,\n",
      "                   estimator=SVC(C=1.0, break_ties=False, cache_size=200,\n",
      "                                 class_weight=None, coef0=0.0,\n",
      "                                 decision_function_shape='ovr', degree=3,\n",
      "                                 gamma='scale', kernel='rbf', max_iter=3000,\n",
      "                                 probability=True, random_state=None,\n",
      "                                 shrinking=True, tol=0.001, verbose=False),\n",
      "                   iid='deprecated', n_iter=5, n_jobs=None,\n",
      "                   param_distributions={'C': [0.03125, 0.0...\n",
      "                                              1, 2, 4, 8, 16, 32, 64, 128, 256,\n",
      "                                              512, 1024, 2048, 4096, 8192,\n",
      "                                              16384],\n",
      "                                        'gamma': [3.0517578125e-05,\n",
      "                                                  6.103515625e-05,\n",
      "                                                  0.0001220703125,\n",
      "                                                  0.000244140625, 0.00048828125,\n",
      "                                                  0.0009765625, 0.001953125,\n",
      "                                                  0.00390625, 0.0078125,\n",
      "                                                  0.015625, 0.03125, 0.0625,\n",
      "                                                  0.125, 0.25, 0.5, 1, 2, 4],\n",
      "                                        'kernel': ['rbf']},\n",
      "                   pre_dispatch='2*n_jobs', random_state=None, refit=True,\n",
      "                   return_train_score=False, scoring='accuracy', verbose=5), 'Nearest_Neighbors': RandomizedSearchCV(cv=3, error_score=nan,\n",
      "                   estimator=KNeighborsClassifier(algorithm='auto',\n",
      "                                                  leaf_size=30,\n",
      "                                                  metric='minkowski',\n",
      "                                                  metric_params=None,\n",
      "                                                  n_jobs=None, n_neighbors=5,\n",
      "                                                  p=2, weights='uniform'),\n",
      "                   iid='deprecated', n_iter=5, n_jobs=None,\n",
      "                   param_distributions={'n_neighbors': [1, 3, 5, 7, 9, 11]},\n",
      "                   pre_dispatch='2*n_jobs', random_state=None, refit=True,\n",
      "                   return_train_score=False, scoring='accuracy', verbose=5), 'Random_Forest': RandomizedSearchCV(cv=3, error_score=nan,\n",
      "                   estimator=RandomForestClassifier(bootstrap=True,\n",
      "                                                    ccp_alpha=0.0,\n",
      "                                                    class_weight=None,\n",
      "                                                    criterion='gini',\n",
      "                                                    max_depth=None,\n",
      "                                                    max_features='auto',\n",
      "                                                    max_leaf_nodes=None,\n",
      "                                                    max_samples=None,\n",
      "                                                    min_impurity_decrease=0.0,\n",
      "                                                    min_impurity_split=None,\n",
      "                                                    min_samples_leaf=1,\n",
      "                                                    min_samples_split=2,\n",
      "                                                    min_weight_fraction_leaf=0.0,\n",
      "                                                    n_estimators=100,\n",
      "                                                    n_jobs...\n",
      "                                        'max_features': <scipy.stats._distn_infrastructure.rv_frozen object at 0x7f59daa30a58>,\n",
      "                                        'min_samples_leaf': <scipy.stats._distn_infrastructure.rv_frozen object at 0x7f59daa30ef0>,\n",
      "                                        'min_samples_split': <scipy.stats._distn_infrastructure.rv_frozen object at 0x7f59daa30c50>,\n",
      "                                        'n_estimators': [3000]},\n",
      "                   pre_dispatch='2*n_jobs', random_state=None, refit=True,\n",
      "                   return_train_score=False, scoring='accuracy', verbose=5)}\n",
      "{'SVM_Polynomial': [], 'MLP': [], 'SVM_Linear': [], 'Naive_Bayes': [], 'SVM_RBF': [], 'Nearest_Neighbors': [], 'Random_Forest': []}\n",
      "Naive_Bayes\n",
      "MLP\n",
      "Fitting 3 folds for each of 5 candidates, totalling 15 fits\n",
      "[CV] hidden_layer_sizes=387 ..........................................\n"
     ]
    },
    {
     "name": "stderr",
     "output_type": "stream",
     "text": [
      "[Parallel(n_jobs=1)]: Using backend SequentialBackend with 1 concurrent workers.\n",
      "/home/matheus-a-s/.virtualenvs/.PumpsEnv/lib/python3.5/site-packages/sklearn/neural_network/_multilayer_perceptron.py:571: ConvergenceWarning: Stochastic Optimizer: Maximum iterations (1000) reached and the optimization hasn't converged yet.\n",
      "  % self.max_iter, ConvergenceWarning)\n",
      "[Parallel(n_jobs=1)]: Done   1 out of   1 | elapsed:   54.9s remaining:    0.0s\n"
     ]
    },
    {
     "name": "stdout",
     "output_type": "stream",
     "text": [
      "[CV] .............. hidden_layer_sizes=387, score=0.643, total=  54.9s\n",
      "[CV] hidden_layer_sizes=387 ..........................................\n"
     ]
    },
    {
     "name": "stderr",
     "output_type": "stream",
     "text": [
      "/home/matheus-a-s/.virtualenvs/.PumpsEnv/lib/python3.5/site-packages/sklearn/neural_network/_multilayer_perceptron.py:571: ConvergenceWarning: Stochastic Optimizer: Maximum iterations (1000) reached and the optimization hasn't converged yet.\n",
      "  % self.max_iter, ConvergenceWarning)\n",
      "[Parallel(n_jobs=1)]: Done   2 out of   2 | elapsed:  1.8min remaining:    0.0s\n"
     ]
    },
    {
     "name": "stdout",
     "output_type": "stream",
     "text": [
      "[CV] .............. hidden_layer_sizes=387, score=0.531, total=  55.3s\n",
      "[CV] hidden_layer_sizes=387 ..........................................\n"
     ]
    },
    {
     "name": "stderr",
     "output_type": "stream",
     "text": [
      "/home/matheus-a-s/.virtualenvs/.PumpsEnv/lib/python3.5/site-packages/sklearn/neural_network/_multilayer_perceptron.py:571: ConvergenceWarning: Stochastic Optimizer: Maximum iterations (1000) reached and the optimization hasn't converged yet.\n",
      "  % self.max_iter, ConvergenceWarning)\n",
      "[Parallel(n_jobs=1)]: Done   3 out of   3 | elapsed:  2.7min remaining:    0.0s\n"
     ]
    },
    {
     "name": "stdout",
     "output_type": "stream",
     "text": [
      "[CV] .............. hidden_layer_sizes=387, score=0.607, total=  54.5s\n",
      "[CV] hidden_layer_sizes=453 ..........................................\n"
     ]
    },
    {
     "name": "stderr",
     "output_type": "stream",
     "text": [
      "/home/matheus-a-s/.virtualenvs/.PumpsEnv/lib/python3.5/site-packages/sklearn/neural_network/_multilayer_perceptron.py:571: ConvergenceWarning: Stochastic Optimizer: Maximum iterations (1000) reached and the optimization hasn't converged yet.\n",
      "  % self.max_iter, ConvergenceWarning)\n",
      "[Parallel(n_jobs=1)]: Done   4 out of   4 | elapsed:  3.8min remaining:    0.0s\n"
     ]
    },
    {
     "name": "stdout",
     "output_type": "stream",
     "text": [
      "[CV] .............. hidden_layer_sizes=453, score=0.583, total= 1.0min\n",
      "[CV] hidden_layer_sizes=453 ..........................................\n"
     ]
    },
    {
     "name": "stderr",
     "output_type": "stream",
     "text": [
      "/home/matheus-a-s/.virtualenvs/.PumpsEnv/lib/python3.5/site-packages/sklearn/neural_network/_multilayer_perceptron.py:571: ConvergenceWarning: Stochastic Optimizer: Maximum iterations (1000) reached and the optimization hasn't converged yet.\n",
      "  % self.max_iter, ConvergenceWarning)\n"
     ]
    },
    {
     "name": "stdout",
     "output_type": "stream",
     "text": [
      "[CV] .............. hidden_layer_sizes=453, score=0.520, total= 1.0min\n",
      "[CV] hidden_layer_sizes=453 ..........................................\n"
     ]
    },
    {
     "name": "stderr",
     "output_type": "stream",
     "text": [
      "/home/matheus-a-s/.virtualenvs/.PumpsEnv/lib/python3.5/site-packages/sklearn/neural_network/_multilayer_perceptron.py:571: ConvergenceWarning: Stochastic Optimizer: Maximum iterations (1000) reached and the optimization hasn't converged yet.\n",
      "  % self.max_iter, ConvergenceWarning)\n"
     ]
    },
    {
     "name": "stdout",
     "output_type": "stream",
     "text": [
      "[CV] .............. hidden_layer_sizes=453, score=0.634, total= 1.0min\n",
      "[CV] hidden_layer_sizes=247 ..........................................\n"
     ]
    },
    {
     "name": "stderr",
     "output_type": "stream",
     "text": [
      "/home/matheus-a-s/.virtualenvs/.PumpsEnv/lib/python3.5/site-packages/sklearn/neural_network/_multilayer_perceptron.py:571: ConvergenceWarning: Stochastic Optimizer: Maximum iterations (1000) reached and the optimization hasn't converged yet.\n",
      "  % self.max_iter, ConvergenceWarning)\n"
     ]
    },
    {
     "name": "stdout",
     "output_type": "stream",
     "text": [
      "[CV] .............. hidden_layer_sizes=247, score=0.526, total=  36.8s\n",
      "[CV] hidden_layer_sizes=247 ..........................................\n"
     ]
    },
    {
     "name": "stderr",
     "output_type": "stream",
     "text": [
      "/home/matheus-a-s/.virtualenvs/.PumpsEnv/lib/python3.5/site-packages/sklearn/neural_network/_multilayer_perceptron.py:571: ConvergenceWarning: Stochastic Optimizer: Maximum iterations (1000) reached and the optimization hasn't converged yet.\n",
      "  % self.max_iter, ConvergenceWarning)\n"
     ]
    },
    {
     "name": "stdout",
     "output_type": "stream",
     "text": [
      "[CV] .............. hidden_layer_sizes=247, score=0.529, total=  37.8s\n",
      "[CV] hidden_layer_sizes=247 ..........................................\n"
     ]
    },
    {
     "name": "stderr",
     "output_type": "stream",
     "text": [
      "/home/matheus-a-s/.virtualenvs/.PumpsEnv/lib/python3.5/site-packages/sklearn/neural_network/_multilayer_perceptron.py:571: ConvergenceWarning: Stochastic Optimizer: Maximum iterations (1000) reached and the optimization hasn't converged yet.\n",
      "  % self.max_iter, ConvergenceWarning)\n"
     ]
    },
    {
     "name": "stdout",
     "output_type": "stream",
     "text": [
      "[CV] .............. hidden_layer_sizes=247, score=0.486, total=  37.0s\n",
      "[CV] hidden_layer_sizes=629 ..........................................\n"
     ]
    },
    {
     "name": "stderr",
     "output_type": "stream",
     "text": [
      "/home/matheus-a-s/.virtualenvs/.PumpsEnv/lib/python3.5/site-packages/sklearn/neural_network/_multilayer_perceptron.py:571: ConvergenceWarning: Stochastic Optimizer: Maximum iterations (1000) reached and the optimization hasn't converged yet.\n",
      "  % self.max_iter, ConvergenceWarning)\n"
     ]
    },
    {
     "name": "stdout",
     "output_type": "stream",
     "text": [
      "[CV] .............. hidden_layer_sizes=629, score=0.488, total= 1.4min\n",
      "[CV] hidden_layer_sizes=629 ..........................................\n"
     ]
    },
    {
     "name": "stderr",
     "output_type": "stream",
     "text": [
      "/home/matheus-a-s/.virtualenvs/.PumpsEnv/lib/python3.5/site-packages/sklearn/neural_network/_multilayer_perceptron.py:571: ConvergenceWarning: Stochastic Optimizer: Maximum iterations (1000) reached and the optimization hasn't converged yet.\n",
      "  % self.max_iter, ConvergenceWarning)\n"
     ]
    },
    {
     "name": "stdout",
     "output_type": "stream",
     "text": [
      "[CV] .............. hidden_layer_sizes=629, score=0.548, total= 1.4min\n",
      "[CV] hidden_layer_sizes=629 ..........................................\n",
      "[CV] .............. hidden_layer_sizes=629, score=0.484, total=  56.7s\n",
      "[CV] hidden_layer_sizes=196 ..........................................\n"
     ]
    },
    {
     "name": "stderr",
     "output_type": "stream",
     "text": [
      "/home/matheus-a-s/.virtualenvs/.PumpsEnv/lib/python3.5/site-packages/sklearn/neural_network/_multilayer_perceptron.py:571: ConvergenceWarning: Stochastic Optimizer: Maximum iterations (1000) reached and the optimization hasn't converged yet.\n",
      "  % self.max_iter, ConvergenceWarning)\n"
     ]
    },
    {
     "name": "stdout",
     "output_type": "stream",
     "text": [
      "[CV] .............. hidden_layer_sizes=196, score=0.463, total=  35.3s\n",
      "[CV] hidden_layer_sizes=196 ..........................................\n"
     ]
    },
    {
     "name": "stderr",
     "output_type": "stream",
     "text": [
      "/home/matheus-a-s/.virtualenvs/.PumpsEnv/lib/python3.5/site-packages/sklearn/neural_network/_multilayer_perceptron.py:571: ConvergenceWarning: Stochastic Optimizer: Maximum iterations (1000) reached and the optimization hasn't converged yet.\n",
      "  % self.max_iter, ConvergenceWarning)\n"
     ]
    },
    {
     "name": "stdout",
     "output_type": "stream",
     "text": [
      "[CV] .............. hidden_layer_sizes=196, score=0.531, total=  32.9s\n",
      "[CV] hidden_layer_sizes=196 ..........................................\n"
     ]
    },
    {
     "name": "stderr",
     "output_type": "stream",
     "text": [
      "/home/matheus-a-s/.virtualenvs/.PumpsEnv/lib/python3.5/site-packages/sklearn/neural_network/_multilayer_perceptron.py:571: ConvergenceWarning: Stochastic Optimizer: Maximum iterations (1000) reached and the optimization hasn't converged yet.\n",
      "  % self.max_iter, ConvergenceWarning)\n",
      "[Parallel(n_jobs=1)]: Done  15 out of  15 | elapsed: 13.1min finished\n"
     ]
    },
    {
     "name": "stdout",
     "output_type": "stream",
     "text": [
      "[CV] .............. hidden_layer_sizes=196, score=0.503, total=  32.6s\n"
     ]
    },
    {
     "name": "stderr",
     "output_type": "stream",
     "text": [
      "/home/matheus-a-s/.virtualenvs/.PumpsEnv/lib/python3.5/site-packages/sklearn/neural_network/_multilayer_perceptron.py:571: ConvergenceWarning: Stochastic Optimizer: Maximum iterations (1000) reached and the optimization hasn't converged yet.\n",
      "  % self.max_iter, ConvergenceWarning)\n",
      "[Parallel(n_jobs=1)]: Using backend SequentialBackend with 1 concurrent workers.\n"
     ]
    },
    {
     "name": "stdout",
     "output_type": "stream",
     "text": [
      "Nearest_Neighbors\n",
      "Fitting 3 folds for each of 5 candidates, totalling 15 fits\n",
      "[CV] n_neighbors=7 ...................................................\n",
      "[CV] ....................... n_neighbors=7, score=0.376, total=   0.5s\n",
      "[CV] n_neighbors=7 ...................................................\n"
     ]
    },
    {
     "name": "stderr",
     "output_type": "stream",
     "text": [
      "[Parallel(n_jobs=1)]: Done   1 out of   1 | elapsed:    0.5s remaining:    0.0s\n"
     ]
    },
    {
     "name": "stdout",
     "output_type": "stream",
     "text": [
      "[CV] ....................... n_neighbors=7, score=0.455, total=   0.4s\n",
      "[CV] n_neighbors=7 ...................................................\n"
     ]
    },
    {
     "name": "stderr",
     "output_type": "stream",
     "text": [
      "[Parallel(n_jobs=1)]: Done   2 out of   2 | elapsed:    0.9s remaining:    0.0s\n"
     ]
    },
    {
     "name": "stdout",
     "output_type": "stream",
     "text": [
      "[CV] ....................... n_neighbors=7, score=0.404, total=   0.4s\n",
      "[CV] n_neighbors=1 ...................................................\n"
     ]
    },
    {
     "name": "stderr",
     "output_type": "stream",
     "text": [
      "[Parallel(n_jobs=1)]: Done   3 out of   3 | elapsed:    1.3s remaining:    0.0s\n"
     ]
    },
    {
     "name": "stdout",
     "output_type": "stream",
     "text": [
      "[CV] ....................... n_neighbors=1, score=0.638, total=   0.4s\n",
      "[CV] n_neighbors=1 ...................................................\n"
     ]
    },
    {
     "name": "stderr",
     "output_type": "stream",
     "text": [
      "[Parallel(n_jobs=1)]: Done   4 out of   4 | elapsed:    1.7s remaining:    0.0s\n"
     ]
    },
    {
     "name": "stdout",
     "output_type": "stream",
     "text": [
      "[CV] ....................... n_neighbors=1, score=0.670, total=   0.4s\n",
      "[CV] n_neighbors=1 ...................................................\n",
      "[CV] ....................... n_neighbors=1, score=0.667, total=   0.4s\n",
      "[CV] n_neighbors=9 ...................................................\n",
      "[CV] ....................... n_neighbors=9, score=0.338, total=   0.4s\n",
      "[CV] n_neighbors=9 ...................................................\n",
      "[CV] ....................... n_neighbors=9, score=0.414, total=   0.4s\n",
      "[CV] n_neighbors=9 ...................................................\n",
      "[CV] ....................... n_neighbors=9, score=0.355, total=   0.4s\n",
      "[CV] n_neighbors=5 ...................................................\n",
      "[CV] ....................... n_neighbors=5, score=0.450, total=   0.4s\n",
      "[CV] n_neighbors=5 ...................................................\n",
      "[CV] ....................... n_neighbors=5, score=0.471, total=   0.4s\n",
      "[CV] n_neighbors=5 ...................................................\n",
      "[CV] ....................... n_neighbors=5, score=0.462, total=   0.4s\n",
      "[CV] n_neighbors=3 ...................................................\n",
      "[CV] ....................... n_neighbors=3, score=0.507, total=   0.4s\n",
      "[CV] n_neighbors=3 ...................................................\n",
      "[CV] ....................... n_neighbors=3, score=0.501, total=   0.4s\n",
      "[CV] n_neighbors=3 ...................................................\n",
      "[CV] ....................... n_neighbors=3, score=0.530, total=   0.4s\n",
      "Random_Forest\n",
      "Fitting 3 folds for each of 5 candidates, totalling 15 fits\n",
      "[CV] n_estimators=3000, bootstrap=True, min_samples_leaf=9, max_depth=None, min_samples_split=2, max_features=3, criterion=gini \n"
     ]
    },
    {
     "name": "stderr",
     "output_type": "stream",
     "text": [
      "[Parallel(n_jobs=1)]: Done  15 out of  15 | elapsed:    6.1s finished\n",
      "[Parallel(n_jobs=1)]: Using backend SequentialBackend with 1 concurrent workers.\n"
     ]
    },
    {
     "name": "stdout",
     "output_type": "stream",
     "text": [
      "[CV]  n_estimators=3000, bootstrap=True, min_samples_leaf=9, max_depth=None, min_samples_split=2, max_features=3, criterion=gini, score=0.907, total=   9.6s\n",
      "[CV] n_estimators=3000, bootstrap=True, min_samples_leaf=9, max_depth=None, min_samples_split=2, max_features=3, criterion=gini \n"
     ]
    },
    {
     "name": "stderr",
     "output_type": "stream",
     "text": [
      "[Parallel(n_jobs=1)]: Done   1 out of   1 | elapsed:    9.6s remaining:    0.0s\n"
     ]
    },
    {
     "name": "stdout",
     "output_type": "stream",
     "text": [
      "[CV]  n_estimators=3000, bootstrap=True, min_samples_leaf=9, max_depth=None, min_samples_split=2, max_features=3, criterion=gini, score=0.910, total=   9.6s\n",
      "[CV] n_estimators=3000, bootstrap=True, min_samples_leaf=9, max_depth=None, min_samples_split=2, max_features=3, criterion=gini \n"
     ]
    },
    {
     "name": "stderr",
     "output_type": "stream",
     "text": [
      "[Parallel(n_jobs=1)]: Done   2 out of   2 | elapsed:   19.2s remaining:    0.0s\n"
     ]
    },
    {
     "name": "stdout",
     "output_type": "stream",
     "text": [
      "[CV]  n_estimators=3000, bootstrap=True, min_samples_leaf=9, max_depth=None, min_samples_split=2, max_features=3, criterion=gini, score=0.910, total=   9.6s\n",
      "[CV] n_estimators=3000, bootstrap=False, min_samples_leaf=6, max_depth=None, min_samples_split=10, max_features=5, criterion=gini \n"
     ]
    },
    {
     "name": "stderr",
     "output_type": "stream",
     "text": [
      "[Parallel(n_jobs=1)]: Done   3 out of   3 | elapsed:   28.8s remaining:    0.0s\n"
     ]
    },
    {
     "name": "stdout",
     "output_type": "stream",
     "text": [
      "[CV]  n_estimators=3000, bootstrap=False, min_samples_leaf=6, max_depth=None, min_samples_split=10, max_features=5, criterion=gini, score=0.910, total=  19.2s\n",
      "[CV] n_estimators=3000, bootstrap=False, min_samples_leaf=6, max_depth=None, min_samples_split=10, max_features=5, criterion=gini \n"
     ]
    },
    {
     "name": "stderr",
     "output_type": "stream",
     "text": [
      "[Parallel(n_jobs=1)]: Done   4 out of   4 | elapsed:   48.0s remaining:    0.0s\n"
     ]
    },
    {
     "name": "stdout",
     "output_type": "stream",
     "text": [
      "[CV]  n_estimators=3000, bootstrap=False, min_samples_leaf=6, max_depth=None, min_samples_split=10, max_features=5, criterion=gini, score=0.913, total=  19.4s\n",
      "[CV] n_estimators=3000, bootstrap=False, min_samples_leaf=6, max_depth=None, min_samples_split=10, max_features=5, criterion=gini \n",
      "[CV]  n_estimators=3000, bootstrap=False, min_samples_leaf=6, max_depth=None, min_samples_split=10, max_features=5, criterion=gini, score=0.910, total=  19.4s\n",
      "[CV] n_estimators=3000, bootstrap=True, min_samples_leaf=9, max_depth=6, min_samples_split=10, max_features=5, criterion=entropy \n",
      "[CV]  n_estimators=3000, bootstrap=True, min_samples_leaf=9, max_depth=6, min_samples_split=10, max_features=5, criterion=entropy, score=0.907, total=  20.5s\n",
      "[CV] n_estimators=3000, bootstrap=True, min_samples_leaf=9, max_depth=6, min_samples_split=10, max_features=5, criterion=entropy \n",
      "[CV]  n_estimators=3000, bootstrap=True, min_samples_leaf=9, max_depth=6, min_samples_split=10, max_features=5, criterion=entropy, score=0.910, total=  20.5s\n",
      "[CV] n_estimators=3000, bootstrap=True, min_samples_leaf=9, max_depth=6, min_samples_split=10, max_features=5, criterion=entropy \n",
      "[CV]  n_estimators=3000, bootstrap=True, min_samples_leaf=9, max_depth=6, min_samples_split=10, max_features=5, criterion=entropy, score=0.910, total=  20.6s\n",
      "[CV] n_estimators=3000, bootstrap=False, min_samples_leaf=5, max_depth=6, min_samples_split=5, max_features=1, criterion=entropy \n",
      "[CV]  n_estimators=3000, bootstrap=False, min_samples_leaf=5, max_depth=6, min_samples_split=5, max_features=1, criterion=entropy, score=0.907, total=   9.1s\n",
      "[CV] n_estimators=3000, bootstrap=False, min_samples_leaf=5, max_depth=6, min_samples_split=5, max_features=1, criterion=entropy \n",
      "[CV]  n_estimators=3000, bootstrap=False, min_samples_leaf=5, max_depth=6, min_samples_split=5, max_features=1, criterion=entropy, score=0.910, total=   9.1s\n",
      "[CV] n_estimators=3000, bootstrap=False, min_samples_leaf=5, max_depth=6, min_samples_split=5, max_features=1, criterion=entropy \n",
      "[CV]  n_estimators=3000, bootstrap=False, min_samples_leaf=5, max_depth=6, min_samples_split=5, max_features=1, criterion=entropy, score=0.910, total=   9.1s\n",
      "[CV] n_estimators=3000, bootstrap=False, min_samples_leaf=4, max_depth=None, min_samples_split=7, max_features=9, criterion=gini \n",
      "[CV]  n_estimators=3000, bootstrap=False, min_samples_leaf=4, max_depth=None, min_samples_split=7, max_features=9, criterion=gini, score=0.932, total=  32.5s\n",
      "[CV] n_estimators=3000, bootstrap=False, min_samples_leaf=4, max_depth=None, min_samples_split=7, max_features=9, criterion=gini \n",
      "[CV]  n_estimators=3000, bootstrap=False, min_samples_leaf=4, max_depth=None, min_samples_split=7, max_features=9, criterion=gini, score=0.929, total=  32.4s\n",
      "[CV] n_estimators=3000, bootstrap=False, min_samples_leaf=4, max_depth=None, min_samples_split=7, max_features=9, criterion=gini \n",
      "[CV]  n_estimators=3000, bootstrap=False, min_samples_leaf=4, max_depth=None, min_samples_split=7, max_features=9, criterion=gini, score=0.915, total=  32.4s\n"
     ]
    },
    {
     "name": "stderr",
     "output_type": "stream",
     "text": [
      "[Parallel(n_jobs=1)]: Done  15 out of  15 | elapsed:  4.5min finished\n"
     ]
    },
    {
     "name": "stdout",
     "output_type": "stream",
     "text": [
      "SVM_Linear\n",
      "Fitting 3 folds for each of 5 candidates, totalling 15 fits\n",
      "[CV] kernel=linear, C=0.125 ..........................................\n"
     ]
    },
    {
     "name": "stderr",
     "output_type": "stream",
     "text": [
      "[Parallel(n_jobs=1)]: Using backend SequentialBackend with 1 concurrent workers.\n",
      "/home/matheus-a-s/.virtualenvs/.PumpsEnv/lib/python3.5/site-packages/sklearn/svm/_base.py:231: ConvergenceWarning: Solver terminated early (max_iter=3000).  Consider pre-processing your data with StandardScaler or MinMaxScaler.\n",
      "  % self.max_iter, ConvergenceWarning)\n"
     ]
    },
    {
     "name": "stdout",
     "output_type": "stream",
     "text": [
      "[CV] .............. kernel=linear, C=0.125, score=0.332, total=   4.1s\n",
      "[CV] kernel=linear, C=0.125 ..........................................\n"
     ]
    },
    {
     "name": "stderr",
     "output_type": "stream",
     "text": [
      "[Parallel(n_jobs=1)]: Done   1 out of   1 | elapsed:    4.1s remaining:    0.0s\n",
      "/home/matheus-a-s/.virtualenvs/.PumpsEnv/lib/python3.5/site-packages/sklearn/svm/_base.py:231: ConvergenceWarning: Solver terminated early (max_iter=3000).  Consider pre-processing your data with StandardScaler or MinMaxScaler.\n",
      "  % self.max_iter, ConvergenceWarning)\n"
     ]
    },
    {
     "name": "stdout",
     "output_type": "stream",
     "text": [
      "[CV] .............. kernel=linear, C=0.125, score=0.379, total=   4.2s\n",
      "[CV] kernel=linear, C=0.125 ..........................................\n"
     ]
    },
    {
     "name": "stderr",
     "output_type": "stream",
     "text": [
      "[Parallel(n_jobs=1)]: Done   2 out of   2 | elapsed:    8.3s remaining:    0.0s\n",
      "/home/matheus-a-s/.virtualenvs/.PumpsEnv/lib/python3.5/site-packages/sklearn/svm/_base.py:231: ConvergenceWarning: Solver terminated early (max_iter=3000).  Consider pre-processing your data with StandardScaler or MinMaxScaler.\n",
      "  % self.max_iter, ConvergenceWarning)\n"
     ]
    },
    {
     "name": "stdout",
     "output_type": "stream",
     "text": [
      "[CV] .............. kernel=linear, C=0.125, score=0.363, total=   4.2s\n",
      "[CV] kernel=linear, C=128 ............................................\n"
     ]
    },
    {
     "name": "stderr",
     "output_type": "stream",
     "text": [
      "[Parallel(n_jobs=1)]: Done   3 out of   3 | elapsed:   12.6s remaining:    0.0s\n",
      "/home/matheus-a-s/.virtualenvs/.PumpsEnv/lib/python3.5/site-packages/sklearn/svm/_base.py:231: ConvergenceWarning: Solver terminated early (max_iter=3000).  Consider pre-processing your data with StandardScaler or MinMaxScaler.\n",
      "  % self.max_iter, ConvergenceWarning)\n"
     ]
    },
    {
     "name": "stdout",
     "output_type": "stream",
     "text": [
      "[CV] ................ kernel=linear, C=128, score=0.332, total=   4.1s\n",
      "[CV] kernel=linear, C=128 ............................................\n"
     ]
    },
    {
     "name": "stderr",
     "output_type": "stream",
     "text": [
      "[Parallel(n_jobs=1)]: Done   4 out of   4 | elapsed:   16.7s remaining:    0.0s\n",
      "/home/matheus-a-s/.virtualenvs/.PumpsEnv/lib/python3.5/site-packages/sklearn/svm/_base.py:231: ConvergenceWarning: Solver terminated early (max_iter=3000).  Consider pre-processing your data with StandardScaler or MinMaxScaler.\n",
      "  % self.max_iter, ConvergenceWarning)\n"
     ]
    },
    {
     "name": "stdout",
     "output_type": "stream",
     "text": [
      "[CV] ................ kernel=linear, C=128, score=0.379, total=   4.2s\n",
      "[CV] kernel=linear, C=128 ............................................\n"
     ]
    },
    {
     "name": "stderr",
     "output_type": "stream",
     "text": [
      "/home/matheus-a-s/.virtualenvs/.PumpsEnv/lib/python3.5/site-packages/sklearn/svm/_base.py:231: ConvergenceWarning: Solver terminated early (max_iter=3000).  Consider pre-processing your data with StandardScaler or MinMaxScaler.\n",
      "  % self.max_iter, ConvergenceWarning)\n"
     ]
    },
    {
     "name": "stdout",
     "output_type": "stream",
     "text": [
      "[CV] ................ kernel=linear, C=128, score=0.363, total=   4.2s\n",
      "[CV] kernel=linear, C=0.25 ...........................................\n"
     ]
    },
    {
     "name": "stderr",
     "output_type": "stream",
     "text": [
      "/home/matheus-a-s/.virtualenvs/.PumpsEnv/lib/python3.5/site-packages/sklearn/svm/_base.py:231: ConvergenceWarning: Solver terminated early (max_iter=3000).  Consider pre-processing your data with StandardScaler or MinMaxScaler.\n",
      "  % self.max_iter, ConvergenceWarning)\n"
     ]
    },
    {
     "name": "stdout",
     "output_type": "stream",
     "text": [
      "[CV] ............... kernel=linear, C=0.25, score=0.332, total=   4.2s\n",
      "[CV] kernel=linear, C=0.25 ...........................................\n"
     ]
    },
    {
     "name": "stderr",
     "output_type": "stream",
     "text": [
      "/home/matheus-a-s/.virtualenvs/.PumpsEnv/lib/python3.5/site-packages/sklearn/svm/_base.py:231: ConvergenceWarning: Solver terminated early (max_iter=3000).  Consider pre-processing your data with StandardScaler or MinMaxScaler.\n",
      "  % self.max_iter, ConvergenceWarning)\n"
     ]
    },
    {
     "name": "stdout",
     "output_type": "stream",
     "text": [
      "[CV] ............... kernel=linear, C=0.25, score=0.379, total=   4.2s\n",
      "[CV] kernel=linear, C=0.25 ...........................................\n"
     ]
    },
    {
     "name": "stderr",
     "output_type": "stream",
     "text": [
      "/home/matheus-a-s/.virtualenvs/.PumpsEnv/lib/python3.5/site-packages/sklearn/svm/_base.py:231: ConvergenceWarning: Solver terminated early (max_iter=3000).  Consider pre-processing your data with StandardScaler or MinMaxScaler.\n",
      "  % self.max_iter, ConvergenceWarning)\n"
     ]
    },
    {
     "name": "stdout",
     "output_type": "stream",
     "text": [
      "[CV] ............... kernel=linear, C=0.25, score=0.363, total=   4.2s\n",
      "[CV] kernel=linear, C=4096 ...........................................\n"
     ]
    },
    {
     "name": "stderr",
     "output_type": "stream",
     "text": [
      "/home/matheus-a-s/.virtualenvs/.PumpsEnv/lib/python3.5/site-packages/sklearn/svm/_base.py:231: ConvergenceWarning: Solver terminated early (max_iter=3000).  Consider pre-processing your data with StandardScaler or MinMaxScaler.\n",
      "  % self.max_iter, ConvergenceWarning)\n"
     ]
    },
    {
     "name": "stdout",
     "output_type": "stream",
     "text": [
      "[CV] ............... kernel=linear, C=4096, score=0.332, total=   4.1s\n",
      "[CV] kernel=linear, C=4096 ...........................................\n"
     ]
    },
    {
     "name": "stderr",
     "output_type": "stream",
     "text": [
      "/home/matheus-a-s/.virtualenvs/.PumpsEnv/lib/python3.5/site-packages/sklearn/svm/_base.py:231: ConvergenceWarning: Solver terminated early (max_iter=3000).  Consider pre-processing your data with StandardScaler or MinMaxScaler.\n",
      "  % self.max_iter, ConvergenceWarning)\n"
     ]
    },
    {
     "name": "stdout",
     "output_type": "stream",
     "text": [
      "[CV] ............... kernel=linear, C=4096, score=0.379, total=   4.2s\n",
      "[CV] kernel=linear, C=4096 ...........................................\n"
     ]
    },
    {
     "name": "stderr",
     "output_type": "stream",
     "text": [
      "/home/matheus-a-s/.virtualenvs/.PumpsEnv/lib/python3.5/site-packages/sklearn/svm/_base.py:231: ConvergenceWarning: Solver terminated early (max_iter=3000).  Consider pre-processing your data with StandardScaler or MinMaxScaler.\n",
      "  % self.max_iter, ConvergenceWarning)\n"
     ]
    },
    {
     "name": "stdout",
     "output_type": "stream",
     "text": [
      "[CV] ............... kernel=linear, C=4096, score=0.363, total=   4.2s\n",
      "[CV] kernel=linear, C=8192 ...........................................\n"
     ]
    },
    {
     "name": "stderr",
     "output_type": "stream",
     "text": [
      "/home/matheus-a-s/.virtualenvs/.PumpsEnv/lib/python3.5/site-packages/sklearn/svm/_base.py:231: ConvergenceWarning: Solver terminated early (max_iter=3000).  Consider pre-processing your data with StandardScaler or MinMaxScaler.\n",
      "  % self.max_iter, ConvergenceWarning)\n"
     ]
    },
    {
     "name": "stdout",
     "output_type": "stream",
     "text": [
      "[CV] ............... kernel=linear, C=8192, score=0.332, total=   4.1s\n",
      "[CV] kernel=linear, C=8192 ...........................................\n"
     ]
    },
    {
     "name": "stderr",
     "output_type": "stream",
     "text": [
      "/home/matheus-a-s/.virtualenvs/.PumpsEnv/lib/python3.5/site-packages/sklearn/svm/_base.py:231: ConvergenceWarning: Solver terminated early (max_iter=3000).  Consider pre-processing your data with StandardScaler or MinMaxScaler.\n",
      "  % self.max_iter, ConvergenceWarning)\n"
     ]
    },
    {
     "name": "stdout",
     "output_type": "stream",
     "text": [
      "[CV] ............... kernel=linear, C=8192, score=0.379, total=   4.2s\n",
      "[CV] kernel=linear, C=8192 ...........................................\n"
     ]
    },
    {
     "name": "stderr",
     "output_type": "stream",
     "text": [
      "/home/matheus-a-s/.virtualenvs/.PumpsEnv/lib/python3.5/site-packages/sklearn/svm/_base.py:231: ConvergenceWarning: Solver terminated early (max_iter=3000).  Consider pre-processing your data with StandardScaler or MinMaxScaler.\n",
      "  % self.max_iter, ConvergenceWarning)\n"
     ]
    },
    {
     "name": "stdout",
     "output_type": "stream",
     "text": [
      "[CV] ............... kernel=linear, C=8192, score=0.363, total=   4.2s\n"
     ]
    },
    {
     "name": "stderr",
     "output_type": "stream",
     "text": [
      "[Parallel(n_jobs=1)]: Done  15 out of  15 | elapsed:  1.0min finished\n",
      "/home/matheus-a-s/.virtualenvs/.PumpsEnv/lib/python3.5/site-packages/sklearn/svm/_base.py:231: ConvergenceWarning: Solver terminated early (max_iter=3000).  Consider pre-processing your data with StandardScaler or MinMaxScaler.\n",
      "  % self.max_iter, ConvergenceWarning)\n",
      "[Parallel(n_jobs=1)]: Using backend SequentialBackend with 1 concurrent workers.\n"
     ]
    },
    {
     "name": "stdout",
     "output_type": "stream",
     "text": [
      "SVM_Polynomial\n",
      "Fitting 3 folds for each of 5 candidates, totalling 15 fits\n",
      "[CV] degree=9, kernel=poly, C=256 ....................................\n"
     ]
    },
    {
     "name": "stderr",
     "output_type": "stream",
     "text": [
      "/home/matheus-a-s/.virtualenvs/.PumpsEnv/lib/python3.5/site-packages/sklearn/svm/_base.py:231: ConvergenceWarning: Solver terminated early (max_iter=3000).  Consider pre-processing your data with StandardScaler or MinMaxScaler.\n",
      "  % self.max_iter, ConvergenceWarning)\n"
     ]
    },
    {
     "name": "stdout",
     "output_type": "stream",
     "text": [
      "[CV] ........ degree=9, kernel=poly, C=256, score=0.681, total=   4.6s\n",
      "[CV] degree=9, kernel=poly, C=256 ....................................\n"
     ]
    },
    {
     "name": "stderr",
     "output_type": "stream",
     "text": [
      "[Parallel(n_jobs=1)]: Done   1 out of   1 | elapsed:    4.6s remaining:    0.0s\n",
      "/home/matheus-a-s/.virtualenvs/.PumpsEnv/lib/python3.5/site-packages/sklearn/svm/_base.py:231: ConvergenceWarning: Solver terminated early (max_iter=3000).  Consider pre-processing your data with StandardScaler or MinMaxScaler.\n",
      "  % self.max_iter, ConvergenceWarning)\n"
     ]
    },
    {
     "name": "stdout",
     "output_type": "stream",
     "text": [
      "[CV] ........ degree=9, kernel=poly, C=256, score=0.657, total=   4.7s\n",
      "[CV] degree=9, kernel=poly, C=256 ....................................\n"
     ]
    },
    {
     "name": "stderr",
     "output_type": "stream",
     "text": [
      "[Parallel(n_jobs=1)]: Done   2 out of   2 | elapsed:    9.3s remaining:    0.0s\n",
      "/home/matheus-a-s/.virtualenvs/.PumpsEnv/lib/python3.5/site-packages/sklearn/svm/_base.py:231: ConvergenceWarning: Solver terminated early (max_iter=3000).  Consider pre-processing your data with StandardScaler or MinMaxScaler.\n",
      "  % self.max_iter, ConvergenceWarning)\n"
     ]
    },
    {
     "name": "stdout",
     "output_type": "stream",
     "text": [
      "[CV] ........ degree=9, kernel=poly, C=256, score=0.634, total=   4.7s\n",
      "[CV] degree=9, kernel=poly, C=32 .....................................\n"
     ]
    },
    {
     "name": "stderr",
     "output_type": "stream",
     "text": [
      "[Parallel(n_jobs=1)]: Done   3 out of   3 | elapsed:   14.0s remaining:    0.0s\n",
      "/home/matheus-a-s/.virtualenvs/.PumpsEnv/lib/python3.5/site-packages/sklearn/svm/_base.py:231: ConvergenceWarning: Solver terminated early (max_iter=3000).  Consider pre-processing your data with StandardScaler or MinMaxScaler.\n",
      "  % self.max_iter, ConvergenceWarning)\n"
     ]
    },
    {
     "name": "stdout",
     "output_type": "stream",
     "text": [
      "[CV] ......... degree=9, kernel=poly, C=32, score=0.681, total=   4.6s\n",
      "[CV] degree=9, kernel=poly, C=32 .....................................\n"
     ]
    },
    {
     "name": "stderr",
     "output_type": "stream",
     "text": [
      "[Parallel(n_jobs=1)]: Done   4 out of   4 | elapsed:   18.6s remaining:    0.0s\n",
      "/home/matheus-a-s/.virtualenvs/.PumpsEnv/lib/python3.5/site-packages/sklearn/svm/_base.py:231: ConvergenceWarning: Solver terminated early (max_iter=3000).  Consider pre-processing your data with StandardScaler or MinMaxScaler.\n",
      "  % self.max_iter, ConvergenceWarning)\n"
     ]
    },
    {
     "name": "stdout",
     "output_type": "stream",
     "text": [
      "[CV] ......... degree=9, kernel=poly, C=32, score=0.657, total=   4.7s\n",
      "[CV] degree=9, kernel=poly, C=32 .....................................\n"
     ]
    },
    {
     "name": "stderr",
     "output_type": "stream",
     "text": [
      "/home/matheus-a-s/.virtualenvs/.PumpsEnv/lib/python3.5/site-packages/sklearn/svm/_base.py:231: ConvergenceWarning: Solver terminated early (max_iter=3000).  Consider pre-processing your data with StandardScaler or MinMaxScaler.\n",
      "  % self.max_iter, ConvergenceWarning)\n"
     ]
    },
    {
     "name": "stdout",
     "output_type": "stream",
     "text": [
      "[CV] ......... degree=9, kernel=poly, C=32, score=0.634, total=   4.7s\n",
      "[CV] degree=7, kernel=poly, C=128 ....................................\n"
     ]
    },
    {
     "name": "stderr",
     "output_type": "stream",
     "text": [
      "/home/matheus-a-s/.virtualenvs/.PumpsEnv/lib/python3.5/site-packages/sklearn/svm/_base.py:231: ConvergenceWarning: Solver terminated early (max_iter=3000).  Consider pre-processing your data with StandardScaler or MinMaxScaler.\n",
      "  % self.max_iter, ConvergenceWarning)\n"
     ]
    },
    {
     "name": "stdout",
     "output_type": "stream",
     "text": [
      "[CV] ........ degree=7, kernel=poly, C=128, score=0.643, total=   4.7s\n",
      "[CV] degree=7, kernel=poly, C=128 ....................................\n"
     ]
    },
    {
     "name": "stderr",
     "output_type": "stream",
     "text": [
      "/home/matheus-a-s/.virtualenvs/.PumpsEnv/lib/python3.5/site-packages/sklearn/svm/_base.py:231: ConvergenceWarning: Solver terminated early (max_iter=3000).  Consider pre-processing your data with StandardScaler or MinMaxScaler.\n",
      "  % self.max_iter, ConvergenceWarning)\n"
     ]
    },
    {
     "name": "stdout",
     "output_type": "stream",
     "text": [
      "[CV] ........ degree=7, kernel=poly, C=128, score=0.638, total=   4.7s\n",
      "[CV] degree=7, kernel=poly, C=128 ....................................\n"
     ]
    },
    {
     "name": "stderr",
     "output_type": "stream",
     "text": [
      "/home/matheus-a-s/.virtualenvs/.PumpsEnv/lib/python3.5/site-packages/sklearn/svm/_base.py:231: ConvergenceWarning: Solver terminated early (max_iter=3000).  Consider pre-processing your data with StandardScaler or MinMaxScaler.\n",
      "  % self.max_iter, ConvergenceWarning)\n"
     ]
    },
    {
     "name": "stdout",
     "output_type": "stream",
     "text": [
      "[CV] ........ degree=7, kernel=poly, C=128, score=0.612, total=   4.6s\n",
      "[CV] degree=9, kernel=poly, C=1024 ...................................\n"
     ]
    },
    {
     "name": "stderr",
     "output_type": "stream",
     "text": [
      "/home/matheus-a-s/.virtualenvs/.PumpsEnv/lib/python3.5/site-packages/sklearn/svm/_base.py:231: ConvergenceWarning: Solver terminated early (max_iter=3000).  Consider pre-processing your data with StandardScaler or MinMaxScaler.\n",
      "  % self.max_iter, ConvergenceWarning)\n"
     ]
    },
    {
     "name": "stdout",
     "output_type": "stream",
     "text": [
      "[CV] ....... degree=9, kernel=poly, C=1024, score=0.681, total=   4.6s\n",
      "[CV] degree=9, kernel=poly, C=1024 ...................................\n"
     ]
    },
    {
     "name": "stderr",
     "output_type": "stream",
     "text": [
      "/home/matheus-a-s/.virtualenvs/.PumpsEnv/lib/python3.5/site-packages/sklearn/svm/_base.py:231: ConvergenceWarning: Solver terminated early (max_iter=3000).  Consider pre-processing your data with StandardScaler or MinMaxScaler.\n",
      "  % self.max_iter, ConvergenceWarning)\n"
     ]
    },
    {
     "name": "stdout",
     "output_type": "stream",
     "text": [
      "[CV] ....... degree=9, kernel=poly, C=1024, score=0.657, total=   4.7s\n",
      "[CV] degree=9, kernel=poly, C=1024 ...................................\n"
     ]
    },
    {
     "name": "stderr",
     "output_type": "stream",
     "text": [
      "/home/matheus-a-s/.virtualenvs/.PumpsEnv/lib/python3.5/site-packages/sklearn/svm/_base.py:231: ConvergenceWarning: Solver terminated early (max_iter=3000).  Consider pre-processing your data with StandardScaler or MinMaxScaler.\n",
      "  % self.max_iter, ConvergenceWarning)\n"
     ]
    },
    {
     "name": "stdout",
     "output_type": "stream",
     "text": [
      "[CV] ....... degree=9, kernel=poly, C=1024, score=0.634, total=   4.7s\n",
      "[CV] degree=3, kernel=poly, C=16384 ..................................\n"
     ]
    },
    {
     "name": "stderr",
     "output_type": "stream",
     "text": [
      "/home/matheus-a-s/.virtualenvs/.PumpsEnv/lib/python3.5/site-packages/sklearn/svm/_base.py:231: ConvergenceWarning: Solver terminated early (max_iter=3000).  Consider pre-processing your data with StandardScaler or MinMaxScaler.\n",
      "  % self.max_iter, ConvergenceWarning)\n"
     ]
    },
    {
     "name": "stdout",
     "output_type": "stream",
     "text": [
      "[CV] ...... degree=3, kernel=poly, C=16384, score=0.534, total=   4.5s\n",
      "[CV] degree=3, kernel=poly, C=16384 ..................................\n"
     ]
    },
    {
     "name": "stderr",
     "output_type": "stream",
     "text": [
      "/home/matheus-a-s/.virtualenvs/.PumpsEnv/lib/python3.5/site-packages/sklearn/svm/_base.py:231: ConvergenceWarning: Solver terminated early (max_iter=3000).  Consider pre-processing your data with StandardScaler or MinMaxScaler.\n",
      "  % self.max_iter, ConvergenceWarning)\n"
     ]
    },
    {
     "name": "stdout",
     "output_type": "stream",
     "text": [
      "[CV] ...... degree=3, kernel=poly, C=16384, score=0.529, total=   4.5s\n",
      "[CV] degree=3, kernel=poly, C=16384 ..................................\n"
     ]
    },
    {
     "name": "stderr",
     "output_type": "stream",
     "text": [
      "/home/matheus-a-s/.virtualenvs/.PumpsEnv/lib/python3.5/site-packages/sklearn/svm/_base.py:231: ConvergenceWarning: Solver terminated early (max_iter=3000).  Consider pre-processing your data with StandardScaler or MinMaxScaler.\n",
      "  % self.max_iter, ConvergenceWarning)\n"
     ]
    },
    {
     "name": "stdout",
     "output_type": "stream",
     "text": [
      "[CV] ...... degree=3, kernel=poly, C=16384, score=0.522, total=   4.5s\n"
     ]
    },
    {
     "name": "stderr",
     "output_type": "stream",
     "text": [
      "[Parallel(n_jobs=1)]: Done  15 out of  15 | elapsed:  1.2min finished\n",
      "/home/matheus-a-s/.virtualenvs/.PumpsEnv/lib/python3.5/site-packages/sklearn/svm/_base.py:231: ConvergenceWarning: Solver terminated early (max_iter=3000).  Consider pre-processing your data with StandardScaler or MinMaxScaler.\n",
      "  % self.max_iter, ConvergenceWarning)\n",
      "[Parallel(n_jobs=1)]: Using backend SequentialBackend with 1 concurrent workers.\n"
     ]
    },
    {
     "name": "stdout",
     "output_type": "stream",
     "text": [
      "SVM_RBF\n",
      "Fitting 3 folds for each of 5 candidates, totalling 15 fits\n",
      "[CV] gamma=4, kernel=rbf, C=0.25 .....................................\n",
      "[CV] ......... gamma=4, kernel=rbf, C=0.25, score=0.226, total=   5.2s\n",
      "[CV] gamma=4, kernel=rbf, C=0.25 .....................................\n"
     ]
    },
    {
     "name": "stderr",
     "output_type": "stream",
     "text": [
      "[Parallel(n_jobs=1)]: Done   1 out of   1 | elapsed:    5.2s remaining:    0.0s\n"
     ]
    },
    {
     "name": "stdout",
     "output_type": "stream",
     "text": [
      "[CV] ......... gamma=4, kernel=rbf, C=0.25, score=0.226, total=   5.2s\n",
      "[CV] gamma=4, kernel=rbf, C=0.25 .....................................\n"
     ]
    },
    {
     "name": "stderr",
     "output_type": "stream",
     "text": [
      "[Parallel(n_jobs=1)]: Done   2 out of   2 | elapsed:   10.4s remaining:    0.0s\n"
     ]
    },
    {
     "name": "stdout",
     "output_type": "stream",
     "text": [
      "[CV] ......... gamma=4, kernel=rbf, C=0.25, score=0.227, total=   5.2s\n",
      "[CV] gamma=0.001953125, kernel=rbf, C=1 ..............................\n"
     ]
    },
    {
     "name": "stderr",
     "output_type": "stream",
     "text": [
      "[Parallel(n_jobs=1)]: Done   3 out of   3 | elapsed:   15.6s remaining:    0.0s\n"
     ]
    },
    {
     "name": "stdout",
     "output_type": "stream",
     "text": [
      "[CV] .. gamma=0.001953125, kernel=rbf, C=1, score=0.226, total=   5.2s\n",
      "[CV] gamma=0.001953125, kernel=rbf, C=1 ..............................\n"
     ]
    },
    {
     "name": "stderr",
     "output_type": "stream",
     "text": [
      "[Parallel(n_jobs=1)]: Done   4 out of   4 | elapsed:   20.8s remaining:    0.0s\n"
     ]
    },
    {
     "name": "stdout",
     "output_type": "stream",
     "text": [
      "[CV] .. gamma=0.001953125, kernel=rbf, C=1, score=0.226, total=   5.2s\n",
      "[CV] gamma=0.001953125, kernel=rbf, C=1 ..............................\n",
      "[CV] .. gamma=0.001953125, kernel=rbf, C=1, score=0.227, total=   5.2s\n",
      "[CV] gamma=4, kernel=rbf, C=1 ........................................\n",
      "[CV] ............ gamma=4, kernel=rbf, C=1, score=0.226, total=   5.2s\n",
      "[CV] gamma=4, kernel=rbf, C=1 ........................................\n",
      "[CV] ............ gamma=4, kernel=rbf, C=1, score=0.226, total=   5.2s\n",
      "[CV] gamma=4, kernel=rbf, C=1 ........................................\n",
      "[CV] ............ gamma=4, kernel=rbf, C=1, score=0.227, total=   5.2s\n",
      "[CV] gamma=2, kernel=rbf, C=4096 .....................................\n",
      "[CV] ......... gamma=2, kernel=rbf, C=4096, score=0.226, total=   5.2s\n",
      "[CV] gamma=2, kernel=rbf, C=4096 .....................................\n",
      "[CV] ......... gamma=2, kernel=rbf, C=4096, score=0.226, total=   5.2s\n",
      "[CV] gamma=2, kernel=rbf, C=4096 .....................................\n",
      "[CV] ......... gamma=2, kernel=rbf, C=4096, score=0.227, total=   5.2s\n",
      "[CV] gamma=0.000244140625, kernel=rbf, C=8 ...........................\n",
      "[CV]  gamma=0.000244140625, kernel=rbf, C=8, score=0.226, total=   5.2s\n",
      "[CV] gamma=0.000244140625, kernel=rbf, C=8 ...........................\n",
      "[CV]  gamma=0.000244140625, kernel=rbf, C=8, score=0.226, total=   5.2s\n",
      "[CV] gamma=0.000244140625, kernel=rbf, C=8 ...........................\n",
      "[CV]  gamma=0.000244140625, kernel=rbf, C=8, score=0.227, total=   5.2s\n"
     ]
    },
    {
     "name": "stderr",
     "output_type": "stream",
     "text": [
      "[Parallel(n_jobs=1)]: Done  15 out of  15 | elapsed:  1.3min finished\n"
     ]
    },
    {
     "name": "stdout",
     "output_type": "stream",
     "text": [
      "random search: {'SVM_Polynomial': RandomizedSearchCV(cv=3, error_score=nan,\n",
      "                   estimator=SVC(C=1.0, break_ties=False, cache_size=200,\n",
      "                                 class_weight=None, coef0=0.0,\n",
      "                                 decision_function_shape='ovr', degree=3,\n",
      "                                 gamma='scale', kernel='poly', max_iter=3000,\n",
      "                                 probability=True, random_state=None,\n",
      "                                 shrinking=True, tol=0.001, verbose=False),\n",
      "                   iid='deprecated', n_iter=5, n_jobs=None,\n",
      "                   param_distributions={'C': [0.03125, 0.0625, 0.125, 0.25, 0.5,\n",
      "                                              1, 2, 4, 8, 16, 32, 64, 128, 256,\n",
      "                                              512, 1024, 2048, 4096, 8192,\n",
      "                                              16384],\n",
      "                                        'degree': [3, 5, 7, 9],\n",
      "                                        'kernel': ['poly']},\n",
      "                   pre_dispatch='2*n_jobs', random_state=None, refit=True,\n",
      "                   return_train_score=False, scoring='accuracy', verbose=5), 'MLP': RandomizedSearchCV(cv=3, error_score=nan,\n",
      "                   estimator=MLPClassifier(activation='relu', alpha=0.0001,\n",
      "                                           batch_size='auto', beta_1=0.9,\n",
      "                                           beta_2=0.999, early_stopping=False,\n",
      "                                           epsilon=1e-08,\n",
      "                                           hidden_layer_sizes=(100,),\n",
      "                                           learning_rate='constant',\n",
      "                                           learning_rate_init=0.0005,\n",
      "                                           max_fun=15000, max_iter=1000,\n",
      "                                           momentum=0.9, n_iter_no_change=10,\n",
      "                                           nesterovs_momentum=True, power_t=0.5,\n",
      "                                           rand...\n",
      "                                           solver='adam', tol=0.0001,\n",
      "                                           validation_fraction=0.1,\n",
      "                                           verbose=False, warm_start=False),\n",
      "                   iid='deprecated', n_iter=5, n_jobs=None,\n",
      "                   param_distributions={'hidden_layer_sizes': [2, 3, 4, 5, 6, 7,\n",
      "                                                               8, 9, 10, 11, 12,\n",
      "                                                               13, 14, 15, 16,\n",
      "                                                               17, 18, 19, 20,\n",
      "                                                               21, 22, 23, 24,\n",
      "                                                               25, 26, 27, 28,\n",
      "                                                               29, 30, 31, ...]},\n",
      "                   pre_dispatch='2*n_jobs', random_state=None, refit=True,\n",
      "                   return_train_score=False, scoring='accuracy', verbose=5), 'SVM_Linear': RandomizedSearchCV(cv=3, error_score=nan,\n",
      "                   estimator=SVC(C=1.0, break_ties=False, cache_size=200,\n",
      "                                 class_weight=None, coef0=0.0,\n",
      "                                 decision_function_shape='ovr', degree=3,\n",
      "                                 gamma='scale', kernel='linear', max_iter=3000,\n",
      "                                 probability=True, random_state=None,\n",
      "                                 shrinking=True, tol=0.001, verbose=False),\n",
      "                   iid='deprecated', n_iter=5, n_jobs=None,\n",
      "                   param_distributions={'C': [0.03125, 0.0625, 0.125, 0.25, 0.5,\n",
      "                                              1, 2, 4, 8, 16, 32, 64, 128, 256,\n",
      "                                              512, 1024, 2048, 4096, 8192,\n",
      "                                              16384],\n",
      "                                        'kernel': ['linear']},\n",
      "                   pre_dispatch='2*n_jobs', random_state=None, refit=True,\n",
      "                   return_train_score=False, scoring='accuracy', verbose=5), 'Naive_Bayes': [], 'SVM_RBF': RandomizedSearchCV(cv=3, error_score=nan,\n",
      "                   estimator=SVC(C=1.0, break_ties=False, cache_size=200,\n",
      "                                 class_weight=None, coef0=0.0,\n",
      "                                 decision_function_shape='ovr', degree=3,\n",
      "                                 gamma='scale', kernel='rbf', max_iter=3000,\n",
      "                                 probability=True, random_state=None,\n",
      "                                 shrinking=True, tol=0.001, verbose=False),\n",
      "                   iid='deprecated', n_iter=5, n_jobs=None,\n",
      "                   param_distributions={'C': [0.03125, 0.0...\n",
      "                                              1, 2, 4, 8, 16, 32, 64, 128, 256,\n",
      "                                              512, 1024, 2048, 4096, 8192,\n",
      "                                              16384],\n",
      "                                        'gamma': [3.0517578125e-05,\n",
      "                                                  6.103515625e-05,\n",
      "                                                  0.0001220703125,\n",
      "                                                  0.000244140625, 0.00048828125,\n",
      "                                                  0.0009765625, 0.001953125,\n",
      "                                                  0.00390625, 0.0078125,\n",
      "                                                  0.015625, 0.03125, 0.0625,\n",
      "                                                  0.125, 0.25, 0.5, 1, 2, 4],\n",
      "                                        'kernel': ['rbf']},\n",
      "                   pre_dispatch='2*n_jobs', random_state=None, refit=True,\n",
      "                   return_train_score=False, scoring='accuracy', verbose=5), 'Nearest_Neighbors': RandomizedSearchCV(cv=3, error_score=nan,\n",
      "                   estimator=KNeighborsClassifier(algorithm='auto',\n",
      "                                                  leaf_size=30,\n",
      "                                                  metric='minkowski',\n",
      "                                                  metric_params=None,\n",
      "                                                  n_jobs=None, n_neighbors=5,\n",
      "                                                  p=2, weights='uniform'),\n",
      "                   iid='deprecated', n_iter=5, n_jobs=None,\n",
      "                   param_distributions={'n_neighbors': [1, 3, 5, 7, 9, 11]},\n",
      "                   pre_dispatch='2*n_jobs', random_state=None, refit=True,\n",
      "                   return_train_score=False, scoring='accuracy', verbose=5), 'Random_Forest': RandomizedSearchCV(cv=3, error_score=nan,\n",
      "                   estimator=RandomForestClassifier(bootstrap=True,\n",
      "                                                    ccp_alpha=0.0,\n",
      "                                                    class_weight=None,\n",
      "                                                    criterion='gini',\n",
      "                                                    max_depth=None,\n",
      "                                                    max_features='auto',\n",
      "                                                    max_leaf_nodes=None,\n",
      "                                                    max_samples=None,\n",
      "                                                    min_impurity_decrease=0.0,\n",
      "                                                    min_impurity_split=None,\n",
      "                                                    min_samples_leaf=1,\n",
      "                                                    min_samples_split=2,\n",
      "                                                    min_weight_fraction_leaf=0.0,\n",
      "                                                    n_estimators=100,\n",
      "                                                    n_jobs...\n",
      "                                        'max_features': <scipy.stats._distn_infrastructure.rv_frozen object at 0x7f59daa30a58>,\n",
      "                                        'min_samples_leaf': <scipy.stats._distn_infrastructure.rv_frozen object at 0x7f59daa30ef0>,\n",
      "                                        'min_samples_split': <scipy.stats._distn_infrastructure.rv_frozen object at 0x7f59daa30c50>,\n",
      "                                        'n_estimators': [3000]},\n",
      "                   pre_dispatch='2*n_jobs', random_state=None, refit=True,\n",
      "                   return_train_score=False, scoring='accuracy', verbose=5)}\n",
      "{'SVM_Polynomial': [], 'MLP': [], 'SVM_Linear': [], 'Naive_Bayes': [], 'SVM_RBF': [], 'Nearest_Neighbors': [], 'Random_Forest': []}\n",
      "Naive_Bayes\n",
      "MLP\n",
      "Fitting 3 folds for each of 5 candidates, totalling 15 fits\n",
      "[CV] hidden_layer_sizes=807 ..........................................\n"
     ]
    },
    {
     "name": "stderr",
     "output_type": "stream",
     "text": [
      "[Parallel(n_jobs=1)]: Using backend SequentialBackend with 1 concurrent workers.\n"
     ]
    },
    {
     "name": "stdout",
     "output_type": "stream",
     "text": [
      "[CV] .............. hidden_layer_sizes=807, score=0.946, total=   2.5s\n",
      "[CV] hidden_layer_sizes=807 ..........................................\n"
     ]
    },
    {
     "name": "stderr",
     "output_type": "stream",
     "text": [
      "[Parallel(n_jobs=1)]: Done   1 out of   1 | elapsed:    2.5s remaining:    0.0s\n"
     ]
    },
    {
     "name": "stdout",
     "output_type": "stream",
     "text": [
      "[CV] .............. hidden_layer_sizes=807, score=0.956, total=   1.9s\n",
      "[CV] hidden_layer_sizes=807 ..........................................\n"
     ]
    },
    {
     "name": "stderr",
     "output_type": "stream",
     "text": [
      "[Parallel(n_jobs=1)]: Done   2 out of   2 | elapsed:    4.4s remaining:    0.0s\n"
     ]
    },
    {
     "name": "stdout",
     "output_type": "stream",
     "text": [
      "[CV] .............. hidden_layer_sizes=807, score=0.934, total=   2.2s\n",
      "[CV] hidden_layer_sizes=380 ..........................................\n"
     ]
    },
    {
     "name": "stderr",
     "output_type": "stream",
     "text": [
      "[Parallel(n_jobs=1)]: Done   3 out of   3 | elapsed:    6.6s remaining:    0.0s\n"
     ]
    },
    {
     "name": "stdout",
     "output_type": "stream",
     "text": [
      "[CV] .............. hidden_layer_sizes=380, score=0.937, total=   1.4s\n",
      "[CV] hidden_layer_sizes=380 ..........................................\n"
     ]
    },
    {
     "name": "stderr",
     "output_type": "stream",
     "text": [
      "[Parallel(n_jobs=1)]: Done   4 out of   4 | elapsed:    7.9s remaining:    0.0s\n"
     ]
    },
    {
     "name": "stdout",
     "output_type": "stream",
     "text": [
      "[CV] .............. hidden_layer_sizes=380, score=0.937, total=   1.4s\n",
      "[CV] hidden_layer_sizes=380 ..........................................\n",
      "[CV] .............. hidden_layer_sizes=380, score=0.934, total=   1.7s\n",
      "[CV] hidden_layer_sizes=694 ..........................................\n",
      "[CV] .............. hidden_layer_sizes=694, score=0.946, total=   2.3s\n",
      "[CV] hidden_layer_sizes=694 ..........................................\n",
      "[CV] .............. hidden_layer_sizes=694, score=0.937, total=   1.8s\n",
      "[CV] hidden_layer_sizes=694 ..........................................\n",
      "[CV] .............. hidden_layer_sizes=694, score=0.929, total=   2.1s\n",
      "[CV] hidden_layer_sizes=734 ..........................................\n",
      "[CV] .............. hidden_layer_sizes=734, score=0.956, total=   2.6s\n",
      "[CV] hidden_layer_sizes=734 ..........................................\n",
      "[CV] .............. hidden_layer_sizes=734, score=0.937, total=   2.5s\n",
      "[CV] hidden_layer_sizes=734 ..........................................\n",
      "[CV] .............. hidden_layer_sizes=734, score=0.937, total=   2.3s\n",
      "[CV] hidden_layer_sizes=167 ..........................................\n",
      "[CV] .............. hidden_layer_sizes=167, score=0.940, total=   1.6s\n",
      "[CV] hidden_layer_sizes=167 ..........................................\n",
      "[CV] .............. hidden_layer_sizes=167, score=0.935, total=   1.4s\n",
      "[CV] hidden_layer_sizes=167 ..........................................\n",
      "[CV] .............. hidden_layer_sizes=167, score=0.943, total=   1.6s\n"
     ]
    },
    {
     "name": "stderr",
     "output_type": "stream",
     "text": [
      "[Parallel(n_jobs=1)]: Done  15 out of  15 | elapsed:   29.3s finished\n"
     ]
    },
    {
     "name": "stdout",
     "output_type": "stream",
     "text": [
      "Nearest_Neighbors\n",
      "Fitting 3 folds for each of 5 candidates, totalling 15 fits\n",
      "[CV] n_neighbors=11 ..................................................\n",
      "[CV] ...................... n_neighbors=11, score=0.973, total=   0.1s\n",
      "[CV] n_neighbors=11 ..................................................\n",
      "[CV] ...................... n_neighbors=11, score=0.975, total=   0.0s\n",
      "[CV] n_neighbors=11 ..................................................\n",
      "[CV] ...................... n_neighbors=11, score=0.970, total=   0.0s\n",
      "[CV] n_neighbors=3 ...................................................\n",
      "[CV] ....................... n_neighbors=3, score=0.978, total=   0.0s\n",
      "[CV] n_neighbors=3 ...................................................\n",
      "[CV] ....................... n_neighbors=3, score=0.978, total=   0.0s\n",
      "[CV] n_neighbors=3 ...................................................\n",
      "[CV] ....................... n_neighbors=3, score=0.970, total=   0.0s\n",
      "[CV] n_neighbors=9 ...................................................\n"
     ]
    },
    {
     "name": "stderr",
     "output_type": "stream",
     "text": [
      "[Parallel(n_jobs=1)]: Using backend SequentialBackend with 1 concurrent workers.\n",
      "[Parallel(n_jobs=1)]: Done   1 out of   1 | elapsed:    0.1s remaining:    0.0s\n",
      "[Parallel(n_jobs=1)]: Done   2 out of   2 | elapsed:    0.1s remaining:    0.0s\n",
      "[Parallel(n_jobs=1)]: Done   3 out of   3 | elapsed:    0.1s remaining:    0.0s\n",
      "[Parallel(n_jobs=1)]: Done   4 out of   4 | elapsed:    0.1s remaining:    0.0s\n"
     ]
    },
    {
     "name": "stdout",
     "output_type": "stream",
     "text": [
      "[CV] ....................... n_neighbors=9, score=0.975, total=   0.0s\n",
      "[CV] n_neighbors=9 ...................................................\n",
      "[CV] ....................... n_neighbors=9, score=0.975, total=   0.0s\n",
      "[CV] n_neighbors=9 ...................................................\n",
      "[CV] ....................... n_neighbors=9, score=0.973, total=   0.0s\n",
      "[CV] n_neighbors=7 ...................................................\n",
      "[CV] ....................... n_neighbors=7, score=0.973, total=   0.0s\n",
      "[CV] n_neighbors=7 ...................................................\n",
      "[CV] ....................... n_neighbors=7, score=0.978, total=   0.0s\n",
      "[CV] n_neighbors=7 ...................................................\n",
      "[CV] ....................... n_neighbors=7, score=0.975, total=   0.0s\n",
      "[CV] n_neighbors=5 ...................................................\n",
      "[CV] ....................... n_neighbors=5, score=0.978, total=   0.0s\n",
      "[CV] n_neighbors=5 ...................................................\n",
      "[CV] ....................... n_neighbors=5, score=0.981, total=   0.0s\n",
      "[CV] n_neighbors=5 ...................................................\n",
      "[CV] ....................... n_neighbors=5, score=0.975, total=   0.0s\n",
      "Random_Forest\n",
      "Fitting 3 folds for each of 5 candidates, totalling 15 fits\n",
      "[CV] n_estimators=3000, bootstrap=True, min_samples_leaf=2, max_depth=None, min_samples_split=2, max_features=7, criterion=entropy \n"
     ]
    },
    {
     "name": "stderr",
     "output_type": "stream",
     "text": [
      "[Parallel(n_jobs=1)]: Done  15 out of  15 | elapsed:    0.4s finished\n",
      "[Parallel(n_jobs=1)]: Using backend SequentialBackend with 1 concurrent workers.\n"
     ]
    },
    {
     "name": "stdout",
     "output_type": "stream",
     "text": [
      "[CV]  n_estimators=3000, bootstrap=True, min_samples_leaf=2, max_depth=None, min_samples_split=2, max_features=7, criterion=entropy, score=0.975, total=  16.9s\n",
      "[CV] n_estimators=3000, bootstrap=True, min_samples_leaf=2, max_depth=None, min_samples_split=2, max_features=7, criterion=entropy \n"
     ]
    },
    {
     "name": "stderr",
     "output_type": "stream",
     "text": [
      "[Parallel(n_jobs=1)]: Done   1 out of   1 | elapsed:   16.9s remaining:    0.0s\n"
     ]
    },
    {
     "name": "stdout",
     "output_type": "stream",
     "text": [
      "[CV]  n_estimators=3000, bootstrap=True, min_samples_leaf=2, max_depth=None, min_samples_split=2, max_features=7, criterion=entropy, score=0.978, total=  16.8s\n",
      "[CV] n_estimators=3000, bootstrap=True, min_samples_leaf=2, max_depth=None, min_samples_split=2, max_features=7, criterion=entropy \n"
     ]
    },
    {
     "name": "stderr",
     "output_type": "stream",
     "text": [
      "[Parallel(n_jobs=1)]: Done   2 out of   2 | elapsed:   33.8s remaining:    0.0s\n"
     ]
    },
    {
     "name": "stdout",
     "output_type": "stream",
     "text": [
      "[CV]  n_estimators=3000, bootstrap=True, min_samples_leaf=2, max_depth=None, min_samples_split=2, max_features=7, criterion=entropy, score=0.975, total=  16.4s\n",
      "[CV] n_estimators=3000, bootstrap=False, min_samples_leaf=1, max_depth=None, min_samples_split=10, max_features=8, criterion=entropy \n"
     ]
    },
    {
     "name": "stderr",
     "output_type": "stream",
     "text": [
      "[Parallel(n_jobs=1)]: Done   3 out of   3 | elapsed:   50.2s remaining:    0.0s\n"
     ]
    },
    {
     "name": "stdout",
     "output_type": "stream",
     "text": [
      "[CV]  n_estimators=3000, bootstrap=False, min_samples_leaf=1, max_depth=None, min_samples_split=10, max_features=8, criterion=entropy, score=0.978, total=  26.5s\n",
      "[CV] n_estimators=3000, bootstrap=False, min_samples_leaf=1, max_depth=None, min_samples_split=10, max_features=8, criterion=entropy \n"
     ]
    },
    {
     "name": "stderr",
     "output_type": "stream",
     "text": [
      "[Parallel(n_jobs=1)]: Done   4 out of   4 | elapsed:  1.3min remaining:    0.0s\n"
     ]
    },
    {
     "name": "stdout",
     "output_type": "stream",
     "text": [
      "[CV]  n_estimators=3000, bootstrap=False, min_samples_leaf=1, max_depth=None, min_samples_split=10, max_features=8, criterion=entropy, score=0.978, total=  26.2s\n",
      "[CV] n_estimators=3000, bootstrap=False, min_samples_leaf=1, max_depth=None, min_samples_split=10, max_features=8, criterion=entropy \n",
      "[CV]  n_estimators=3000, bootstrap=False, min_samples_leaf=1, max_depth=None, min_samples_split=10, max_features=8, criterion=entropy, score=0.975, total=  25.5s\n",
      "[CV] n_estimators=3000, bootstrap=True, min_samples_leaf=2, max_depth=6, min_samples_split=4, max_features=4, criterion=gini \n",
      "[CV]  n_estimators=3000, bootstrap=True, min_samples_leaf=2, max_depth=6, min_samples_split=4, max_features=4, criterion=gini, score=0.975, total=   8.2s\n",
      "[CV] n_estimators=3000, bootstrap=True, min_samples_leaf=2, max_depth=6, min_samples_split=4, max_features=4, criterion=gini \n",
      "[CV]  n_estimators=3000, bootstrap=True, min_samples_leaf=2, max_depth=6, min_samples_split=4, max_features=4, criterion=gini, score=0.978, total=   7.8s\n",
      "[CV] n_estimators=3000, bootstrap=True, min_samples_leaf=2, max_depth=6, min_samples_split=4, max_features=4, criterion=gini \n",
      "[CV]  n_estimators=3000, bootstrap=True, min_samples_leaf=2, max_depth=6, min_samples_split=4, max_features=4, criterion=gini, score=0.978, total=   7.8s\n",
      "[CV] n_estimators=3000, bootstrap=True, min_samples_leaf=4, max_depth=None, min_samples_split=5, max_features=3, criterion=gini \n",
      "[CV]  n_estimators=3000, bootstrap=True, min_samples_leaf=4, max_depth=None, min_samples_split=5, max_features=3, criterion=gini, score=0.975, total=   7.2s\n",
      "[CV] n_estimators=3000, bootstrap=True, min_samples_leaf=4, max_depth=None, min_samples_split=5, max_features=3, criterion=gini \n",
      "[CV]  n_estimators=3000, bootstrap=True, min_samples_leaf=4, max_depth=None, min_samples_split=5, max_features=3, criterion=gini, score=0.978, total=   7.3s\n",
      "[CV] n_estimators=3000, bootstrap=True, min_samples_leaf=4, max_depth=None, min_samples_split=5, max_features=3, criterion=gini \n",
      "[CV]  n_estimators=3000, bootstrap=True, min_samples_leaf=4, max_depth=None, min_samples_split=5, max_features=3, criterion=gini, score=0.978, total=   7.2s\n",
      "[CV] n_estimators=3000, bootstrap=False, min_samples_leaf=4, max_depth=None, min_samples_split=3, max_features=10, criterion=entropy \n",
      "[CV]  n_estimators=3000, bootstrap=False, min_samples_leaf=4, max_depth=None, min_samples_split=3, max_features=10, criterion=entropy, score=0.978, total=  30.1s\n",
      "[CV] n_estimators=3000, bootstrap=False, min_samples_leaf=4, max_depth=None, min_samples_split=3, max_features=10, criterion=entropy \n",
      "[CV]  n_estimators=3000, bootstrap=False, min_samples_leaf=4, max_depth=None, min_samples_split=3, max_features=10, criterion=entropy, score=0.981, total=  29.8s\n",
      "[CV] n_estimators=3000, bootstrap=False, min_samples_leaf=4, max_depth=None, min_samples_split=3, max_features=10, criterion=entropy \n",
      "[CV]  n_estimators=3000, bootstrap=False, min_samples_leaf=4, max_depth=None, min_samples_split=3, max_features=10, criterion=entropy, score=0.975, total=  28.9s\n"
     ]
    },
    {
     "name": "stderr",
     "output_type": "stream",
     "text": [
      "[Parallel(n_jobs=1)]: Done  15 out of  15 | elapsed:  4.4min finished\n"
     ]
    },
    {
     "name": "stdout",
     "output_type": "stream",
     "text": [
      "SVM_Linear\n",
      "Fitting 3 folds for each of 5 candidates, totalling 15 fits\n",
      "[CV] kernel=linear, C=128 ............................................\n",
      "[CV] ................ kernel=linear, C=128, score=0.995, total=   0.0s\n",
      "[CV] kernel=linear, C=128 ............................................\n",
      "[CV] ................ kernel=linear, C=128, score=0.995, total=   0.0s\n",
      "[CV] kernel=linear, C=128 ............................................\n",
      "[CV] ................ kernel=linear, C=128, score=0.986, total=   0.0s\n",
      "[CV] kernel=linear, C=8192 ...........................................\n",
      "[CV] ............... kernel=linear, C=8192, score=0.995, total=   0.0s\n",
      "[CV] kernel=linear, C=8192 ...........................................\n",
      "[CV] ............... kernel=linear, C=8192, score=0.995, total=   0.0s\n",
      "[CV] kernel=linear, C=8192 ...........................................\n",
      "[CV] ............... kernel=linear, C=8192, score=0.986, total=   0.0s\n",
      "[CV] kernel=linear, C=16 .............................................\n"
     ]
    },
    {
     "name": "stderr",
     "output_type": "stream",
     "text": [
      "[Parallel(n_jobs=1)]: Using backend SequentialBackend with 1 concurrent workers.\n",
      "/home/matheus-a-s/.virtualenvs/.PumpsEnv/lib/python3.5/site-packages/sklearn/svm/_base.py:231: ConvergenceWarning: Solver terminated early (max_iter=3000).  Consider pre-processing your data with StandardScaler or MinMaxScaler.\n",
      "  % self.max_iter, ConvergenceWarning)\n",
      "[Parallel(n_jobs=1)]: Done   1 out of   1 | elapsed:    0.0s remaining:    0.0s\n",
      "[Parallel(n_jobs=1)]: Done   2 out of   2 | elapsed:    0.1s remaining:    0.0s\n",
      "[Parallel(n_jobs=1)]: Done   3 out of   3 | elapsed:    0.1s remaining:    0.0s\n",
      "/home/matheus-a-s/.virtualenvs/.PumpsEnv/lib/python3.5/site-packages/sklearn/svm/_base.py:231: ConvergenceWarning: Solver terminated early (max_iter=3000).  Consider pre-processing your data with StandardScaler or MinMaxScaler.\n",
      "  % self.max_iter, ConvergenceWarning)\n",
      "[Parallel(n_jobs=1)]: Done   4 out of   4 | elapsed:    0.1s remaining:    0.0s\n",
      "/home/matheus-a-s/.virtualenvs/.PumpsEnv/lib/python3.5/site-packages/sklearn/svm/_base.py:231: ConvergenceWarning: Solver terminated early (max_iter=3000).  Consider pre-processing your data with StandardScaler or MinMaxScaler.\n",
      "  % self.max_iter, ConvergenceWarning)\n",
      "/home/matheus-a-s/.virtualenvs/.PumpsEnv/lib/python3.5/site-packages/sklearn/svm/_base.py:231: ConvergenceWarning: Solver terminated early (max_iter=3000).  Consider pre-processing your data with StandardScaler or MinMaxScaler.\n",
      "  % self.max_iter, ConvergenceWarning)\n",
      "/home/matheus-a-s/.virtualenvs/.PumpsEnv/lib/python3.5/site-packages/sklearn/svm/_base.py:231: ConvergenceWarning: Solver terminated early (max_iter=3000).  Consider pre-processing your data with StandardScaler or MinMaxScaler.\n",
      "  % self.max_iter, ConvergenceWarning)\n",
      "/home/matheus-a-s/.virtualenvs/.PumpsEnv/lib/python3.5/site-packages/sklearn/svm/_base.py:231: ConvergenceWarning: Solver terminated early (max_iter=3000).  Consider pre-processing your data with StandardScaler or MinMaxScaler.\n",
      "  % self.max_iter, ConvergenceWarning)\n",
      "/home/matheus-a-s/.virtualenvs/.PumpsEnv/lib/python3.5/site-packages/sklearn/svm/_base.py:231: ConvergenceWarning: Solver terminated early (max_iter=3000).  Consider pre-processing your data with StandardScaler or MinMaxScaler.\n",
      "  % self.max_iter, ConvergenceWarning)\n",
      "/home/matheus-a-s/.virtualenvs/.PumpsEnv/lib/python3.5/site-packages/sklearn/svm/_base.py:231: ConvergenceWarning: Solver terminated early (max_iter=3000).  Consider pre-processing your data with StandardScaler or MinMaxScaler.\n",
      "  % self.max_iter, ConvergenceWarning)\n",
      "/home/matheus-a-s/.virtualenvs/.PumpsEnv/lib/python3.5/site-packages/sklearn/svm/_base.py:231: ConvergenceWarning: Solver terminated early (max_iter=3000).  Consider pre-processing your data with StandardScaler or MinMaxScaler.\n",
      "  % self.max_iter, ConvergenceWarning)\n",
      "/home/matheus-a-s/.virtualenvs/.PumpsEnv/lib/python3.5/site-packages/sklearn/svm/_base.py:231: ConvergenceWarning: Solver terminated early (max_iter=3000).  Consider pre-processing your data with StandardScaler or MinMaxScaler.\n",
      "  % self.max_iter, ConvergenceWarning)\n"
     ]
    },
    {
     "name": "stdout",
     "output_type": "stream",
     "text": [
      "[CV] ................. kernel=linear, C=16, score=0.995, total=   0.0s\n",
      "[CV] kernel=linear, C=16 .............................................\n",
      "[CV] ................. kernel=linear, C=16, score=0.995, total=   0.0s\n",
      "[CV] kernel=linear, C=16 .............................................\n",
      "[CV] ................. kernel=linear, C=16, score=0.986, total=   0.0s\n",
      "[CV] kernel=linear, C=0.03125 ........................................\n",
      "[CV] ............ kernel=linear, C=0.03125, score=0.995, total=   0.0s\n",
      "[CV] kernel=linear, C=0.03125 ........................................\n",
      "[CV] ............ kernel=linear, C=0.03125, score=0.995, total=   0.0s\n",
      "[CV] kernel=linear, C=0.03125 ........................................\n",
      "[CV] ............ kernel=linear, C=0.03125, score=0.986, total=   0.0s\n",
      "[CV] kernel=linear, C=512 ............................................\n",
      "[CV] ................ kernel=linear, C=512, score=0.995, total=   0.0s\n",
      "[CV] kernel=linear, C=512 ............................................\n"
     ]
    },
    {
     "name": "stderr",
     "output_type": "stream",
     "text": [
      "/home/matheus-a-s/.virtualenvs/.PumpsEnv/lib/python3.5/site-packages/sklearn/svm/_base.py:231: ConvergenceWarning: Solver terminated early (max_iter=3000).  Consider pre-processing your data with StandardScaler or MinMaxScaler.\n",
      "  % self.max_iter, ConvergenceWarning)\n",
      "/home/matheus-a-s/.virtualenvs/.PumpsEnv/lib/python3.5/site-packages/sklearn/svm/_base.py:231: ConvergenceWarning: Solver terminated early (max_iter=3000).  Consider pre-processing your data with StandardScaler or MinMaxScaler.\n",
      "  % self.max_iter, ConvergenceWarning)\n",
      "[Parallel(n_jobs=1)]: Done  15 out of  15 | elapsed:    0.5s finished\n",
      "/home/matheus-a-s/.virtualenvs/.PumpsEnv/lib/python3.5/site-packages/sklearn/svm/_base.py:231: ConvergenceWarning: Solver terminated early (max_iter=3000).  Consider pre-processing your data with StandardScaler or MinMaxScaler.\n",
      "  % self.max_iter, ConvergenceWarning)\n",
      "[Parallel(n_jobs=1)]: Using backend SequentialBackend with 1 concurrent workers.\n",
      "[Parallel(n_jobs=1)]: Done   1 out of   1 | elapsed:    0.1s remaining:    0.0s\n",
      "[Parallel(n_jobs=1)]: Done   2 out of   2 | elapsed:    0.1s remaining:    0.0s\n"
     ]
    },
    {
     "name": "stdout",
     "output_type": "stream",
     "text": [
      "[CV] ................ kernel=linear, C=512, score=0.995, total=   0.0s\n",
      "[CV] kernel=linear, C=512 ............................................\n",
      "[CV] ................ kernel=linear, C=512, score=0.986, total=   0.0s\n",
      "SVM_Polynomial\n",
      "Fitting 3 folds for each of 5 candidates, totalling 15 fits\n",
      "[CV] degree=9, kernel=poly, C=1 ......................................\n",
      "[CV] .......... degree=9, kernel=poly, C=1, score=0.847, total=   0.1s\n",
      "[CV] degree=9, kernel=poly, C=1 ......................................\n",
      "[CV] .......... degree=9, kernel=poly, C=1, score=0.883, total=   0.1s\n",
      "[CV] degree=9, kernel=poly, C=1 ......................................\n",
      "[CV] .......... degree=9, kernel=poly, C=1, score=0.760, total=   0.1s\n",
      "[CV] degree=3, kernel=poly, C=16 .....................................\n",
      "[CV] ......... degree=3, kernel=poly, C=16, score=1.000, total=   0.0s\n",
      "[CV] degree=3, kernel=poly, C=16 .....................................\n",
      "[CV] ......... degree=3, kernel=poly, C=16, score=0.992, total=   0.0s\n",
      "[CV] degree=3, kernel=poly, C=16 .....................................\n",
      "[CV] ......... degree=3, kernel=poly, C=16, score=0.981, total=   0.0s\n",
      "[CV] degree=9, kernel=poly, C=512 ....................................\n",
      "[CV] ........ degree=9, kernel=poly, C=512, score=0.975, total=   0.0s\n",
      "[CV] degree=9, kernel=poly, C=512 ....................................\n",
      "[CV] ........ degree=9, kernel=poly, C=512, score=0.967, total=   0.0s\n",
      "[CV] degree=9, kernel=poly, C=512 ....................................\n",
      "[CV] ........ degree=9, kernel=poly, C=512, score=0.951, total=   0.0s\n",
      "[CV] degree=3, kernel=poly, C=32 .....................................\n"
     ]
    },
    {
     "name": "stderr",
     "output_type": "stream",
     "text": [
      "[Parallel(n_jobs=1)]: Done   3 out of   3 | elapsed:    0.2s remaining:    0.0s\n",
      "[Parallel(n_jobs=1)]: Done   4 out of   4 | elapsed:    0.2s remaining:    0.0s\n"
     ]
    },
    {
     "name": "stdout",
     "output_type": "stream",
     "text": [
      "[CV] ......... degree=3, kernel=poly, C=32, score=0.995, total=   0.0s\n",
      "[CV] degree=3, kernel=poly, C=32 .....................................\n",
      "[CV] ......... degree=3, kernel=poly, C=32, score=0.992, total=   0.0s\n",
      "[CV] degree=3, kernel=poly, C=32 .....................................\n",
      "[CV] ......... degree=3, kernel=poly, C=32, score=0.984, total=   0.0s\n",
      "[CV] degree=3, kernel=poly, C=512 ....................................\n",
      "[CV] ........ degree=3, kernel=poly, C=512, score=0.997, total=   0.0s\n",
      "[CV] degree=3, kernel=poly, C=512 ....................................\n",
      "[CV] ........ degree=3, kernel=poly, C=512, score=0.975, total=   0.0s\n",
      "[CV] degree=3, kernel=poly, C=512 ....................................\n",
      "[CV] ........ degree=3, kernel=poly, C=512, score=0.975, total=   0.0s\n",
      "SVM_RBF\n",
      "Fitting 3 folds for each of 5 candidates, totalling 15 fits\n",
      "[CV] gamma=0.0001220703125, kernel=rbf, C=16384 ......................\n"
     ]
    },
    {
     "name": "stderr",
     "output_type": "stream",
     "text": [
      "[Parallel(n_jobs=1)]: Done  15 out of  15 | elapsed:    0.5s finished\n",
      "[Parallel(n_jobs=1)]: Using backend SequentialBackend with 1 concurrent workers.\n"
     ]
    },
    {
     "name": "stdout",
     "output_type": "stream",
     "text": [
      "[CV]  gamma=0.0001220703125, kernel=rbf, C=16384, score=0.226, total=   0.4s\n",
      "[CV] gamma=0.0001220703125, kernel=rbf, C=16384 ......................\n"
     ]
    },
    {
     "name": "stderr",
     "output_type": "stream",
     "text": [
      "[Parallel(n_jobs=1)]: Done   1 out of   1 | elapsed:    0.4s remaining:    0.0s\n"
     ]
    },
    {
     "name": "stdout",
     "output_type": "stream",
     "text": [
      "[CV]  gamma=0.0001220703125, kernel=rbf, C=16384, score=0.229, total=   0.4s\n",
      "[CV] gamma=0.0001220703125, kernel=rbf, C=16384 ......................\n"
     ]
    },
    {
     "name": "stderr",
     "output_type": "stream",
     "text": [
      "[Parallel(n_jobs=1)]: Done   2 out of   2 | elapsed:    0.9s remaining:    0.0s\n"
     ]
    },
    {
     "name": "stdout",
     "output_type": "stream",
     "text": [
      "[CV]  gamma=0.0001220703125, kernel=rbf, C=16384, score=0.235, total=   0.4s\n",
      "[CV] gamma=0.5, kernel=rbf, C=0.0625 .................................\n"
     ]
    },
    {
     "name": "stderr",
     "output_type": "stream",
     "text": [
      "[Parallel(n_jobs=1)]: Done   3 out of   3 | elapsed:    1.3s remaining:    0.0s\n"
     ]
    },
    {
     "name": "stdout",
     "output_type": "stream",
     "text": [
      "[CV] ..... gamma=0.5, kernel=rbf, C=0.0625, score=0.226, total=   0.3s\n",
      "[CV] gamma=0.5, kernel=rbf, C=0.0625 .................................\n"
     ]
    },
    {
     "name": "stderr",
     "output_type": "stream",
     "text": [
      "[Parallel(n_jobs=1)]: Done   4 out of   4 | elapsed:    1.6s remaining:    0.0s\n"
     ]
    },
    {
     "name": "stdout",
     "output_type": "stream",
     "text": [
      "[CV] ..... gamma=0.5, kernel=rbf, C=0.0625, score=0.226, total=   0.3s\n",
      "[CV] gamma=0.5, kernel=rbf, C=0.0625 .................................\n",
      "[CV] ..... gamma=0.5, kernel=rbf, C=0.0625, score=0.227, total=   0.3s\n",
      "[CV] gamma=0.125, kernel=rbf, C=0.5 ..................................\n",
      "[CV] ...... gamma=0.125, kernel=rbf, C=0.5, score=0.226, total=   0.3s\n",
      "[CV] gamma=0.125, kernel=rbf, C=0.5 ..................................\n",
      "[CV] ...... gamma=0.125, kernel=rbf, C=0.5, score=0.226, total=   0.3s\n",
      "[CV] gamma=0.125, kernel=rbf, C=0.5 ..................................\n",
      "[CV] ...... gamma=0.125, kernel=rbf, C=0.5, score=0.227, total=   0.3s\n",
      "[CV] gamma=0.00390625, kernel=rbf, C=4 ...............................\n",
      "[CV] ... gamma=0.00390625, kernel=rbf, C=4, score=0.229, total=   0.3s\n",
      "[CV] gamma=0.00390625, kernel=rbf, C=4 ...............................\n",
      "[CV] ... gamma=0.00390625, kernel=rbf, C=4, score=0.229, total=   0.3s\n",
      "[CV] gamma=0.00390625, kernel=rbf, C=4 ...............................\n",
      "[CV] ... gamma=0.00390625, kernel=rbf, C=4, score=0.235, total=   0.3s\n",
      "[CV] gamma=3.0517578125e-05, kernel=rbf, C=256 .......................\n",
      "[CV]  gamma=3.0517578125e-05, kernel=rbf, C=256, score=0.267, total=   0.5s\n",
      "[CV] gamma=3.0517578125e-05, kernel=rbf, C=256 .......................\n",
      "[CV]  gamma=3.0517578125e-05, kernel=rbf, C=256, score=0.278, total=   0.5s\n",
      "[CV] gamma=3.0517578125e-05, kernel=rbf, C=256 .......................\n",
      "[CV]  gamma=3.0517578125e-05, kernel=rbf, C=256, score=0.287, total=   0.5s\n"
     ]
    },
    {
     "name": "stderr",
     "output_type": "stream",
     "text": [
      "[Parallel(n_jobs=1)]: Done  15 out of  15 | elapsed:    5.5s finished\n"
     ]
    },
    {
     "name": "stdout",
     "output_type": "stream",
     "text": [
      "random search: {'SVM_Polynomial': RandomizedSearchCV(cv=3, error_score=nan,\n",
      "                   estimator=SVC(C=1.0, break_ties=False, cache_size=200,\n",
      "                                 class_weight=None, coef0=0.0,\n",
      "                                 decision_function_shape='ovr', degree=3,\n",
      "                                 gamma='scale', kernel='poly', max_iter=3000,\n",
      "                                 probability=True, random_state=None,\n",
      "                                 shrinking=True, tol=0.001, verbose=False),\n",
      "                   iid='deprecated', n_iter=5, n_jobs=None,\n",
      "                   param_distributions={'C': [0.03125, 0.0625, 0.125, 0.25, 0.5,\n",
      "                                              1, 2, 4, 8, 16, 32, 64, 128, 256,\n",
      "                                              512, 1024, 2048, 4096, 8192,\n",
      "                                              16384],\n",
      "                                        'degree': [3, 5, 7, 9],\n",
      "                                        'kernel': ['poly']},\n",
      "                   pre_dispatch='2*n_jobs', random_state=None, refit=True,\n",
      "                   return_train_score=False, scoring='accuracy', verbose=5), 'MLP': RandomizedSearchCV(cv=3, error_score=nan,\n",
      "                   estimator=MLPClassifier(activation='relu', alpha=0.0001,\n",
      "                                           batch_size='auto', beta_1=0.9,\n",
      "                                           beta_2=0.999, early_stopping=False,\n",
      "                                           epsilon=1e-08,\n",
      "                                           hidden_layer_sizes=(100,),\n",
      "                                           learning_rate='constant',\n",
      "                                           learning_rate_init=0.0005,\n",
      "                                           max_fun=15000, max_iter=1000,\n",
      "                                           momentum=0.9, n_iter_no_change=10,\n",
      "                                           nesterovs_momentum=True, power_t=0.5,\n",
      "                                           rand...\n",
      "                                           solver='adam', tol=0.0001,\n",
      "                                           validation_fraction=0.1,\n",
      "                                           verbose=False, warm_start=False),\n",
      "                   iid='deprecated', n_iter=5, n_jobs=None,\n",
      "                   param_distributions={'hidden_layer_sizes': [2, 3, 4, 5, 6, 7,\n",
      "                                                               8, 9, 10, 11, 12,\n",
      "                                                               13, 14, 15, 16,\n",
      "                                                               17, 18, 19, 20,\n",
      "                                                               21, 22, 23, 24,\n",
      "                                                               25, 26, 27, 28,\n",
      "                                                               29, 30, 31, ...]},\n",
      "                   pre_dispatch='2*n_jobs', random_state=None, refit=True,\n",
      "                   return_train_score=False, scoring='accuracy', verbose=5), 'SVM_Linear': RandomizedSearchCV(cv=3, error_score=nan,\n",
      "                   estimator=SVC(C=1.0, break_ties=False, cache_size=200,\n",
      "                                 class_weight=None, coef0=0.0,\n",
      "                                 decision_function_shape='ovr', degree=3,\n",
      "                                 gamma='scale', kernel='linear', max_iter=3000,\n",
      "                                 probability=True, random_state=None,\n",
      "                                 shrinking=True, tol=0.001, verbose=False),\n",
      "                   iid='deprecated', n_iter=5, n_jobs=None,\n",
      "                   param_distributions={'C': [0.03125, 0.0625, 0.125, 0.25, 0.5,\n",
      "                                              1, 2, 4, 8, 16, 32, 64, 128, 256,\n",
      "                                              512, 1024, 2048, 4096, 8192,\n",
      "                                              16384],\n",
      "                                        'kernel': ['linear']},\n",
      "                   pre_dispatch='2*n_jobs', random_state=None, refit=True,\n",
      "                   return_train_score=False, scoring='accuracy', verbose=5), 'Naive_Bayes': [], 'SVM_RBF': RandomizedSearchCV(cv=3, error_score=nan,\n",
      "                   estimator=SVC(C=1.0, break_ties=False, cache_size=200,\n",
      "                                 class_weight=None, coef0=0.0,\n",
      "                                 decision_function_shape='ovr', degree=3,\n",
      "                                 gamma='scale', kernel='rbf', max_iter=3000,\n",
      "                                 probability=True, random_state=None,\n",
      "                                 shrinking=True, tol=0.001, verbose=False),\n",
      "                   iid='deprecated', n_iter=5, n_jobs=None,\n",
      "                   param_distributions={'C': [0.03125, 0.0...\n",
      "                                              1, 2, 4, 8, 16, 32, 64, 128, 256,\n",
      "                                              512, 1024, 2048, 4096, 8192,\n",
      "                                              16384],\n",
      "                                        'gamma': [3.0517578125e-05,\n",
      "                                                  6.103515625e-05,\n",
      "                                                  0.0001220703125,\n",
      "                                                  0.000244140625, 0.00048828125,\n",
      "                                                  0.0009765625, 0.001953125,\n",
      "                                                  0.00390625, 0.0078125,\n",
      "                                                  0.015625, 0.03125, 0.0625,\n",
      "                                                  0.125, 0.25, 0.5, 1, 2, 4],\n",
      "                                        'kernel': ['rbf']},\n",
      "                   pre_dispatch='2*n_jobs', random_state=None, refit=True,\n",
      "                   return_train_score=False, scoring='accuracy', verbose=5), 'Nearest_Neighbors': RandomizedSearchCV(cv=3, error_score=nan,\n",
      "                   estimator=KNeighborsClassifier(algorithm='auto',\n",
      "                                                  leaf_size=30,\n",
      "                                                  metric='minkowski',\n",
      "                                                  metric_params=None,\n",
      "                                                  n_jobs=None, n_neighbors=5,\n",
      "                                                  p=2, weights='uniform'),\n",
      "                   iid='deprecated', n_iter=5, n_jobs=None,\n",
      "                   param_distributions={'n_neighbors': [1, 3, 5, 7, 9, 11]},\n",
      "                   pre_dispatch='2*n_jobs', random_state=None, refit=True,\n",
      "                   return_train_score=False, scoring='accuracy', verbose=5), 'Random_Forest': RandomizedSearchCV(cv=3, error_score=nan,\n",
      "                   estimator=RandomForestClassifier(bootstrap=True,\n",
      "                                                    ccp_alpha=0.0,\n",
      "                                                    class_weight=None,\n",
      "                                                    criterion='gini',\n",
      "                                                    max_depth=None,\n",
      "                                                    max_features='auto',\n",
      "                                                    max_leaf_nodes=None,\n",
      "                                                    max_samples=None,\n",
      "                                                    min_impurity_decrease=0.0,\n",
      "                                                    min_impurity_split=None,\n",
      "                                                    min_samples_leaf=1,\n",
      "                                                    min_samples_split=2,\n",
      "                                                    min_weight_fraction_leaf=0.0,\n",
      "                                                    n_estimators=100,\n",
      "                                                    n_jobs...\n",
      "                                        'max_features': <scipy.stats._distn_infrastructure.rv_frozen object at 0x7f59daa30a58>,\n",
      "                                        'min_samples_leaf': <scipy.stats._distn_infrastructure.rv_frozen object at 0x7f59daa30ef0>,\n",
      "                                        'min_samples_split': <scipy.stats._distn_infrastructure.rv_frozen object at 0x7f59daa30c50>,\n",
      "                                        'n_estimators': [3000]},\n",
      "                   pre_dispatch='2*n_jobs', random_state=None, refit=True,\n",
      "                   return_train_score=False, scoring='accuracy', verbose=5)}\n",
      "{'SVM_Polynomial': [], 'MLP': [], 'SVM_Linear': [], 'Naive_Bayes': [], 'SVM_RBF': [], 'Nearest_Neighbors': [], 'Random_Forest': []}\n",
      "Naive_Bayes\n",
      "MLP\n",
      "Fitting 3 folds for each of 5 candidates, totalling 15 fits\n",
      "[CV] hidden_layer_sizes=418 ..........................................\n"
     ]
    },
    {
     "name": "stderr",
     "output_type": "stream",
     "text": [
      "[Parallel(n_jobs=1)]: Using backend SequentialBackend with 1 concurrent workers.\n"
     ]
    },
    {
     "name": "stdout",
     "output_type": "stream",
     "text": [
      "[CV] .............. hidden_layer_sizes=418, score=0.992, total=  10.5s\n",
      "[CV] hidden_layer_sizes=418 ..........................................\n"
     ]
    },
    {
     "name": "stderr",
     "output_type": "stream",
     "text": [
      "[Parallel(n_jobs=1)]: Done   1 out of   1 | elapsed:   10.5s remaining:    0.0s\n"
     ]
    },
    {
     "name": "stdout",
     "output_type": "stream",
     "text": [
      "[CV] .............. hidden_layer_sizes=418, score=0.984, total=  12.6s\n",
      "[CV] hidden_layer_sizes=418 ..........................................\n"
     ]
    },
    {
     "name": "stderr",
     "output_type": "stream",
     "text": [
      "[Parallel(n_jobs=1)]: Done   2 out of   2 | elapsed:   23.1s remaining:    0.0s\n"
     ]
    },
    {
     "name": "stdout",
     "output_type": "stream",
     "text": [
      "[CV] .............. hidden_layer_sizes=418, score=0.986, total=   4.2s\n",
      "[CV] hidden_layer_sizes=56 ...........................................\n"
     ]
    },
    {
     "name": "stderr",
     "output_type": "stream",
     "text": [
      "[Parallel(n_jobs=1)]: Done   3 out of   3 | elapsed:   27.3s remaining:    0.0s\n"
     ]
    },
    {
     "name": "stdout",
     "output_type": "stream",
     "text": [
      "[CV] ............... hidden_layer_sizes=56, score=0.992, total=   4.6s\n",
      "[CV] hidden_layer_sizes=56 ...........................................\n"
     ]
    },
    {
     "name": "stderr",
     "output_type": "stream",
     "text": [
      "[Parallel(n_jobs=1)]: Done   4 out of   4 | elapsed:   31.9s remaining:    0.0s\n",
      "/home/matheus-a-s/.virtualenvs/.PumpsEnv/lib/python3.5/site-packages/sklearn/neural_network/_multilayer_perceptron.py:571: ConvergenceWarning: Stochastic Optimizer: Maximum iterations (1000) reached and the optimization hasn't converged yet.\n",
      "  % self.max_iter, ConvergenceWarning)\n"
     ]
    },
    {
     "name": "stdout",
     "output_type": "stream",
     "text": [
      "[CV] ............... hidden_layer_sizes=56, score=0.995, total=   5.1s\n",
      "[CV] hidden_layer_sizes=56 ...........................................\n",
      "[CV] ............... hidden_layer_sizes=56, score=0.992, total=   3.3s\n",
      "[CV] hidden_layer_sizes=837 ..........................................\n",
      "[CV] .............. hidden_layer_sizes=837, score=1.000, total=  12.8s\n",
      "[CV] hidden_layer_sizes=837 ..........................................\n"
     ]
    },
    {
     "name": "stderr",
     "output_type": "stream",
     "text": [
      "/home/matheus-a-s/.virtualenvs/.PumpsEnv/lib/python3.5/site-packages/sklearn/neural_network/_multilayer_perceptron.py:571: ConvergenceWarning: Stochastic Optimizer: Maximum iterations (1000) reached and the optimization hasn't converged yet.\n",
      "  % self.max_iter, ConvergenceWarning)\n"
     ]
    },
    {
     "name": "stdout",
     "output_type": "stream",
     "text": [
      "[CV] .............. hidden_layer_sizes=837, score=0.984, total=  25.4s\n",
      "[CV] hidden_layer_sizes=837 ..........................................\n",
      "[CV] .............. hidden_layer_sizes=837, score=0.995, total=   7.1s\n",
      "[CV] hidden_layer_sizes=55 ...........................................\n"
     ]
    },
    {
     "name": "stderr",
     "output_type": "stream",
     "text": [
      "/home/matheus-a-s/.virtualenvs/.PumpsEnv/lib/python3.5/site-packages/sklearn/neural_network/_multilayer_perceptron.py:571: ConvergenceWarning: Stochastic Optimizer: Maximum iterations (1000) reached and the optimization hasn't converged yet.\n",
      "  % self.max_iter, ConvergenceWarning)\n"
     ]
    },
    {
     "name": "stdout",
     "output_type": "stream",
     "text": [
      "[CV] ............... hidden_layer_sizes=55, score=0.995, total=   5.3s\n",
      "[CV] hidden_layer_sizes=55 ...........................................\n",
      "[CV] ............... hidden_layer_sizes=55, score=0.992, total=   4.7s\n",
      "[CV] hidden_layer_sizes=55 ...........................................\n",
      "[CV] ............... hidden_layer_sizes=55, score=0.995, total=   3.6s\n",
      "[CV] hidden_layer_sizes=907 ..........................................\n",
      "[CV] .............. hidden_layer_sizes=907, score=0.997, total=  25.1s\n",
      "[CV] hidden_layer_sizes=907 ..........................................\n",
      "[CV] .............. hidden_layer_sizes=907, score=0.995, total=  25.6s\n",
      "[CV] hidden_layer_sizes=907 ..........................................\n",
      "[CV] .............. hidden_layer_sizes=907, score=0.973, total=   4.7s\n"
     ]
    },
    {
     "name": "stderr",
     "output_type": "stream",
     "text": [
      "[Parallel(n_jobs=1)]: Done  15 out of  15 | elapsed:  2.6min finished\n"
     ]
    },
    {
     "name": "stdout",
     "output_type": "stream",
     "text": [
      "Nearest_Neighbors\n",
      "Fitting 3 folds for each of 5 candidates, totalling 15 fits\n",
      "[CV] n_neighbors=11 ..................................................\n",
      "[CV] ...................... n_neighbors=11, score=0.984, total=   0.0s\n",
      "[CV] n_neighbors=11 ..................................................\n",
      "[CV] ...................... n_neighbors=11, score=0.981, total=   0.0s\n",
      "[CV] n_neighbors=11 ..................................................\n",
      "[CV] ...................... n_neighbors=11, score=0.989, total=   0.0s\n",
      "[CV] n_neighbors=3 ...................................................\n",
      "[CV] ....................... n_neighbors=3, score=0.995, total=   0.0s\n",
      "[CV] n_neighbors=3 ...................................................\n",
      "[CV] ....................... n_neighbors=3, score=0.992, total=   0.0s\n",
      "[CV] n_neighbors=3 ...................................................\n",
      "[CV] ....................... n_neighbors=3, score=0.995, total=   0.0s\n",
      "[CV] n_neighbors=9 ...................................................\n",
      "[CV] ....................... n_neighbors=9, score=0.986, total=   0.0s\n",
      "[CV] n_neighbors=9 ...................................................\n"
     ]
    },
    {
     "name": "stderr",
     "output_type": "stream",
     "text": [
      "[Parallel(n_jobs=1)]: Using backend SequentialBackend with 1 concurrent workers.\n",
      "[Parallel(n_jobs=1)]: Done   1 out of   1 | elapsed:    0.0s remaining:    0.0s\n",
      "[Parallel(n_jobs=1)]: Done   2 out of   2 | elapsed:    0.1s remaining:    0.0s\n",
      "[Parallel(n_jobs=1)]: Done   3 out of   3 | elapsed:    0.1s remaining:    0.0s\n",
      "[Parallel(n_jobs=1)]: Done   4 out of   4 | elapsed:    0.1s remaining:    0.0s\n"
     ]
    },
    {
     "name": "stdout",
     "output_type": "stream",
     "text": [
      "[CV] ....................... n_neighbors=9, score=0.981, total=   0.0s\n",
      "[CV] n_neighbors=9 ...................................................\n",
      "[CV] ....................... n_neighbors=9, score=0.989, total=   0.0s\n",
      "[CV] n_neighbors=7 ...................................................\n",
      "[CV] ....................... n_neighbors=7, score=0.995, total=   0.0s\n",
      "[CV] n_neighbors=7 ...................................................\n",
      "[CV] ....................... n_neighbors=7, score=0.984, total=   0.0s\n",
      "[CV] n_neighbors=7 ...................................................\n",
      "[CV] ....................... n_neighbors=7, score=0.989, total=   0.0s\n",
      "[CV] n_neighbors=5 ...................................................\n",
      "[CV] ....................... n_neighbors=5, score=0.995, total=   0.0s\n",
      "[CV] n_neighbors=5 ...................................................\n",
      "[CV] ....................... n_neighbors=5, score=0.992, total=   0.0s\n",
      "[CV] n_neighbors=5 ...................................................\n",
      "[CV] ....................... n_neighbors=5, score=0.989, total=   0.0s\n",
      "Random_Forest\n",
      "Fitting 3 folds for each of 5 candidates, totalling 15 fits\n",
      "[CV] n_estimators=3000, bootstrap=False, min_samples_leaf=1, max_depth=None, min_samples_split=4, max_features=5, criterion=gini \n"
     ]
    },
    {
     "name": "stderr",
     "output_type": "stream",
     "text": [
      "[Parallel(n_jobs=1)]: Done  15 out of  15 | elapsed:    0.4s finished\n",
      "[Parallel(n_jobs=1)]: Using backend SequentialBackend with 1 concurrent workers.\n"
     ]
    },
    {
     "name": "stdout",
     "output_type": "stream",
     "text": [
      "[CV]  n_estimators=3000, bootstrap=False, min_samples_leaf=1, max_depth=None, min_samples_split=4, max_features=5, criterion=gini, score=1.000, total=   8.1s\n",
      "[CV] n_estimators=3000, bootstrap=False, min_samples_leaf=1, max_depth=None, min_samples_split=4, max_features=5, criterion=gini \n"
     ]
    },
    {
     "name": "stderr",
     "output_type": "stream",
     "text": [
      "[Parallel(n_jobs=1)]: Done   1 out of   1 | elapsed:    8.1s remaining:    0.0s\n"
     ]
    },
    {
     "name": "stdout",
     "output_type": "stream",
     "text": [
      "[CV]  n_estimators=3000, bootstrap=False, min_samples_leaf=1, max_depth=None, min_samples_split=4, max_features=5, criterion=gini, score=1.000, total=   8.0s\n",
      "[CV] n_estimators=3000, bootstrap=False, min_samples_leaf=1, max_depth=None, min_samples_split=4, max_features=5, criterion=gini \n"
     ]
    },
    {
     "name": "stderr",
     "output_type": "stream",
     "text": [
      "[Parallel(n_jobs=1)]: Done   2 out of   2 | elapsed:   16.1s remaining:    0.0s\n"
     ]
    },
    {
     "name": "stdout",
     "output_type": "stream",
     "text": [
      "[CV]  n_estimators=3000, bootstrap=False, min_samples_leaf=1, max_depth=None, min_samples_split=4, max_features=5, criterion=gini, score=1.000, total=   8.2s\n",
      "[CV] n_estimators=3000, bootstrap=True, min_samples_leaf=9, max_depth=6, min_samples_split=9, max_features=1, criterion=entropy \n"
     ]
    },
    {
     "name": "stderr",
     "output_type": "stream",
     "text": [
      "[Parallel(n_jobs=1)]: Done   3 out of   3 | elapsed:   24.3s remaining:    0.0s\n"
     ]
    },
    {
     "name": "stdout",
     "output_type": "stream",
     "text": [
      "[CV]  n_estimators=3000, bootstrap=True, min_samples_leaf=9, max_depth=6, min_samples_split=9, max_features=1, criterion=entropy, score=0.989, total=   6.5s\n",
      "[CV] n_estimators=3000, bootstrap=True, min_samples_leaf=9, max_depth=6, min_samples_split=9, max_features=1, criterion=entropy \n"
     ]
    },
    {
     "name": "stderr",
     "output_type": "stream",
     "text": [
      "[Parallel(n_jobs=1)]: Done   4 out of   4 | elapsed:   30.9s remaining:    0.0s\n"
     ]
    },
    {
     "name": "stdout",
     "output_type": "stream",
     "text": [
      "[CV]  n_estimators=3000, bootstrap=True, min_samples_leaf=9, max_depth=6, min_samples_split=9, max_features=1, criterion=entropy, score=0.989, total=   6.5s\n",
      "[CV] n_estimators=3000, bootstrap=True, min_samples_leaf=9, max_depth=6, min_samples_split=9, max_features=1, criterion=entropy \n",
      "[CV]  n_estimators=3000, bootstrap=True, min_samples_leaf=9, max_depth=6, min_samples_split=9, max_features=1, criterion=entropy, score=0.989, total=   6.5s\n",
      "[CV] n_estimators=3000, bootstrap=True, min_samples_leaf=5, max_depth=None, min_samples_split=2, max_features=6, criterion=entropy \n",
      "[CV]  n_estimators=3000, bootstrap=True, min_samples_leaf=5, max_depth=None, min_samples_split=2, max_features=6, criterion=entropy, score=1.000, total=  11.7s\n",
      "[CV] n_estimators=3000, bootstrap=True, min_samples_leaf=5, max_depth=None, min_samples_split=2, max_features=6, criterion=entropy \n",
      "[CV]  n_estimators=3000, bootstrap=True, min_samples_leaf=5, max_depth=None, min_samples_split=2, max_features=6, criterion=entropy, score=1.000, total=  11.8s\n",
      "[CV] n_estimators=3000, bootstrap=True, min_samples_leaf=5, max_depth=None, min_samples_split=2, max_features=6, criterion=entropy \n",
      "[CV]  n_estimators=3000, bootstrap=True, min_samples_leaf=5, max_depth=None, min_samples_split=2, max_features=6, criterion=entropy, score=1.000, total=  11.7s\n",
      "[CV] n_estimators=3000, bootstrap=False, min_samples_leaf=3, max_depth=6, min_samples_split=8, max_features=7, criterion=gini \n",
      "[CV]  n_estimators=3000, bootstrap=False, min_samples_leaf=3, max_depth=6, min_samples_split=8, max_features=7, criterion=gini, score=1.000, total=   9.7s\n",
      "[CV] n_estimators=3000, bootstrap=False, min_samples_leaf=3, max_depth=6, min_samples_split=8, max_features=7, criterion=gini \n",
      "[CV]  n_estimators=3000, bootstrap=False, min_samples_leaf=3, max_depth=6, min_samples_split=8, max_features=7, criterion=gini, score=1.000, total=   9.6s\n",
      "[CV] n_estimators=3000, bootstrap=False, min_samples_leaf=3, max_depth=6, min_samples_split=8, max_features=7, criterion=gini \n",
      "[CV]  n_estimators=3000, bootstrap=False, min_samples_leaf=3, max_depth=6, min_samples_split=8, max_features=7, criterion=gini, score=1.000, total=   9.8s\n",
      "[CV] n_estimators=3000, bootstrap=True, min_samples_leaf=5, max_depth=None, min_samples_split=9, max_features=3, criterion=gini \n",
      "[CV]  n_estimators=3000, bootstrap=True, min_samples_leaf=5, max_depth=None, min_samples_split=9, max_features=3, criterion=gini, score=0.997, total=   6.5s\n",
      "[CV] n_estimators=3000, bootstrap=True, min_samples_leaf=5, max_depth=None, min_samples_split=9, max_features=3, criterion=gini \n",
      "[CV]  n_estimators=3000, bootstrap=True, min_samples_leaf=5, max_depth=None, min_samples_split=9, max_features=3, criterion=gini, score=1.000, total=   6.5s\n",
      "[CV] n_estimators=3000, bootstrap=True, min_samples_leaf=5, max_depth=None, min_samples_split=9, max_features=3, criterion=gini \n",
      "[CV]  n_estimators=3000, bootstrap=True, min_samples_leaf=5, max_depth=None, min_samples_split=9, max_features=3, criterion=gini, score=1.000, total=   6.5s\n"
     ]
    },
    {
     "name": "stderr",
     "output_type": "stream",
     "text": [
      "[Parallel(n_jobs=1)]: Done  15 out of  15 | elapsed:  2.1min finished\n"
     ]
    },
    {
     "name": "stdout",
     "output_type": "stream",
     "text": [
      "SVM_Linear\n",
      "Fitting 3 folds for each of 5 candidates, totalling 15 fits\n",
      "[CV] kernel=linear, C=8 ..............................................\n",
      "[CV] .................. kernel=linear, C=8, score=1.000, total=   0.0s\n",
      "[CV] kernel=linear, C=8 ..............................................\n",
      "[CV] .................. kernel=linear, C=8, score=0.997, total=   0.0s\n",
      "[CV] kernel=linear, C=8 ..............................................\n",
      "[CV] .................. kernel=linear, C=8, score=1.000, total=   0.0s\n",
      "[CV] kernel=linear, C=256 ............................................\n",
      "[CV] ................ kernel=linear, C=256, score=1.000, total=   0.0s\n",
      "[CV] kernel=linear, C=256 ............................................\n",
      "[CV] ................ kernel=linear, C=256, score=0.997, total=   0.0s\n",
      "[CV] kernel=linear, C=256 ............................................\n",
      "[CV] ................ kernel=linear, C=256, score=1.000, total=   0.0s\n",
      "[CV] kernel=linear, C=1024 ...........................................\n",
      "[CV] ............... kernel=linear, C=1024, score=1.000, total=   0.0s\n",
      "[CV] kernel=linear, C=1024 ...........................................\n",
      "[CV] ............... kernel=linear, C=1024, score=0.997, total=   0.0s\n",
      "[CV] kernel=linear, C=1024 ...........................................\n",
      "[CV] ............... kernel=linear, C=1024, score=1.000, total=   0.0s\n",
      "[CV] kernel=linear, C=32 .............................................\n",
      "[CV] ................. kernel=linear, C=32, score=1.000, total=   0.0s\n",
      "[CV] kernel=linear, C=32 .............................................\n",
      "[CV] ................. kernel=linear, C=32, score=0.997, total=   0.0s\n",
      "[CV] kernel=linear, C=32 .............................................\n",
      "[CV] ................. kernel=linear, C=32, score=1.000, total=   0.0s\n",
      "[CV] kernel=linear, C=0.25 ...........................................\n"
     ]
    },
    {
     "name": "stderr",
     "output_type": "stream",
     "text": [
      "[Parallel(n_jobs=1)]: Using backend SequentialBackend with 1 concurrent workers.\n",
      "[Parallel(n_jobs=1)]: Done   1 out of   1 | elapsed:    0.0s remaining:    0.0s\n",
      "[Parallel(n_jobs=1)]: Done   2 out of   2 | elapsed:    0.0s remaining:    0.0s\n",
      "[Parallel(n_jobs=1)]: Done   3 out of   3 | elapsed:    0.0s remaining:    0.0s\n",
      "[Parallel(n_jobs=1)]: Done   4 out of   4 | elapsed:    0.1s remaining:    0.0s\n",
      "/home/matheus-a-s/.virtualenvs/.PumpsEnv/lib/python3.5/site-packages/sklearn/svm/_base.py:231: ConvergenceWarning: Solver terminated early (max_iter=3000).  Consider pre-processing your data with StandardScaler or MinMaxScaler.\n",
      "  % self.max_iter, ConvergenceWarning)\n",
      "[Parallel(n_jobs=1)]: Done  15 out of  15 | elapsed:    0.3s finished\n",
      "[Parallel(n_jobs=1)]: Using backend SequentialBackend with 1 concurrent workers.\n",
      "[Parallel(n_jobs=1)]: Done   1 out of   1 | elapsed:    0.1s remaining:    0.0s\n"
     ]
    },
    {
     "name": "stdout",
     "output_type": "stream",
     "text": [
      "[CV] ............... kernel=linear, C=0.25, score=1.000, total=   0.0s\n",
      "[CV] kernel=linear, C=0.25 ...........................................\n",
      "[CV] ............... kernel=linear, C=0.25, score=0.997, total=   0.0s\n",
      "[CV] kernel=linear, C=0.25 ...........................................\n",
      "[CV] ............... kernel=linear, C=0.25, score=1.000, total=   0.0s\n",
      "SVM_Polynomial\n",
      "Fitting 3 folds for each of 5 candidates, totalling 15 fits\n",
      "[CV] degree=3, kernel=poly, C=0.125 ..................................\n",
      "[CV] ...... degree=3, kernel=poly, C=0.125, score=0.676, total=   0.1s\n",
      "[CV] degree=3, kernel=poly, C=0.125 ..................................\n",
      "[CV] ...... degree=3, kernel=poly, C=0.125, score=0.676, total=   0.1s\n",
      "[CV] degree=3, kernel=poly, C=0.125 ..................................\n",
      "[CV] ...... degree=3, kernel=poly, C=0.125, score=0.907, total=   0.1s\n",
      "[CV] degree=5, kernel=poly, C=2 ......................................\n",
      "[CV] .......... degree=5, kernel=poly, C=2, score=0.676, total=   0.1s\n",
      "[CV] degree=5, kernel=poly, C=2 ......................................\n"
     ]
    },
    {
     "name": "stderr",
     "output_type": "stream",
     "text": [
      "[Parallel(n_jobs=1)]: Done   2 out of   2 | elapsed:    0.2s remaining:    0.0s\n",
      "[Parallel(n_jobs=1)]: Done   3 out of   3 | elapsed:    0.3s remaining:    0.0s\n",
      "[Parallel(n_jobs=1)]: Done   4 out of   4 | elapsed:    0.3s remaining:    0.0s\n"
     ]
    },
    {
     "name": "stdout",
     "output_type": "stream",
     "text": [
      "[CV] .......... degree=5, kernel=poly, C=2, score=0.676, total=   0.1s\n",
      "[CV] degree=5, kernel=poly, C=2 ......................................\n",
      "[CV] .......... degree=5, kernel=poly, C=2, score=0.885, total=   0.1s\n",
      "[CV] degree=7, kernel=poly, C=2 ......................................\n",
      "[CV] .......... degree=7, kernel=poly, C=2, score=0.649, total=   0.1s\n",
      "[CV] degree=7, kernel=poly, C=2 ......................................\n",
      "[CV] .......... degree=7, kernel=poly, C=2, score=0.646, total=   0.1s\n",
      "[CV] degree=7, kernel=poly, C=2 ......................................\n",
      "[CV] .......... degree=7, kernel=poly, C=2, score=0.773, total=   0.1s\n",
      "[CV] degree=3, kernel=poly, C=0.25 ...................................\n",
      "[CV] ....... degree=3, kernel=poly, C=0.25, score=0.676, total=   0.1s\n",
      "[CV] degree=3, kernel=poly, C=0.25 ...................................\n",
      "[CV] ....... degree=3, kernel=poly, C=0.25, score=0.678, total=   0.1s\n",
      "[CV] degree=3, kernel=poly, C=0.25 ...................................\n",
      "[CV] ....... degree=3, kernel=poly, C=0.25, score=0.910, total=   0.1s\n",
      "[CV] degree=5, kernel=poly, C=4096 ...................................\n",
      "[CV] ....... degree=5, kernel=poly, C=4096, score=0.926, total=   0.1s\n",
      "[CV] degree=5, kernel=poly, C=4096 ...................................\n",
      "[CV] ....... degree=5, kernel=poly, C=4096, score=0.891, total=   0.1s\n",
      "[CV] degree=5, kernel=poly, C=4096 ...................................\n",
      "[CV] ....... degree=5, kernel=poly, C=4096, score=0.902, total=   0.1s\n",
      "SVM_RBF\n",
      "Fitting 3 folds for each of 5 candidates, totalling 15 fits\n",
      "[CV] gamma=0.00390625, kernel=rbf, C=1 ...............................\n"
     ]
    },
    {
     "name": "stderr",
     "output_type": "stream",
     "text": [
      "[Parallel(n_jobs=1)]: Done  15 out of  15 | elapsed:    1.2s finished\n",
      "[Parallel(n_jobs=1)]: Using backend SequentialBackend with 1 concurrent workers.\n"
     ]
    },
    {
     "name": "stdout",
     "output_type": "stream",
     "text": [
      "[CV] ... gamma=0.00390625, kernel=rbf, C=1, score=0.226, total=   0.3s\n",
      "[CV] gamma=0.00390625, kernel=rbf, C=1 ...............................\n"
     ]
    },
    {
     "name": "stderr",
     "output_type": "stream",
     "text": [
      "[Parallel(n_jobs=1)]: Done   1 out of   1 | elapsed:    0.3s remaining:    0.0s\n"
     ]
    },
    {
     "name": "stdout",
     "output_type": "stream",
     "text": [
      "[CV] ... gamma=0.00390625, kernel=rbf, C=1, score=0.226, total=   0.3s\n",
      "[CV] gamma=0.00390625, kernel=rbf, C=1 ...............................\n"
     ]
    },
    {
     "name": "stderr",
     "output_type": "stream",
     "text": [
      "[Parallel(n_jobs=1)]: Done   2 out of   2 | elapsed:    0.6s remaining:    0.0s\n"
     ]
    },
    {
     "name": "stdout",
     "output_type": "stream",
     "text": [
      "[CV] ... gamma=0.00390625, kernel=rbf, C=1, score=0.227, total=   0.3s\n",
      "[CV] gamma=6.103515625e-05, kernel=rbf, C=0.125 ......................\n"
     ]
    },
    {
     "name": "stderr",
     "output_type": "stream",
     "text": [
      "[Parallel(n_jobs=1)]: Done   3 out of   3 | elapsed:    0.9s remaining:    0.0s\n"
     ]
    },
    {
     "name": "stdout",
     "output_type": "stream",
     "text": [
      "[CV]  gamma=6.103515625e-05, kernel=rbf, C=0.125, score=0.226, total=   0.3s\n",
      "[CV] gamma=6.103515625e-05, kernel=rbf, C=0.125 ......................\n"
     ]
    },
    {
     "name": "stderr",
     "output_type": "stream",
     "text": [
      "[Parallel(n_jobs=1)]: Done   4 out of   4 | elapsed:    1.2s remaining:    0.0s\n"
     ]
    },
    {
     "name": "stdout",
     "output_type": "stream",
     "text": [
      "[CV]  gamma=6.103515625e-05, kernel=rbf, C=0.125, score=0.226, total=   0.3s\n",
      "[CV] gamma=6.103515625e-05, kernel=rbf, C=0.125 ......................\n",
      "[CV]  gamma=6.103515625e-05, kernel=rbf, C=0.125, score=0.227, total=   0.3s\n",
      "[CV] gamma=0.0078125, kernel=rbf, C=8192 .............................\n",
      "[CV] . gamma=0.0078125, kernel=rbf, C=8192, score=0.226, total=   0.3s\n",
      "[CV] gamma=0.0078125, kernel=rbf, C=8192 .............................\n",
      "[CV] . gamma=0.0078125, kernel=rbf, C=8192, score=0.226, total=   0.3s\n",
      "[CV] gamma=0.0078125, kernel=rbf, C=8192 .............................\n",
      "[CV] . gamma=0.0078125, kernel=rbf, C=8192, score=0.227, total=   0.3s\n",
      "[CV] gamma=4, kernel=rbf, C=0.5 ......................................\n",
      "[CV] .......... gamma=4, kernel=rbf, C=0.5, score=0.226, total=   0.3s\n",
      "[CV] gamma=4, kernel=rbf, C=0.5 ......................................\n",
      "[CV] .......... gamma=4, kernel=rbf, C=0.5, score=0.226, total=   0.3s\n",
      "[CV] gamma=4, kernel=rbf, C=0.5 ......................................\n",
      "[CV] .......... gamma=4, kernel=rbf, C=0.5, score=0.227, total=   0.3s\n",
      "[CV] gamma=0.0001220703125, kernel=rbf, C=1 ..........................\n",
      "[CV]  gamma=0.0001220703125, kernel=rbf, C=1, score=0.226, total=   0.3s\n",
      "[CV] gamma=0.0001220703125, kernel=rbf, C=1 ..........................\n",
      "[CV]  gamma=0.0001220703125, kernel=rbf, C=1, score=0.226, total=   0.3s\n",
      "[CV] gamma=0.0001220703125, kernel=rbf, C=1 ..........................\n",
      "[CV]  gamma=0.0001220703125, kernel=rbf, C=1, score=0.227, total=   0.3s\n"
     ]
    },
    {
     "name": "stderr",
     "output_type": "stream",
     "text": [
      "[Parallel(n_jobs=1)]: Done  15 out of  15 | elapsed:    4.7s finished\n"
     ]
    },
    {
     "name": "stdout",
     "output_type": "stream",
     "text": [
      "random search: {'SVM_Polynomial': RandomizedSearchCV(cv=3, error_score=nan,\n",
      "                   estimator=SVC(C=1.0, break_ties=False, cache_size=200,\n",
      "                                 class_weight=None, coef0=0.0,\n",
      "                                 decision_function_shape='ovr', degree=3,\n",
      "                                 gamma='scale', kernel='poly', max_iter=3000,\n",
      "                                 probability=True, random_state=None,\n",
      "                                 shrinking=True, tol=0.001, verbose=False),\n",
      "                   iid='deprecated', n_iter=5, n_jobs=None,\n",
      "                   param_distributions={'C': [0.03125, 0.0625, 0.125, 0.25, 0.5,\n",
      "                                              1, 2, 4, 8, 16, 32, 64, 128, 256,\n",
      "                                              512, 1024, 2048, 4096, 8192,\n",
      "                                              16384],\n",
      "                                        'degree': [3, 5, 7, 9],\n",
      "                                        'kernel': ['poly']},\n",
      "                   pre_dispatch='2*n_jobs', random_state=None, refit=True,\n",
      "                   return_train_score=False, scoring='accuracy', verbose=5), 'MLP': RandomizedSearchCV(cv=3, error_score=nan,\n",
      "                   estimator=MLPClassifier(activation='relu', alpha=0.0001,\n",
      "                                           batch_size='auto', beta_1=0.9,\n",
      "                                           beta_2=0.999, early_stopping=False,\n",
      "                                           epsilon=1e-08,\n",
      "                                           hidden_layer_sizes=(100,),\n",
      "                                           learning_rate='constant',\n",
      "                                           learning_rate_init=0.0005,\n",
      "                                           max_fun=15000, max_iter=1000,\n",
      "                                           momentum=0.9, n_iter_no_change=10,\n",
      "                                           nesterovs_momentum=True, power_t=0.5,\n",
      "                                           rand...\n",
      "                                           solver='adam', tol=0.0001,\n",
      "                                           validation_fraction=0.1,\n",
      "                                           verbose=False, warm_start=False),\n",
      "                   iid='deprecated', n_iter=5, n_jobs=None,\n",
      "                   param_distributions={'hidden_layer_sizes': [2, 3, 4, 5, 6, 7,\n",
      "                                                               8, 9, 10, 11, 12,\n",
      "                                                               13, 14, 15, 16,\n",
      "                                                               17, 18, 19, 20,\n",
      "                                                               21, 22, 23, 24,\n",
      "                                                               25, 26, 27, 28,\n",
      "                                                               29, 30, 31, ...]},\n",
      "                   pre_dispatch='2*n_jobs', random_state=None, refit=True,\n",
      "                   return_train_score=False, scoring='accuracy', verbose=5), 'SVM_Linear': RandomizedSearchCV(cv=3, error_score=nan,\n",
      "                   estimator=SVC(C=1.0, break_ties=False, cache_size=200,\n",
      "                                 class_weight=None, coef0=0.0,\n",
      "                                 decision_function_shape='ovr', degree=3,\n",
      "                                 gamma='scale', kernel='linear', max_iter=3000,\n",
      "                                 probability=True, random_state=None,\n",
      "                                 shrinking=True, tol=0.001, verbose=False),\n",
      "                   iid='deprecated', n_iter=5, n_jobs=None,\n",
      "                   param_distributions={'C': [0.03125, 0.0625, 0.125, 0.25, 0.5,\n",
      "                                              1, 2, 4, 8, 16, 32, 64, 128, 256,\n",
      "                                              512, 1024, 2048, 4096, 8192,\n",
      "                                              16384],\n",
      "                                        'kernel': ['linear']},\n",
      "                   pre_dispatch='2*n_jobs', random_state=None, refit=True,\n",
      "                   return_train_score=False, scoring='accuracy', verbose=5), 'Naive_Bayes': [], 'SVM_RBF': RandomizedSearchCV(cv=3, error_score=nan,\n",
      "                   estimator=SVC(C=1.0, break_ties=False, cache_size=200,\n",
      "                                 class_weight=None, coef0=0.0,\n",
      "                                 decision_function_shape='ovr', degree=3,\n",
      "                                 gamma='scale', kernel='rbf', max_iter=3000,\n",
      "                                 probability=True, random_state=None,\n",
      "                                 shrinking=True, tol=0.001, verbose=False),\n",
      "                   iid='deprecated', n_iter=5, n_jobs=None,\n",
      "                   param_distributions={'C': [0.03125, 0.0...\n",
      "                                              1, 2, 4, 8, 16, 32, 64, 128, 256,\n",
      "                                              512, 1024, 2048, 4096, 8192,\n",
      "                                              16384],\n",
      "                                        'gamma': [3.0517578125e-05,\n",
      "                                                  6.103515625e-05,\n",
      "                                                  0.0001220703125,\n",
      "                                                  0.000244140625, 0.00048828125,\n",
      "                                                  0.0009765625, 0.001953125,\n",
      "                                                  0.00390625, 0.0078125,\n",
      "                                                  0.015625, 0.03125, 0.0625,\n",
      "                                                  0.125, 0.25, 0.5, 1, 2, 4],\n",
      "                                        'kernel': ['rbf']},\n",
      "                   pre_dispatch='2*n_jobs', random_state=None, refit=True,\n",
      "                   return_train_score=False, scoring='accuracy', verbose=5), 'Nearest_Neighbors': RandomizedSearchCV(cv=3, error_score=nan,\n",
      "                   estimator=KNeighborsClassifier(algorithm='auto',\n",
      "                                                  leaf_size=30,\n",
      "                                                  metric='minkowski',\n",
      "                                                  metric_params=None,\n",
      "                                                  n_jobs=None, n_neighbors=5,\n",
      "                                                  p=2, weights='uniform'),\n",
      "                   iid='deprecated', n_iter=5, n_jobs=None,\n",
      "                   param_distributions={'n_neighbors': [1, 3, 5, 7, 9, 11]},\n",
      "                   pre_dispatch='2*n_jobs', random_state=None, refit=True,\n",
      "                   return_train_score=False, scoring='accuracy', verbose=5), 'Random_Forest': RandomizedSearchCV(cv=3, error_score=nan,\n",
      "                   estimator=RandomForestClassifier(bootstrap=True,\n",
      "                                                    ccp_alpha=0.0,\n",
      "                                                    class_weight=None,\n",
      "                                                    criterion='gini',\n",
      "                                                    max_depth=None,\n",
      "                                                    max_features='auto',\n",
      "                                                    max_leaf_nodes=None,\n",
      "                                                    max_samples=None,\n",
      "                                                    min_impurity_decrease=0.0,\n",
      "                                                    min_impurity_split=None,\n",
      "                                                    min_samples_leaf=1,\n",
      "                                                    min_samples_split=2,\n",
      "                                                    min_weight_fraction_leaf=0.0,\n",
      "                                                    n_estimators=100,\n",
      "                                                    n_jobs...\n",
      "                                        'max_features': <scipy.stats._distn_infrastructure.rv_frozen object at 0x7f59daa30a58>,\n",
      "                                        'min_samples_leaf': <scipy.stats._distn_infrastructure.rv_frozen object at 0x7f59daa30ef0>,\n",
      "                                        'min_samples_split': <scipy.stats._distn_infrastructure.rv_frozen object at 0x7f59daa30c50>,\n",
      "                                        'n_estimators': [3000]},\n",
      "                   pre_dispatch='2*n_jobs', random_state=None, refit=True,\n",
      "                   return_train_score=False, scoring='accuracy', verbose=5)}\n",
      "{'SVM_Polynomial': [], 'MLP': [], 'SVM_Linear': [], 'Naive_Bayes': [], 'SVM_RBF': [], 'Nearest_Neighbors': [], 'Random_Forest': []}\n",
      "Naive_Bayes\n",
      "MLP\n",
      "Fitting 3 folds for each of 5 candidates, totalling 15 fits\n",
      "[CV] hidden_layer_sizes=976 ..........................................\n"
     ]
    },
    {
     "name": "stderr",
     "output_type": "stream",
     "text": [
      "[Parallel(n_jobs=1)]: Using backend SequentialBackend with 1 concurrent workers.\n"
     ]
    },
    {
     "name": "stdout",
     "output_type": "stream",
     "text": [
      "[CV] .............. hidden_layer_sizes=976, score=1.000, total=  11.1s\n",
      "[CV] hidden_layer_sizes=976 ..........................................\n"
     ]
    },
    {
     "name": "stderr",
     "output_type": "stream",
     "text": [
      "[Parallel(n_jobs=1)]: Done   1 out of   1 | elapsed:   11.1s remaining:    0.0s\n"
     ]
    },
    {
     "name": "stdout",
     "output_type": "stream",
     "text": [
      "[CV] .............. hidden_layer_sizes=976, score=0.997, total=   9.5s\n",
      "[CV] hidden_layer_sizes=976 ..........................................\n"
     ]
    },
    {
     "name": "stderr",
     "output_type": "stream",
     "text": [
      "[Parallel(n_jobs=1)]: Done   2 out of   2 | elapsed:   20.7s remaining:    0.0s\n"
     ]
    },
    {
     "name": "stdout",
     "output_type": "stream",
     "text": [
      "[CV] .............. hidden_layer_sizes=976, score=0.986, total=   9.0s\n",
      "[CV] hidden_layer_sizes=441 ..........................................\n"
     ]
    },
    {
     "name": "stderr",
     "output_type": "stream",
     "text": [
      "[Parallel(n_jobs=1)]: Done   3 out of   3 | elapsed:   29.7s remaining:    0.0s\n"
     ]
    },
    {
     "name": "stdout",
     "output_type": "stream",
     "text": [
      "[CV] .............. hidden_layer_sizes=441, score=1.000, total=   5.5s\n",
      "[CV] hidden_layer_sizes=441 ..........................................\n"
     ]
    },
    {
     "name": "stderr",
     "output_type": "stream",
     "text": [
      "[Parallel(n_jobs=1)]: Done   4 out of   4 | elapsed:   35.2s remaining:    0.0s\n"
     ]
    },
    {
     "name": "stdout",
     "output_type": "stream",
     "text": [
      "[CV] .............. hidden_layer_sizes=441, score=0.997, total=   5.7s\n",
      "[CV] hidden_layer_sizes=441 ..........................................\n",
      "[CV] .............. hidden_layer_sizes=441, score=0.986, total=   5.5s\n",
      "[CV] hidden_layer_sizes=211 ..........................................\n",
      "[CV] .............. hidden_layer_sizes=211, score=0.995, total=   3.9s\n",
      "[CV] hidden_layer_sizes=211 ..........................................\n",
      "[CV] .............. hidden_layer_sizes=211, score=0.997, total=   4.6s\n",
      "[CV] hidden_layer_sizes=211 ..........................................\n",
      "[CV] .............. hidden_layer_sizes=211, score=0.986, total=   3.8s\n",
      "[CV] hidden_layer_sizes=243 ..........................................\n",
      "[CV] .............. hidden_layer_sizes=243, score=0.995, total=   4.0s\n",
      "[CV] hidden_layer_sizes=243 ..........................................\n",
      "[CV] .............. hidden_layer_sizes=243, score=0.997, total=   4.1s\n",
      "[CV] hidden_layer_sizes=243 ..........................................\n",
      "[CV] .............. hidden_layer_sizes=243, score=0.986, total=   3.8s\n",
      "[CV] hidden_layer_sizes=982 ..........................................\n",
      "[CV] .............. hidden_layer_sizes=982, score=1.000, total=   9.8s\n",
      "[CV] hidden_layer_sizes=982 ..........................................\n",
      "[CV] .............. hidden_layer_sizes=982, score=0.997, total=   9.9s\n",
      "[CV] hidden_layer_sizes=982 ..........................................\n",
      "[CV] .............. hidden_layer_sizes=982, score=0.986, total=   8.5s\n"
     ]
    },
    {
     "name": "stderr",
     "output_type": "stream",
     "text": [
      "[Parallel(n_jobs=1)]: Done  15 out of  15 | elapsed:  1.6min finished\n"
     ]
    },
    {
     "name": "stdout",
     "output_type": "stream",
     "text": [
      "Nearest_Neighbors\n",
      "Fitting 3 folds for each of 5 candidates, totalling 15 fits\n",
      "[CV] n_neighbors=1 ...................................................\n",
      "[CV] ....................... n_neighbors=1, score=0.995, total=   0.1s\n",
      "[CV] n_neighbors=1 ...................................................\n",
      "[CV] ....................... n_neighbors=1, score=0.992, total=   0.0s\n",
      "[CV] n_neighbors=1 ...................................................\n",
      "[CV] ....................... n_neighbors=1, score=0.986, total=   0.0s\n",
      "[CV] n_neighbors=7 ...................................................\n",
      "[CV] ....................... n_neighbors=7, score=0.975, total=   0.0s\n",
      "[CV] n_neighbors=7 ...................................................\n",
      "[CV] ....................... n_neighbors=7, score=0.992, total=   0.0s\n",
      "[CV] n_neighbors=7 ...................................................\n"
     ]
    },
    {
     "name": "stderr",
     "output_type": "stream",
     "text": [
      "[Parallel(n_jobs=1)]: Using backend SequentialBackend with 1 concurrent workers.\n",
      "[Parallel(n_jobs=1)]: Done   1 out of   1 | elapsed:    0.1s remaining:    0.0s\n",
      "[Parallel(n_jobs=1)]: Done   2 out of   2 | elapsed:    0.1s remaining:    0.0s\n",
      "[Parallel(n_jobs=1)]: Done   3 out of   3 | elapsed:    0.1s remaining:    0.0s\n",
      "[Parallel(n_jobs=1)]: Done   4 out of   4 | elapsed:    0.2s remaining:    0.0s\n"
     ]
    },
    {
     "name": "stdout",
     "output_type": "stream",
     "text": [
      "[CV] ....................... n_neighbors=7, score=0.984, total=   0.0s\n",
      "[CV] n_neighbors=9 ...................................................\n",
      "[CV] ....................... n_neighbors=9, score=0.975, total=   0.0s\n",
      "[CV] n_neighbors=9 ...................................................\n",
      "[CV] ....................... n_neighbors=9, score=0.992, total=   0.0s\n",
      "[CV] n_neighbors=9 ...................................................\n",
      "[CV] ....................... n_neighbors=9, score=0.984, total=   0.0s\n",
      "[CV] n_neighbors=3 ...................................................\n",
      "[CV] ....................... n_neighbors=3, score=0.989, total=   0.0s\n",
      "[CV] n_neighbors=3 ...................................................\n",
      "[CV] ....................... n_neighbors=3, score=0.997, total=   0.0s\n",
      "[CV] n_neighbors=3 ...................................................\n",
      "[CV] ....................... n_neighbors=3, score=0.986, total=   0.0s\n",
      "[CV] n_neighbors=11 ..................................................\n",
      "[CV] ...................... n_neighbors=11, score=0.975, total=   0.0s\n",
      "[CV] n_neighbors=11 ..................................................\n",
      "[CV] ...................... n_neighbors=11, score=0.992, total=   0.0s\n",
      "[CV] n_neighbors=11 ..................................................\n",
      "[CV] ...................... n_neighbors=11, score=0.984, total=   0.0s\n",
      "Random_Forest\n",
      "Fitting 3 folds for each of 5 candidates, totalling 15 fits\n",
      "[CV] n_estimators=3000, bootstrap=True, min_samples_leaf=7, max_depth=6, min_samples_split=4, max_features=7, criterion=entropy \n"
     ]
    },
    {
     "name": "stderr",
     "output_type": "stream",
     "text": [
      "[Parallel(n_jobs=1)]: Done  15 out of  15 | elapsed:    0.5s finished\n",
      "[Parallel(n_jobs=1)]: Using backend SequentialBackend with 1 concurrent workers.\n"
     ]
    },
    {
     "name": "stdout",
     "output_type": "stream",
     "text": [
      "[CV]  n_estimators=3000, bootstrap=True, min_samples_leaf=7, max_depth=6, min_samples_split=4, max_features=7, criterion=entropy, score=0.989, total=  10.5s\n",
      "[CV] n_estimators=3000, bootstrap=True, min_samples_leaf=7, max_depth=6, min_samples_split=4, max_features=7, criterion=entropy \n"
     ]
    },
    {
     "name": "stderr",
     "output_type": "stream",
     "text": [
      "[Parallel(n_jobs=1)]: Done   1 out of   1 | elapsed:   10.5s remaining:    0.0s\n"
     ]
    },
    {
     "name": "stdout",
     "output_type": "stream",
     "text": [
      "[CV]  n_estimators=3000, bootstrap=True, min_samples_leaf=7, max_depth=6, min_samples_split=4, max_features=7, criterion=entropy, score=0.992, total=  10.5s\n",
      "[CV] n_estimators=3000, bootstrap=True, min_samples_leaf=7, max_depth=6, min_samples_split=4, max_features=7, criterion=entropy \n"
     ]
    },
    {
     "name": "stderr",
     "output_type": "stream",
     "text": [
      "[Parallel(n_jobs=1)]: Done   2 out of   2 | elapsed:   21.0s remaining:    0.0s\n"
     ]
    },
    {
     "name": "stdout",
     "output_type": "stream",
     "text": [
      "[CV]  n_estimators=3000, bootstrap=True, min_samples_leaf=7, max_depth=6, min_samples_split=4, max_features=7, criterion=entropy, score=0.984, total=  10.3s\n",
      "[CV] n_estimators=3000, bootstrap=False, min_samples_leaf=8, max_depth=None, min_samples_split=6, max_features=1, criterion=entropy \n"
     ]
    },
    {
     "name": "stderr",
     "output_type": "stream",
     "text": [
      "[Parallel(n_jobs=1)]: Done   3 out of   3 | elapsed:   31.3s remaining:    0.0s\n"
     ]
    },
    {
     "name": "stdout",
     "output_type": "stream",
     "text": [
      "[CV]  n_estimators=3000, bootstrap=False, min_samples_leaf=8, max_depth=None, min_samples_split=6, max_features=1, criterion=entropy, score=0.978, total=   5.7s\n",
      "[CV] n_estimators=3000, bootstrap=False, min_samples_leaf=8, max_depth=None, min_samples_split=6, max_features=1, criterion=entropy \n"
     ]
    },
    {
     "name": "stderr",
     "output_type": "stream",
     "text": [
      "[Parallel(n_jobs=1)]: Done   4 out of   4 | elapsed:   37.0s remaining:    0.0s\n"
     ]
    },
    {
     "name": "stdout",
     "output_type": "stream",
     "text": [
      "[CV]  n_estimators=3000, bootstrap=False, min_samples_leaf=8, max_depth=None, min_samples_split=6, max_features=1, criterion=entropy, score=0.986, total=   5.7s\n",
      "[CV] n_estimators=3000, bootstrap=False, min_samples_leaf=8, max_depth=None, min_samples_split=6, max_features=1, criterion=entropy \n",
      "[CV]  n_estimators=3000, bootstrap=False, min_samples_leaf=8, max_depth=None, min_samples_split=6, max_features=1, criterion=entropy, score=0.986, total=   5.7s\n",
      "[CV] n_estimators=3000, bootstrap=True, min_samples_leaf=3, max_depth=None, min_samples_split=7, max_features=8, criterion=gini \n",
      "[CV]  n_estimators=3000, bootstrap=True, min_samples_leaf=3, max_depth=None, min_samples_split=7, max_features=8, criterion=gini, score=0.989, total=   7.8s\n",
      "[CV] n_estimators=3000, bootstrap=True, min_samples_leaf=3, max_depth=None, min_samples_split=7, max_features=8, criterion=gini \n",
      "[CV]  n_estimators=3000, bootstrap=True, min_samples_leaf=3, max_depth=None, min_samples_split=7, max_features=8, criterion=gini, score=0.995, total=   7.9s\n",
      "[CV] n_estimators=3000, bootstrap=True, min_samples_leaf=3, max_depth=None, min_samples_split=7, max_features=8, criterion=gini \n",
      "[CV]  n_estimators=3000, bootstrap=True, min_samples_leaf=3, max_depth=None, min_samples_split=7, max_features=8, criterion=gini, score=0.984, total=   7.8s\n",
      "[CV] n_estimators=3000, bootstrap=False, min_samples_leaf=7, max_depth=6, min_samples_split=5, max_features=3, criterion=gini \n",
      "[CV]  n_estimators=3000, bootstrap=False, min_samples_leaf=7, max_depth=6, min_samples_split=5, max_features=3, criterion=gini, score=0.986, total=   5.7s\n",
      "[CV] n_estimators=3000, bootstrap=False, min_samples_leaf=7, max_depth=6, min_samples_split=5, max_features=3, criterion=gini \n",
      "[CV]  n_estimators=3000, bootstrap=False, min_samples_leaf=7, max_depth=6, min_samples_split=5, max_features=3, criterion=gini, score=0.992, total=   5.7s\n",
      "[CV] n_estimators=3000, bootstrap=False, min_samples_leaf=7, max_depth=6, min_samples_split=5, max_features=3, criterion=gini \n",
      "[CV]  n_estimators=3000, bootstrap=False, min_samples_leaf=7, max_depth=6, min_samples_split=5, max_features=3, criterion=gini, score=0.986, total=   5.6s\n",
      "[CV] n_estimators=3000, bootstrap=False, min_samples_leaf=10, max_depth=6, min_samples_split=6, max_features=7, criterion=entropy \n",
      "[CV]  n_estimators=3000, bootstrap=False, min_samples_leaf=10, max_depth=6, min_samples_split=6, max_features=7, criterion=entropy, score=0.989, total=  12.4s\n",
      "[CV] n_estimators=3000, bootstrap=False, min_samples_leaf=10, max_depth=6, min_samples_split=6, max_features=7, criterion=entropy \n",
      "[CV]  n_estimators=3000, bootstrap=False, min_samples_leaf=10, max_depth=6, min_samples_split=6, max_features=7, criterion=entropy, score=0.992, total=  12.7s\n",
      "[CV] n_estimators=3000, bootstrap=False, min_samples_leaf=10, max_depth=6, min_samples_split=6, max_features=7, criterion=entropy \n",
      "[CV]  n_estimators=3000, bootstrap=False, min_samples_leaf=10, max_depth=6, min_samples_split=6, max_features=7, criterion=entropy, score=0.984, total=  12.2s\n"
     ]
    },
    {
     "name": "stderr",
     "output_type": "stream",
     "text": [
      "[Parallel(n_jobs=1)]: Done  15 out of  15 | elapsed:  2.1min finished\n"
     ]
    },
    {
     "name": "stdout",
     "output_type": "stream",
     "text": [
      "SVM_Linear\n",
      "Fitting 3 folds for each of 5 candidates, totalling 15 fits\n",
      "[CV] kernel=linear, C=4096 ...........................................\n",
      "[CV] ............... kernel=linear, C=4096, score=1.000, total=   0.0s\n",
      "[CV] kernel=linear, C=4096 ...........................................\n",
      "[CV] ............... kernel=linear, C=4096, score=0.997, total=   0.0s\n",
      "[CV] kernel=linear, C=4096 ...........................................\n",
      "[CV] ............... kernel=linear, C=4096, score=0.995, total=   0.0s\n",
      "[CV] kernel=linear, C=512 ............................................\n",
      "[CV] ................ kernel=linear, C=512, score=1.000, total=   0.0s\n",
      "[CV] kernel=linear, C=512 ............................................\n",
      "[CV] ................ kernel=linear, C=512, score=0.997, total=   0.0s\n",
      "[CV] kernel=linear, C=512 ............................................\n",
      "[CV] ................ kernel=linear, C=512, score=0.995, total=   0.0s\n",
      "[CV] kernel=linear, C=16384 ..........................................\n"
     ]
    },
    {
     "name": "stderr",
     "output_type": "stream",
     "text": [
      "[Parallel(n_jobs=1)]: Using backend SequentialBackend with 1 concurrent workers.\n",
      "[Parallel(n_jobs=1)]: Done   1 out of   1 | elapsed:    0.0s remaining:    0.0s\n",
      "[Parallel(n_jobs=1)]: Done   2 out of   2 | elapsed:    0.1s remaining:    0.0s\n",
      "[Parallel(n_jobs=1)]: Done   3 out of   3 | elapsed:    0.1s remaining:    0.0s\n",
      "[Parallel(n_jobs=1)]: Done   4 out of   4 | elapsed:    0.1s remaining:    0.0s\n"
     ]
    },
    {
     "name": "stdout",
     "output_type": "stream",
     "text": [
      "[CV] .............. kernel=linear, C=16384, score=1.000, total=   0.0s\n",
      "[CV] kernel=linear, C=16384 ..........................................\n",
      "[CV] .............. kernel=linear, C=16384, score=0.997, total=   0.0s\n",
      "[CV] kernel=linear, C=16384 ..........................................\n",
      "[CV] .............. kernel=linear, C=16384, score=0.995, total=   0.0s\n",
      "[CV] kernel=linear, C=0.03125 ........................................\n",
      "[CV] ............ kernel=linear, C=0.03125, score=0.956, total=   0.1s\n",
      "[CV] kernel=linear, C=0.03125 ........................................\n",
      "[CV] ............ kernel=linear, C=0.03125, score=0.975, total=   0.1s\n",
      "[CV] kernel=linear, C=0.03125 ........................................\n",
      "[CV] ............ kernel=linear, C=0.03125, score=0.973, total=   0.1s\n",
      "[CV] kernel=linear, C=128 ............................................\n",
      "[CV] ................ kernel=linear, C=128, score=1.000, total=   0.0s\n",
      "[CV] kernel=linear, C=128 ............................................\n",
      "[CV] ................ kernel=linear, C=128, score=0.997, total=   0.0s\n",
      "[CV] kernel=linear, C=128 ............................................\n",
      "[CV] ................ kernel=linear, C=128, score=0.995, total=   0.0s\n"
     ]
    },
    {
     "name": "stderr",
     "output_type": "stream",
     "text": [
      "[Parallel(n_jobs=1)]: Done  15 out of  15 | elapsed:    0.6s finished\n",
      "[Parallel(n_jobs=1)]: Using backend SequentialBackend with 1 concurrent workers.\n",
      "[Parallel(n_jobs=1)]: Done   1 out of   1 | elapsed:    0.0s remaining:    0.0s\n",
      "[Parallel(n_jobs=1)]: Done   2 out of   2 | elapsed:    0.1s remaining:    0.0s\n",
      "[Parallel(n_jobs=1)]: Done   3 out of   3 | elapsed:    0.1s remaining:    0.0s\n",
      "[Parallel(n_jobs=1)]: Done   4 out of   4 | elapsed:    0.1s remaining:    0.0s\n"
     ]
    },
    {
     "name": "stdout",
     "output_type": "stream",
     "text": [
      "SVM_Polynomial\n",
      "Fitting 3 folds for each of 5 candidates, totalling 15 fits\n",
      "[CV] degree=5, kernel=poly, C=0.25 ...................................\n",
      "[CV] ....... degree=5, kernel=poly, C=0.25, score=0.995, total=   0.0s\n",
      "[CV] degree=5, kernel=poly, C=0.25 ...................................\n",
      "[CV] ....... degree=5, kernel=poly, C=0.25, score=0.997, total=   0.0s\n",
      "[CV] degree=5, kernel=poly, C=0.25 ...................................\n",
      "[CV] ....... degree=5, kernel=poly, C=0.25, score=0.989, total=   0.0s\n",
      "[CV] degree=7, kernel=poly, C=2 ......................................\n",
      "[CV] .......... degree=7, kernel=poly, C=2, score=1.000, total=   0.0s\n",
      "[CV] degree=7, kernel=poly, C=2 ......................................\n",
      "[CV] .......... degree=7, kernel=poly, C=2, score=1.000, total=   0.0s\n",
      "[CV] degree=7, kernel=poly, C=2 ......................................\n",
      "[CV] .......... degree=7, kernel=poly, C=2, score=0.992, total=   0.0s\n",
      "[CV] degree=3, kernel=poly, C=8192 ...................................\n",
      "[CV] ....... degree=3, kernel=poly, C=8192, score=1.000, total=   0.0s\n",
      "[CV] degree=3, kernel=poly, C=8192 ...................................\n",
      "[CV] ....... degree=3, kernel=poly, C=8192, score=1.000, total=   0.0s\n",
      "[CV] degree=3, kernel=poly, C=8192 ...................................\n",
      "[CV] ....... degree=3, kernel=poly, C=8192, score=0.995, total=   0.0s\n",
      "[CV] degree=9, kernel=poly, C=0.03125 ................................\n",
      "[CV] .... degree=9, kernel=poly, C=0.03125, score=1.000, total=   0.0s\n",
      "[CV] degree=9, kernel=poly, C=0.03125 ................................\n",
      "[CV] .... degree=9, kernel=poly, C=0.03125, score=1.000, total=   0.0s\n",
      "[CV] degree=9, kernel=poly, C=0.03125 ................................\n",
      "[CV] .... degree=9, kernel=poly, C=0.03125, score=0.992, total=   0.0s\n",
      "[CV] degree=7, kernel=poly, C=8192 ...................................\n",
      "[CV] ....... degree=7, kernel=poly, C=8192, score=1.000, total=   0.0s\n",
      "[CV] degree=7, kernel=poly, C=8192 ...................................\n",
      "[CV] ....... degree=7, kernel=poly, C=8192, score=1.000, total=   0.0s\n",
      "[CV] degree=7, kernel=poly, C=8192 ...................................\n",
      "[CV] ....... degree=7, kernel=poly, C=8192, score=0.992, total=   0.0s\n",
      "SVM_RBF\n",
      "Fitting 3 folds for each of 5 candidates, totalling 15 fits\n",
      "[CV] gamma=0.125, kernel=rbf, C=16384 ................................\n",
      "[CV] .... gamma=0.125, kernel=rbf, C=16384, score=1.000, total=   0.1s\n",
      "[CV] gamma=0.125, kernel=rbf, C=16384 ................................\n"
     ]
    },
    {
     "name": "stderr",
     "output_type": "stream",
     "text": [
      "[Parallel(n_jobs=1)]: Done  15 out of  15 | elapsed:    0.5s finished\n",
      "[Parallel(n_jobs=1)]: Using backend SequentialBackend with 1 concurrent workers.\n",
      "[Parallel(n_jobs=1)]: Done   1 out of   1 | elapsed:    0.1s remaining:    0.0s\n",
      "[Parallel(n_jobs=1)]: Done   2 out of   2 | elapsed:    0.1s remaining:    0.0s\n"
     ]
    },
    {
     "name": "stdout",
     "output_type": "stream",
     "text": [
      "[CV] .... gamma=0.125, kernel=rbf, C=16384, score=1.000, total=   0.1s\n",
      "[CV] gamma=0.125, kernel=rbf, C=16384 ................................\n",
      "[CV] .... gamma=0.125, kernel=rbf, C=16384, score=0.995, total=   0.1s\n",
      "[CV] gamma=2, kernel=rbf, C=256 ......................................\n"
     ]
    },
    {
     "name": "stderr",
     "output_type": "stream",
     "text": [
      "[Parallel(n_jobs=1)]: Done   3 out of   3 | elapsed:    0.2s remaining:    0.0s\n",
      "[Parallel(n_jobs=1)]: Done   4 out of   4 | elapsed:    0.3s remaining:    0.0s\n"
     ]
    },
    {
     "name": "stdout",
     "output_type": "stream",
     "text": [
      "[CV] .......... gamma=2, kernel=rbf, C=256, score=1.000, total=   0.2s\n",
      "[CV] gamma=2, kernel=rbf, C=256 ......................................\n",
      "[CV] .......... gamma=2, kernel=rbf, C=256, score=1.000, total=   0.2s\n",
      "[CV] gamma=2, kernel=rbf, C=256 ......................................\n",
      "[CV] .......... gamma=2, kernel=rbf, C=256, score=0.989, total=   0.2s\n",
      "[CV] gamma=0.03125, kernel=rbf, C=16 .................................\n",
      "[CV] ..... gamma=0.03125, kernel=rbf, C=16, score=0.995, total=   0.0s\n",
      "[CV] gamma=0.03125, kernel=rbf, C=16 .................................\n",
      "[CV] ..... gamma=0.03125, kernel=rbf, C=16, score=0.995, total=   0.0s\n",
      "[CV] gamma=0.03125, kernel=rbf, C=16 .................................\n",
      "[CV] ..... gamma=0.03125, kernel=rbf, C=16, score=0.986, total=   0.0s\n",
      "[CV] gamma=0.0625, kernel=rbf, C=16 ..................................\n",
      "[CV] ...... gamma=0.0625, kernel=rbf, C=16, score=0.995, total=   0.0s\n",
      "[CV] gamma=0.0625, kernel=rbf, C=16 ..................................\n",
      "[CV] ...... gamma=0.0625, kernel=rbf, C=16, score=0.997, total=   0.1s\n",
      "[CV] gamma=0.0625, kernel=rbf, C=16 ..................................\n",
      "[CV] ...... gamma=0.0625, kernel=rbf, C=16, score=0.989, total=   0.0s\n",
      "[CV] gamma=0.0001220703125, kernel=rbf, C=512 ........................\n",
      "[CV]  gamma=0.0001220703125, kernel=rbf, C=512, score=0.956, total=   0.1s\n",
      "[CV] gamma=0.0001220703125, kernel=rbf, C=512 ........................\n",
      "[CV]  gamma=0.0001220703125, kernel=rbf, C=512, score=0.978, total=   0.1s\n",
      "[CV] gamma=0.0001220703125, kernel=rbf, C=512 ........................\n",
      "[CV]  gamma=0.0001220703125, kernel=rbf, C=512, score=0.975, total=   0.1s\n",
      "random search: {'SVM_Polynomial': RandomizedSearchCV(cv=3, error_score=nan,\n",
      "                   estimator=SVC(C=1.0, break_ties=False, cache_size=200,\n",
      "                                 class_weight=None, coef0=0.0,\n",
      "                                 decision_function_shape='ovr', degree=3,\n",
      "                                 gamma='scale', kernel='poly', max_iter=3000,\n",
      "                                 probability=True, random_state=None,\n",
      "                                 shrinking=True, tol=0.001, verbose=False),\n",
      "                   iid='deprecated', n_iter=5, n_jobs=None,\n",
      "                   param_distributions={'C': [0.03125, 0.0625, 0.125, 0.25, 0.5,\n",
      "                                              1, 2, 4, 8, 16, 32, 64, 128, 256,\n",
      "                                              512, 1024, 2048, 4096, 8192,\n",
      "                                              16384],\n",
      "                                        'degree': [3, 5, 7, 9],\n",
      "                                        'kernel': ['poly']},\n",
      "                   pre_dispatch='2*n_jobs', random_state=None, refit=True,\n",
      "                   return_train_score=False, scoring='accuracy', verbose=5), 'MLP': RandomizedSearchCV(cv=3, error_score=nan,\n",
      "                   estimator=MLPClassifier(activation='relu', alpha=0.0001,\n",
      "                                           batch_size='auto', beta_1=0.9,\n",
      "                                           beta_2=0.999, early_stopping=False,\n",
      "                                           epsilon=1e-08,\n",
      "                                           hidden_layer_sizes=(100,),\n",
      "                                           learning_rate='constant',\n",
      "                                           learning_rate_init=0.0005,\n",
      "                                           max_fun=15000, max_iter=1000,\n",
      "                                           momentum=0.9, n_iter_no_change=10,\n",
      "                                           nesterovs_momentum=True, power_t=0.5,\n",
      "                                           rand...\n",
      "                                           solver='adam', tol=0.0001,\n",
      "                                           validation_fraction=0.1,\n",
      "                                           verbose=False, warm_start=False),\n",
      "                   iid='deprecated', n_iter=5, n_jobs=None,\n",
      "                   param_distributions={'hidden_layer_sizes': [2, 3, 4, 5, 6, 7,\n",
      "                                                               8, 9, 10, 11, 12,\n",
      "                                                               13, 14, 15, 16,\n",
      "                                                               17, 18, 19, 20,\n",
      "                                                               21, 22, 23, 24,\n",
      "                                                               25, 26, 27, 28,\n",
      "                                                               29, 30, 31, ...]},\n",
      "                   pre_dispatch='2*n_jobs', random_state=None, refit=True,\n",
      "                   return_train_score=False, scoring='accuracy', verbose=5), 'SVM_Linear': RandomizedSearchCV(cv=3, error_score=nan,\n",
      "                   estimator=SVC(C=1.0, break_ties=False, cache_size=200,\n",
      "                                 class_weight=None, coef0=0.0,\n",
      "                                 decision_function_shape='ovr', degree=3,\n",
      "                                 gamma='scale', kernel='linear', max_iter=3000,\n",
      "                                 probability=True, random_state=None,\n",
      "                                 shrinking=True, tol=0.001, verbose=False),\n",
      "                   iid='deprecated', n_iter=5, n_jobs=None,\n",
      "                   param_distributions={'C': [0.03125, 0.0625, 0.125, 0.25, 0.5,\n",
      "                                              1, 2, 4, 8, 16, 32, 64, 128, 256,\n",
      "                                              512, 1024, 2048, 4096, 8192,\n",
      "                                              16384],\n",
      "                                        'kernel': ['linear']},\n",
      "                   pre_dispatch='2*n_jobs', random_state=None, refit=True,\n",
      "                   return_train_score=False, scoring='accuracy', verbose=5), 'Naive_Bayes': [], 'SVM_RBF': RandomizedSearchCV(cv=3, error_score=nan,\n",
      "                   estimator=SVC(C=1.0, break_ties=False, cache_size=200,\n",
      "                                 class_weight=None, coef0=0.0,\n",
      "                                 decision_function_shape='ovr', degree=3,\n",
      "                                 gamma='scale', kernel='rbf', max_iter=3000,\n",
      "                                 probability=True, random_state=None,\n",
      "                                 shrinking=True, tol=0.001, verbose=False),\n",
      "                   iid='deprecated', n_iter=5, n_jobs=None,\n",
      "                   param_distributions={'C': [0.03125, 0.0...\n",
      "                                              1, 2, 4, 8, 16, 32, 64, 128, 256,\n",
      "                                              512, 1024, 2048, 4096, 8192,\n",
      "                                              16384],\n",
      "                                        'gamma': [3.0517578125e-05,\n",
      "                                                  6.103515625e-05,\n",
      "                                                  0.0001220703125,\n",
      "                                                  0.000244140625, 0.00048828125,\n",
      "                                                  0.0009765625, 0.001953125,\n",
      "                                                  0.00390625, 0.0078125,\n",
      "                                                  0.015625, 0.03125, 0.0625,\n",
      "                                                  0.125, 0.25, 0.5, 1, 2, 4],\n",
      "                                        'kernel': ['rbf']},\n",
      "                   pre_dispatch='2*n_jobs', random_state=None, refit=True,\n",
      "                   return_train_score=False, scoring='accuracy', verbose=5), 'Nearest_Neighbors': RandomizedSearchCV(cv=3, error_score=nan,\n",
      "                   estimator=KNeighborsClassifier(algorithm='auto',\n",
      "                                                  leaf_size=30,\n",
      "                                                  metric='minkowski',\n",
      "                                                  metric_params=None,\n",
      "                                                  n_jobs=None, n_neighbors=5,\n",
      "                                                  p=2, weights='uniform'),\n",
      "                   iid='deprecated', n_iter=5, n_jobs=None,\n",
      "                   param_distributions={'n_neighbors': [1, 3, 5, 7, 9, 11]},\n",
      "                   pre_dispatch='2*n_jobs', random_state=None, refit=True,\n",
      "                   return_train_score=False, scoring='accuracy', verbose=5), 'Random_Forest': RandomizedSearchCV(cv=3, error_score=nan,\n",
      "                   estimator=RandomForestClassifier(bootstrap=True,\n",
      "                                                    ccp_alpha=0.0,\n",
      "                                                    class_weight=None,\n",
      "                                                    criterion='gini',\n",
      "                                                    max_depth=None,\n",
      "                                                    max_features='auto',\n",
      "                                                    max_leaf_nodes=None,\n",
      "                                                    max_samples=None,\n",
      "                                                    min_impurity_decrease=0.0,\n",
      "                                                    min_impurity_split=None,\n",
      "                                                    min_samples_leaf=1,\n",
      "                                                    min_samples_split=2,\n",
      "                                                    min_weight_fraction_leaf=0.0,\n",
      "                                                    n_estimators=100,\n",
      "                                                    n_jobs...\n",
      "                                        'max_features': <scipy.stats._distn_infrastructure.rv_frozen object at 0x7f59daa30a58>,\n",
      "                                        'min_samples_leaf': <scipy.stats._distn_infrastructure.rv_frozen object at 0x7f59daa30ef0>,\n",
      "                                        'min_samples_split': <scipy.stats._distn_infrastructure.rv_frozen object at 0x7f59daa30c50>,\n",
      "                                        'n_estimators': [3000]},\n",
      "                   pre_dispatch='2*n_jobs', random_state=None, refit=True,\n",
      "                   return_train_score=False, scoring='accuracy', verbose=5)}\n"
     ]
    },
    {
     "name": "stderr",
     "output_type": "stream",
     "text": [
      "[Parallel(n_jobs=1)]: Done  15 out of  15 | elapsed:    1.2s finished\n"
     ]
    }
   ],
   "source": [
    "from sklearn.model_selection import RandomizedSearchCV\n",
    "\n",
    "for n_ds, dataset in enumerate(datasets_list):\n",
    "    X, y = dataset.iloc[:,:-1], dataset.iloc[:,-1]\n",
    "    random_search = dict((k,[]) for k in classifiers_name_list)\n",
    "    print(random_search)\n",
    "    for n_clf, classifier in enumerate(classifiers_list):\n",
    "        classifier_name = classifiers_name_list[n_clf]\n",
    "        print(classifier_name)\n",
    "        if n_clf != 0:\n",
    "            random_search[classifier_name] = RandomizedSearchCV(classifier, param_dist_dict[classifier_name], cv=3, \n",
    "                                                                n_iter=5, verbose=5, scoring='accuracy')\n",
    "            random_search[classifier_name].fit(X, y)\n",
    "    print(\"random search: {}\".format(random_search))  "
   ]
  },
  {
   "cell_type": "code",
   "execution_count": null,
   "metadata": {},
   "outputs": [],
   "source": []
  }
 ],
 "metadata": {
  "kernelspec": {
   "display_name": "Python 3",
   "language": "python",
   "name": "python3"
  },
  "language_info": {
   "codemirror_mode": {
    "name": "ipython",
    "version": 3
   },
   "file_extension": ".py",
   "mimetype": "text/x-python",
   "name": "python",
   "nbconvert_exporter": "python",
   "pygments_lexer": "ipython3",
   "version": "3.5.2"
  }
 },
 "nbformat": 4,
 "nbformat_minor": 4
}
