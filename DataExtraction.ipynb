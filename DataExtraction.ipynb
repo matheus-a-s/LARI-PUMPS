{
 "cells": [
  {
   "cell_type": "markdown",
   "metadata": {},
   "source": [
    "## Import libraries"
   ]
  },
  {
   "cell_type": "code",
   "execution_count": 2,
   "metadata": {},
   "outputs": [],
   "source": [
    "import pandas as pd\n",
    "import numpy as np\n",
    "import matplotlib.pyplot as plt\n",
    "from os import path\n",
    "import sklearn\n",
    "%matplotlib qt"
   ]
  },
  {
   "cell_type": "markdown",
   "metadata": {},
   "source": [
    "## Variables to set"
   ]
  },
  {
   "cell_type": "code",
   "execution_count": 3,
   "metadata": {},
   "outputs": [],
   "source": [
    "DATASET = \"32FINAL.csv\"\n",
    "DATA_PATH = path.join(\"..\", \"capture\", \"processed\", DATASET)\n",
    "SAMPLES_TO_VIEW = [2,240,500,780]"
   ]
  },
  {
   "cell_type": "markdown",
   "metadata": {},
   "source": [
    "## Load dataset"
   ]
  },
  {
   "cell_type": "code",
   "execution_count": 4,
   "metadata": {},
   "outputs": [],
   "source": [
    "dataset = pd.read_csv(DATA_PATH)\n",
    "# dataset"
   ]
  },
  {
   "cell_type": "code",
   "execution_count": 5,
   "metadata": {},
   "outputs": [
    {
     "name": "stdout",
     "output_type": "stream",
     "text": [
      "[0, 1, 2, 3, 4, 5, 6, 7, 8, 9, 10, 11, 12, 13, 14, 15, 16, 17, 18, 19, 20, 21, 22, 23, 24, 25, 26, 27, 28, 29, 30, 31, 32, 33, 34, 35, 36, 37, 38, 39, 40, 41, 42, 43, 44, 45, 46, 47, 48, 49, 50, 51, 52, 53, 54, 55, 56, 57, 58, 59, 60, 61, 62, 63, 64, 65, 66, 67, 68, 69, 70, 71, 72, 73, 74, 75, 76, 77, 78, 79, 80, 81, 82, 83, 84, 85, 86, 87, 88, 89, 90, 91, 92, 93, 94, 95, 96, 97, 98, 99]\n"
     ]
    }
   ],
   "source": [
    "X = [i for i in range(100)]\n",
    "print(X)"
   ]
  },
  {
   "cell_type": "markdown",
   "metadata": {},
   "source": [
    "## Generate a figure with plots of the initial samples"
   ]
  },
  {
   "cell_type": "code",
   "execution_count": 6,
   "metadata": {},
   "outputs": [],
   "source": [
    "fig, axs = plt.subplots(len(SAMPLES_TO_VIEW), 7, sharex='col', figsize=(21,len(SAMPLES_TO_VIEW)*3))\n",
    "for i in range(len(SAMPLES_TO_VIEW)):\n",
    "    for j in range(7):\n",
    "        y = dataset.iloc[i,j*100:(j+1)*100]\n",
    "        axs[i,j].plot(X, y)\n",
    "        if i == 0:\n",
    "            axs[i,j].set_title(dataset.columns[j*100][:-1], fontsize=15)\n",
    "\n",
    "fig.suptitle(\"Exemplo com \"+str(len(SAMPLES_TO_VIEW))+\" amostras\", fontsize=25)            \n",
    "plt.show()\n",
    "fig.savefig(path.join(\"..\",\"results\",\"plot\",DATASET[:-4]+\".PNG\"), dpi=300)"
   ]
  },
  {
   "cell_type": "markdown",
   "metadata": {},
   "source": [
    "## Import extraction libraries\n",
    "Using code from Navar M. M. Nascimento -> https://github.com/navarmn/feature_extraction_signal for Fourier and HOS extraction.\n",
    "Using code from Geraldo Luís Bezerra Ramalho -> Private's Google Colaboratory for extraction using Structural Cooccurrence Matrix - SCM method."
   ]
  },
  {
   "cell_type": "code",
   "execution_count": 7,
   "metadata": {},
   "outputs": [],
   "source": [
    "from src.feature_extraction import Fourier, HOS\n",
    "from src.SCM import SCM"
   ]
  },
  {
   "cell_type": "code",
   "execution_count": 34,
   "metadata": {},
   "outputs": [],
   "source": [
    "fe_fourier25 = Fourier(fundamental=25.0, fs=100.0, harmonics=(1, 10, 20, 30))\n",
    "fe_fourier30 = Fourier(fundamental=30.0, fs=100.0, harmonics=(1, 10, 20, 30))\n",
    "fe_fourier35 = Fourier(fundamental=35.0, fs=100.0, harmonics=(1, 10, 20, 30))\n",
    "fe_HOS = HOS()\n",
    "fe_SCM = SCM()"
   ]
  },
  {
   "cell_type": "markdown",
   "metadata": {},
   "source": [
    "Our dataset is composed by 1100 sensor captures (dataset rows). Each one has 100 samples per measures (AcX, AcY, AcZ, GyX, GyY, GyZ, Tmp). The Tmp values will be despized for this work. So, we need to extract each measure's vector and generate a new dataset with features."
   ]
  },
  {
   "cell_type": "code",
   "execution_count": 37,
   "metadata": {},
   "outputs": [],
   "source": [
    "# excluding Tmp columns\n",
    "tmp_head = []\n",
    "for i in range(100):\n",
    "    tmp = \"Tmp\"+str(i)\n",
    "    tmp_head.append(tmp)\n",
    "if \"Tmp0\" in dataset.columns:\n",
    "    dataset = dataset.drop(columns=tmp_head)\n",
    "tmp_head.clear()\n",
    "# dataset"
   ]
  },
  {
   "cell_type": "code",
   "execution_count": 36,
   "metadata": {},
   "outputs": [
    {
     "name": "stdout",
     "output_type": "stream",
     "text": [
      "AcX\n",
      "<class 'pandas.core.series.Series'>\n",
      "AcY\n",
      "<class 'pandas.core.series.Series'>\n",
      "AcZ\n",
      "<class 'pandas.core.series.Series'>\n",
      "GyX\n",
      "<class 'pandas.core.series.Series'>\n",
      "GyY\n",
      "<class 'pandas.core.series.Series'>\n",
      "GyZ\n",
      "<class 'pandas.core.series.Series'>\n"
     ]
    }
   ],
   "source": [
    "# example to fourier extract\n",
    "head = [\"AcX\", \"AcY\", \"AcZ\", \"GyX\", \"GyY\", \"GyZ\"]\n",
    "out_row_list = []\n",
    "dataset_test = dataset.iloc[0,:]\n",
    "if dataset_test['Class'] == 0:\n",
    "    dataset_fourier = dataset_test.drop(labels=[\"Class\"])\n",
    "    dataset_fourier = pd.DataFrame(np.reshape(dataset_fourier.values, (100,6), order='F'), columns=head)\n",
    "    for measure in head:\n",
    "        print(measure)\n",
    "        print(type(dataset_fourier[measure]))\n",
    "        out_fourier = fe_fourier25.transform(dataset_fourier[measure])\n",
    "        out_row_list.append(out_fourier)"
   ]
  },
  {
   "cell_type": "code",
   "execution_count": null,
   "metadata": {},
   "outputs": [],
   "source": []
  }
 ],
 "metadata": {
  "kernelspec": {
   "display_name": "Python 3",
   "language": "python",
   "name": "python3"
  },
  "language_info": {
   "codemirror_mode": {
    "name": "ipython",
    "version": 3
   },
   "file_extension": ".py",
   "mimetype": "text/x-python",
   "name": "python",
   "nbconvert_exporter": "python",
   "pygments_lexer": "ipython3",
   "version": "3.6.3"
  }
 },
 "nbformat": 4,
 "nbformat_minor": 4
}
