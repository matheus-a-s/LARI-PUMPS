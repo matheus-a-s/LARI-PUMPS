{
 "cells": [
  {
   "cell_type": "markdown",
   "metadata": {},
   "source": [
    "## Import libraries"
   ]
  },
  {
   "cell_type": "code",
   "execution_count": 31,
   "metadata": {},
   "outputs": [],
   "source": [
    "import pandas as pd\n",
    "import numpy as np\n",
    "import matplotlib.pyplot as plt\n",
    "from os import path\n",
    "import sklearn\n",
    "%matplotlib qt"
   ]
  },
  {
   "cell_type": "markdown",
   "metadata": {},
   "source": [
    "## Variables to set"
   ]
  },
  {
   "cell_type": "code",
   "execution_count": 32,
   "metadata": {},
   "outputs": [],
   "source": [
    "DATASET = \"32FINAL.csv\"\n",
    "DATAPATH = path.join(\"..\", \"capture\", \"processed\", DATASET)\n",
    "SAMPLES_TO_VIEW = [2,240,500,780]"
   ]
  },
  {
   "cell_type": "markdown",
   "metadata": {},
   "source": [
    "## Load dataset"
   ]
  },
  {
   "cell_type": "code",
   "execution_count": 33,
   "metadata": {},
   "outputs": [],
   "source": [
    "dataset = pd.read_csv(DATAPATH)\n",
    "# dataset"
   ]
  },
  {
   "cell_type": "code",
   "execution_count": 34,
   "metadata": {},
   "outputs": [
    {
     "name": "stdout",
     "output_type": "stream",
     "text": [
      "[0, 1, 2, 3, 4, 5, 6, 7, 8, 9, 10, 11, 12, 13, 14, 15, 16, 17, 18, 19, 20, 21, 22, 23, 24, 25, 26, 27, 28, 29, 30, 31, 32, 33, 34, 35, 36, 37, 38, 39, 40, 41, 42, 43, 44, 45, 46, 47, 48, 49, 50, 51, 52, 53, 54, 55, 56, 57, 58, 59, 60, 61, 62, 63, 64, 65, 66, 67, 68, 69, 70, 71, 72, 73, 74, 75, 76, 77, 78, 79, 80, 81, 82, 83, 84, 85, 86, 87, 88, 89, 90, 91, 92, 93, 94, 95, 96, 97, 98, 99]\n"
     ]
    }
   ],
   "source": [
    "X = [i for i in range(100)]\n",
    "print(X)"
   ]
  },
  {
   "cell_type": "markdown",
   "metadata": {},
   "source": [
    "## Generate a figure with plots of the initial samples"
   ]
  },
  {
   "cell_type": "code",
   "execution_count": 35,
   "metadata": {},
   "outputs": [],
   "source": [
    "fig, axs = plt.subplots(len(SAMPLES_TO_VIEW), 7, sharex='col', figsize=(21,len(SAMPLES_TO_VIEW)*3))\n",
    "for i in range(len(SAMPLES_TO_VIEW)):\n",
    "    for j in range(7):\n",
    "        y = dataset.iloc[i,j*100:(j+1)*100]\n",
    "        axs[i,j].plot(X, y)\n",
    "        if i == 0:\n",
    "            axs[i,j].set_title(dataset.columns[j*100][:-1], fontsize=15)\n",
    "\n",
    "fig.suptitle(\"Exemplo com \"+str(len(SAMPLES_TO_VIEW))+\" amostras\", fontsize=25)            \n",
    "plt.show()\n",
    "fig.savefig(path.join(\"..\",\"results\",\"extraction\",\"plot\",DATASET[:-4]+\".PNG\"), dpi=300)"
   ]
  },
  {
   "cell_type": "markdown",
   "metadata": {},
   "source": [
    "# Feature Extraction\n",
    "## Import extraction libraries\n",
    "Using code from Navar M. M. Nascimento -> https://github.com/navarmn/feature_extraction_signal for Fourier and HOS extraction.\n",
    "Using code from Geraldo Luís Bezerra Ramalho -> Private's Google Colaboratory for extraction using Structural Cooccurrence Matrix - SCM method."
   ]
  },
  {
   "cell_type": "code",
   "execution_count": 36,
   "metadata": {},
   "outputs": [],
   "source": [
    "from src.feature_extraction import Fourier, HOS\n",
    "from src.SCM import SCM"
   ]
  },
  {
   "cell_type": "code",
   "execution_count": 37,
   "metadata": {},
   "outputs": [],
   "source": [
    "fe_fourier25 = Fourier(fundamental=25.0, fs=100.0, harmonics=(1, 10, 20, 30))\n",
    "fe_fourier30 = Fourier(fundamental=30.0, fs=100.0, harmonics=(1, 10, 20, 30))\n",
    "fe_fourier35 = Fourier(fundamental=35.0, fs=100.0, harmonics=(1, 10, 20, 30))\n",
    "fe_HOS = HOS()\n",
    "fe_SCM = SCM()"
   ]
  },
  {
   "cell_type": "markdown",
   "metadata": {},
   "source": [
    "Our dataset is composed by 1100 sensor captures (dataset rows). Each one has 100 samples per measures (AcX, AcY, AcZ, GyX, GyY, GyZ, Tmp). The Tmp values will be despized for this work. So, we need to extract each measure's vector and generate a new dataset with features."
   ]
  },
  {
   "cell_type": "code",
   "execution_count": 38,
   "metadata": {},
   "outputs": [],
   "source": [
    "# excluding Tmp columns\n",
    "tmp_head = []\n",
    "for i in range(100):\n",
    "    tmp = \"Tmp\"+str(i)\n",
    "    tmp_head.append(tmp)\n",
    "if \"Tmp0\" in dataset.columns:\n",
    "    dataset = dataset.drop(columns=tmp_head)\n",
    "tmp_head.clear()\n",
    "# dataset"
   ]
  },
  {
   "cell_type": "markdown",
   "metadata": {},
   "source": [
    "## Fourier extraction\n",
    "Fourier's extractor receive as parameters: fundamental frequency, sampling frequency and harmonics (multiples) of the input signal. Each class needs to be extracted for different configurations of the object, since classes differ themselves by fundamental frequency.\n",
    "\n",
    "Each measure (AcX, AcY, AcZ, GyX, GyY and GyZ) are extracted separated, since they are different signals, with 100 values. After extraction, will be 4 attributes for each measure, resulting in a dataset with 1100 rows and 25 columns ((4 attributes X 6 measures) + Class)."
   ]
  },
  {
   "cell_type": "code",
   "execution_count": 39,
   "metadata": {},
   "outputs": [],
   "source": [
    "def fourier_extraction(dataset, extractors, measures):\n",
    "    out_data_list = []\n",
    "    out_row_list = []\n",
    "\n",
    "    for row in range(len(dataset.index)):\n",
    "        dataset_row = dataset.iloc[row,:]\n",
    "        class_num = dataset_row['Class']\n",
    "        dataset_fourier = dataset_row.values[:-1]\n",
    "        dataset_fourier = pd.DataFrame(np.reshape(dataset_fourier, (100,6), order='F'), columns=measures)\n",
    "        out_row_list.clear()\n",
    "        for measure in measures:\n",
    "            out_fourier = extractors[class_num].transform(dataset_fourier[measure])\n",
    "            out_row_list.append(out_fourier['features'])\n",
    "        out_row_list.append([class_num])\n",
    "        row_list = [item for sublist in out_row_list for item in sublist]\n",
    "        out_data_list.append(row_list)\n",
    "\n",
    "    out_head = []\n",
    "    for measure in measures:\n",
    "        for i in range(4):\n",
    "            column = measure+str(i)\n",
    "            out_head.append(column)\n",
    "    out_head.append(\"Class\")\n",
    "\n",
    "    out_data_list = np.asarray(out_data_list)\n",
    "    out_dataframe = pd.DataFrame(out_data_list, columns=out_head, index=None)\n",
    "    out_dataframe = out_dataframe.astype({\"Class\": int})\n",
    "    \n",
    "    return out_dataframe"
   ]
  },
  {
   "cell_type": "markdown",
   "metadata": {},
   "source": [
    "## HOS extraction\n",
    "Higher-Order Statistics extractor do not receive parameters. All classes will be extracted in the same way. The resulting feature vector corresponds to four statistics of the input signal: rms, variance, skewness and the kurtosis.\n",
    "\n",
    "Each measure (AcX, AcY, AcZ, GyX, GyY and GyZ) are extracted separated, since they are different signals, with 100 values. After extraction, will be 4 attributes for each measure, resulting in a dataset with 1100 rows and 25 columns ((4 attributes X 6 measures) + Class)."
   ]
  },
  {
   "cell_type": "code",
   "execution_count": 40,
   "metadata": {},
   "outputs": [],
   "source": [
    "def HOS_extraction(dataset, extractor, measures):\n",
    "    out_data_list = []\n",
    "    out_row_list = []\n",
    "\n",
    "    for row in range(len(dataset.index)):\n",
    "        dataset_row = dataset.iloc[row,:]\n",
    "        class_num = dataset_row['Class']\n",
    "        dataset_HOS = dataset_row.values[:-1]\n",
    "        dataset_HOS = pd.DataFrame(np.reshape(dataset_HOS, (100,6), order='F'), columns=measures)\n",
    "        out_row_list.clear()\n",
    "        for measure in measures:\n",
    "            out_HOS = extractor.transform(dataset_HOS[measure])\n",
    "            out_row_list.append(out_HOS['features'])\n",
    "        out_row_list.append([class_num])\n",
    "        row_list = [item for sublist in out_row_list for item in sublist]\n",
    "        out_data_list.append(row_list)\n",
    "\n",
    "    out_head = []\n",
    "    for measure in measures:\n",
    "        for i in range(4):\n",
    "            column = measure+str(i)\n",
    "            out_head.append(column)\n",
    "    out_head.append(\"Class\")\n",
    "\n",
    "    out_data_list = np.asarray(out_data_list)\n",
    "    out_dataframe = pd.DataFrame(out_data_list, columns=out_head, index=None)\n",
    "    out_dataframe = out_dataframe.astype({\"Class\": int})\n",
    "    \n",
    "    return out_dataframe"
   ]
  },
  {
   "cell_type": "markdown",
   "metadata": {},
   "source": [
    "## Extraction general\n",
    "\n",
    "After call all functions and generate dataframes with corresponding features, CSV's of each dataframe would be saved in destiny folder."
   ]
  },
  {
   "cell_type": "code",
   "execution_count": 41,
   "metadata": {},
   "outputs": [],
   "source": [
    "measures = [\"AcX\", \"AcY\", \"AcZ\", \"GyX\", \"GyY\", \"GyZ\"]\n",
    "fourier_extractors = [fe_fourier25, fe_fourier25, fe_fourier25, fe_fourier30, fe_fourier30, fe_fourier35] # class 0 to 5\n",
    "\n",
    "fourier_dataframe = fourier_extraction(dataset, fourier_extractors, measures)\n",
    "HOS_dataframe = HOS_extraction(dataset, fe_HOS, measures)\n",
    "# SCM_dataframe = SCM_extraction(dataset, fe_SCM, measures)\n",
    "\n",
    "fourier_dataframe.to_csv(path.join(\"..\",\"results\",\"extraction\", DATASET[:-4]+\"_Fourier.csv\"), sep=\",\", index=False)\n",
    "HOS_dataframe.to_csv(path.join(\"..\",\"results\",\"extraction\", DATASET[:-4]+\"_HOS.csv\"), sep=\",\", index=False)\n",
    "# SCM_dataframe.to_csv(path.join(\"..\",\"results\",\"extraction\", DATASET[:-4]+\"_SCM.csv\"), sep=\",\", index=False)"
   ]
  },
  {
   "cell_type": "markdown",
   "metadata": {},
   "source": [
    "# Features plotting\n",
    "\n",
    "Now, the features will be displayed, and the plot will be saved. That plot consists in a scatter matrix plot, which show a dispersion of elements, comparing pairs of features of a selected measure."
   ]
  },
  {
   "cell_type": "code",
   "execution_count": 42,
   "metadata": {},
   "outputs": [],
   "source": [
    "def discrete_cmap(N, base_cmap=None):\n",
    "    base = plt.cm.get_cmap(base_cmap)\n",
    "    color_list = base(np.linspace(0, 1, N))\n",
    "    cmap_name = base.name + str(N)\n",
    "    return base.from_list(cmap_name, color_list, N)\n",
    "\n",
    "def plot_features(data_name, dataframe, classes, features, features_name, extractor_name):\n",
    "    plt.rcParams[\"figure.subplot.right\"] = .8\n",
    "\n",
    "    fig = pd.plotting.scatter_matrix(out_dataframe[[f for f in features]], figsize=(24,13), \n",
    "                                     c=out_dataframe[\"Class\"], label=classes, s=100, alpha=.8, \n",
    "                                     cmap=discrete_cmap(6, 'rainbow'))\n",
    "\n",
    "\n",
    "\n",
    "    handles = [plt.plot([], [], color=discrete_cmap(6, 'rainbow')(i), ls=\"\", marker=\".\", \n",
    "                        markersize=np.sqrt(50))[0] for i in range(6)]\n",
    "\n",
    "    plt.legend(handles, classes, loc=(1.02,0))\n",
    "    plt.suptitle(data_name + \" - \" + features_name + \" - \" + extractor_name, fontsize=24)\n",
    "    plt.show()\n",
    "    plt.savefig(path.join(\"..\",\"results\",\"extraction\",\"plot\",data_name+\"_\"+features_name+\"_\"+extractor_name+\".png\"), \n",
    "                dpi=300)"
   ]
  },
  {
   "cell_type": "markdown",
   "metadata": {},
   "source": [
    "## Plotting general"
   ]
  },
  {
   "cell_type": "code",
   "execution_count": 43,
   "metadata": {},
   "outputs": [],
   "source": [
    "labels = [\"25 NORMAL\", \"25 REVERSO\", \"25 VAZIO\", \"30 NORMAL\", \"30 VAZIO\", \"35 NORMAL\"]\n",
    "features = [\"AcX0\", \"AcX1\", \"AcX2\", \"AcX3\"]\n",
    "features_name = \"AcX\"\n",
    "\n",
    "plot_features(DATASET[:-4], fourier_dataframe, labels, features, features_name, \"Fourier\")\n",
    "plot_features(DATASET[:-4], HOS_dataframe, labels, features, features_name, \"HOS\")\n",
    "# plot_features(DATASET[:-4], SCM_dataframe, labels, features, features_name, \"SCM\")"
   ]
  }
 ],
 "metadata": {
  "kernelspec": {
   "display_name": "Python 3",
   "language": "python",
   "name": "python3"
  },
  "language_info": {
   "codemirror_mode": {
    "name": "ipython",
    "version": 3
   },
   "file_extension": ".py",
   "mimetype": "text/x-python",
   "name": "python",
   "nbconvert_exporter": "python",
   "pygments_lexer": "ipython3",
   "version": "3.5.2"
  }
 },
 "nbformat": 4,
 "nbformat_minor": 4
}
